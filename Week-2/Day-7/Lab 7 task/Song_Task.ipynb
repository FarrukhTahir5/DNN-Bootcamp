{
 "cells": [
  {
   "cell_type": "code",
   "execution_count": 50,
   "metadata": {},
   "outputs": [],
   "source": [
    "import pandas as pd\n",
    "from sklearn.preprocessing import StandardScaler, OneHotEncoder\n",
    "from sklearn.compose import ColumnTransformer\n",
    "from sklearn.pipeline import Pipeline\n",
    "from sklearn.cluster import KMeans\n",
    "import matplotlib.pyplot as plt\n",
    "from sklearn.metrics import silhouette_score\n"
   ]
  },
  {
   "cell_type": "code",
   "execution_count": 51,
   "metadata": {},
   "outputs": [
    {
     "data": {
      "text/plain": [
       "Index(['Unnamed: 0', 'artist_name', 'track_name', 'release_date', 'genre',\n",
       "       'lyrics', 'len', 'dating', 'violence', 'world/life', 'night/time',\n",
       "       'shake the audience', 'family/gospel', 'romantic', 'communication',\n",
       "       'obscene', 'music', 'movement/places', 'light/visual perceptions',\n",
       "       'family/spiritual', 'like/girls', 'sadness', 'feelings', 'danceability',\n",
       "       'loudness', 'acousticness', 'instrumentalness', 'valence', 'energy',\n",
       "       'topic', 'age'],\n",
       "      dtype='object')"
      ]
     },
     "execution_count": 51,
     "metadata": {},
     "output_type": "execute_result"
    }
   ],
   "source": [
    "df=pd.read_csv('./songs_dataset.csv')\n",
    "df.columns"
   ]
  },
  {
   "cell_type": "code",
   "execution_count": 52,
   "metadata": {},
   "outputs": [
    {
     "data": {
      "text/plain": [
       "danceability        float64\n",
       "loudness            float64\n",
       "acousticness        float64\n",
       "instrumentalness    float64\n",
       "valence             float64\n",
       "energy              float64\n",
       "age                 float64\n",
       "dtype: object"
      ]
     },
     "execution_count": 52,
     "metadata": {},
     "output_type": "execute_result"
    }
   ],
   "source": [
    "col=['danceability','loudness', 'acousticness', 'instrumentalness', 'valence', 'energy', 'age']\n",
    "df=df[col]\n",
    "df.dtypes"
   ]
  },
  {
   "cell_type": "code",
   "execution_count": 53,
   "metadata": {},
   "outputs": [
    {
     "name": "stdout",
     "output_type": "stream",
     "text": [
      "(28372, 7)\n",
      "[[3.56571303e-01 4.54118914e-01 9.97991965e-01 9.04568528e-01\n",
      "  3.39447650e-01 1.37110188e-01 1.00000000e+00]\n",
      " [3.30264167e-01 6.47539933e-01 9.54819219e-01 1.53299492e-06\n",
      "  3.25020610e-01 2.63240253e-01 1.00000000e+00]\n",
      " [4.56319193e-01 5.85288311e-01 8.40361241e-01 0.00000000e+00\n",
      "  3.51813685e-01 1.39112253e-01 1.00000000e+00]\n",
      " [6.89795024e-01 7.44404277e-01 8.39345657e-02 2.00000000e-01\n",
      "  7.75350371e-01 7.43735740e-01 1.00000000e+00]\n",
      " [2.89707333e-01 6.46488732e-01 9.75903583e-01 2.46700508e-04\n",
      "  5.97073372e-01 3.94375480e-01 1.00000000e+00]]\n"
     ]
    }
   ],
   "source": [
    "# 2. Remove samples with missing values\n",
    "from sklearn import preprocessing\n",
    "df = df.dropna()\n",
    "numerical_features = col\n",
    "\n",
    "min_max_scaler = preprocessing.MinMaxScaler()\n",
    "\n",
    "# Fit and transform the data\n",
    "df_preprocessed = min_max_scaler.fit_transform(df[numerical_features])\n",
    "print(df_preprocessed.shape)\n",
    "print(df_preprocessed[:5, :])"
   ]
  },
  {
   "cell_type": "code",
   "execution_count": 54,
   "metadata": {},
   "outputs": [
    {
     "name": "stdout",
     "output_type": "stream",
     "text": [
      "The average silhouette score is 2 : 0.3274551664365639\n",
      "The average silhouette score is 3 : 0.32399288366618206\n",
      "The average silhouette score is 4 : 0.2724198615139095\n",
      "The average silhouette score is 5 : 0.2198402302065527\n",
      "The average silhouette score is 6 : 0.21465992468092734\n"
     ]
    }
   ],
   "source": [
    "# 4. Apply KMeans clustering\n",
    "for i in range(2,7):\n",
    "    kmeans = KMeans(n_clusters=i, random_state=42)\n",
    "    kmeans.fit(df_preprocessed)\n",
    "\n",
    "    # Add cluster labels to the original DataFrame\n",
    "    df['cluster'] = kmeans.labels_\n",
    "    silhouette_avg = silhouette_score(df_preprocessed, kmeans.labels_)\n",
    "    print(f\"The average silhouette score is {i} : {silhouette_avg}\")\n"
   ]
  },
  {
   "cell_type": "code",
   "execution_count": 37,
   "metadata": {},
   "outputs": [
    {
     "name": "stdout",
     "output_type": "stream",
     "text": [
      "The average silhouette score is: 0.3212552172797756\n"
     ]
    }
   ],
   "source": [
    "kmeans = KMeans(n_clusters=2, random_state=42)\n",
    "kmeans.fit(df_preprocessed)\n",
    "silhouette_avg = silhouette_score(df_preprocessed, kmeans.labels_)\n",
    "print(f\"The average silhouette score is: {silhouette_avg}\")\n"
   ]
  },
  {
   "cell_type": "code",
   "execution_count": null,
   "metadata": {},
   "outputs": [
    {
     "data": {
      "text/plain": [
       "['release_date', 'len', 'danceability', 'valence', 'loudness']"
      ]
     },
     "execution_count": 27,
     "metadata": {},
     "output_type": "execute_result"
    }
   ],
   "source": [
    "col"
   ]
  },
  {
   "cell_type": "code",
   "execution_count": null,
   "metadata": {},
   "outputs": [
    {
     "ename": "ValueError",
     "evalue": "could not convert string to float: 'release_date'",
     "output_type": "error",
     "traceback": [
      "\u001b[0;31m---------------------------------------------------------------------------\u001b[0m",
      "\u001b[0;31mValueError\u001b[0m                                Traceback (most recent call last)",
      "Cell \u001b[0;32mIn[29], line 37\u001b[0m\n\u001b[1;32m     34\u001b[0m user_input \u001b[38;5;241m=\u001b[39m np\u001b[38;5;241m.\u001b[39marray([[\u001b[38;5;124m'\u001b[39m\u001b[38;5;124mrelease_date\u001b[39m\u001b[38;5;124m'\u001b[39m, \u001b[38;5;124m'\u001b[39m\u001b[38;5;124mlen\u001b[39m\u001b[38;5;124m'\u001b[39m, \u001b[38;5;124m'\u001b[39m\u001b[38;5;124mdanceability\u001b[39m\u001b[38;5;124m'\u001b[39m, \u001b[38;5;124m'\u001b[39m\u001b[38;5;124mvalence\u001b[39m\u001b[38;5;124m'\u001b[39m, \u001b[38;5;124m'\u001b[39m\u001b[38;5;124mloudness\u001b[39m\u001b[38;5;124m'\u001b[39m]])\n\u001b[1;32m     36\u001b[0m \u001b[38;5;66;03m# Predict cluster for user input\u001b[39;00m\n\u001b[0;32m---> 37\u001b[0m predicted_cluster \u001b[38;5;241m=\u001b[39m \u001b[43mkmeans\u001b[49m\u001b[38;5;241;43m.\u001b[39;49m\u001b[43mpredict\u001b[49m\u001b[43m(\u001b[49m\u001b[43muser_input\u001b[49m\u001b[38;5;241;43m.\u001b[39;49m\u001b[43mreshape\u001b[49m\u001b[43m(\u001b[49m\u001b[38;5;241;43m1\u001b[39;49m\u001b[43m,\u001b[49m\u001b[43m \u001b[49m\u001b[38;5;241;43m-\u001b[39;49m\u001b[38;5;241;43m1\u001b[39;49m\u001b[43m)\u001b[49m\u001b[43m)\u001b[49m[\u001b[38;5;241m0\u001b[39m]\n\u001b[1;32m     39\u001b[0m \u001b[38;5;66;03m# Get songs from predicted cluster\u001b[39;00m\n\u001b[1;32m     40\u001b[0m cluster_songs \u001b[38;5;241m=\u001b[39m df[df[\u001b[38;5;124m'\u001b[39m\u001b[38;5;124mcluster\u001b[39m\u001b[38;5;124m'\u001b[39m] \u001b[38;5;241m==\u001b[39m predicted_cluster]\u001b[38;5;241m.\u001b[39mhead(\u001b[38;5;241m5\u001b[39m)  \u001b[38;5;66;03m# Adjust as per your dataset and preferences\u001b[39;00m\n",
      "File \u001b[0;32m~/anaconda3/lib/python3.9/site-packages/sklearn/cluster/_kmeans.py:1100\u001b[0m, in \u001b[0;36m_BaseKMeans.predict\u001b[0;34m(self, X, sample_weight)\u001b[0m\n\u001b[1;32m   1074\u001b[0m \u001b[38;5;250m\u001b[39m\u001b[38;5;124;03m\"\"\"Predict the closest cluster each sample in X belongs to.\u001b[39;00m\n\u001b[1;32m   1075\u001b[0m \n\u001b[1;32m   1076\u001b[0m \u001b[38;5;124;03mIn the vector quantization literature, `cluster_centers_` is called\u001b[39;00m\n\u001b[0;32m   (...)\u001b[0m\n\u001b[1;32m   1096\u001b[0m \u001b[38;5;124;03m    Index of the cluster each sample belongs to.\u001b[39;00m\n\u001b[1;32m   1097\u001b[0m \u001b[38;5;124;03m\"\"\"\u001b[39;00m\n\u001b[1;32m   1098\u001b[0m check_is_fitted(\u001b[38;5;28mself\u001b[39m)\n\u001b[0;32m-> 1100\u001b[0m X \u001b[38;5;241m=\u001b[39m \u001b[38;5;28;43mself\u001b[39;49m\u001b[38;5;241;43m.\u001b[39;49m\u001b[43m_check_test_data\u001b[49m\u001b[43m(\u001b[49m\u001b[43mX\u001b[49m\u001b[43m)\u001b[49m\n\u001b[1;32m   1101\u001b[0m \u001b[38;5;28;01mif\u001b[39;00m \u001b[38;5;129;01mnot\u001b[39;00m (\u001b[38;5;28misinstance\u001b[39m(sample_weight, \u001b[38;5;28mstr\u001b[39m) \u001b[38;5;129;01mand\u001b[39;00m sample_weight \u001b[38;5;241m==\u001b[39m \u001b[38;5;124m\"\u001b[39m\u001b[38;5;124mdeprecated\u001b[39m\u001b[38;5;124m\"\u001b[39m):\n\u001b[1;32m   1102\u001b[0m     warnings\u001b[38;5;241m.\u001b[39mwarn(\n\u001b[1;32m   1103\u001b[0m         (\n\u001b[1;32m   1104\u001b[0m             \u001b[38;5;124m\"\u001b[39m\u001b[38;5;124m'\u001b[39m\u001b[38;5;124msample_weight\u001b[39m\u001b[38;5;124m'\u001b[39m\u001b[38;5;124m was deprecated in version 1.3 and \u001b[39m\u001b[38;5;124m\"\u001b[39m\n\u001b[0;32m   (...)\u001b[0m\n\u001b[1;32m   1107\u001b[0m         \u001b[38;5;167;01mFutureWarning\u001b[39;00m,\n\u001b[1;32m   1108\u001b[0m     )\n",
      "File \u001b[0;32m~/anaconda3/lib/python3.9/site-packages/sklearn/cluster/_kmeans.py:952\u001b[0m, in \u001b[0;36m_BaseKMeans._check_test_data\u001b[0;34m(self, X)\u001b[0m\n\u001b[1;32m    951\u001b[0m \u001b[38;5;28;01mdef\u001b[39;00m \u001b[38;5;21m_check_test_data\u001b[39m(\u001b[38;5;28mself\u001b[39m, X):\n\u001b[0;32m--> 952\u001b[0m     X \u001b[38;5;241m=\u001b[39m \u001b[38;5;28;43mself\u001b[39;49m\u001b[38;5;241;43m.\u001b[39;49m\u001b[43m_validate_data\u001b[49m\u001b[43m(\u001b[49m\n\u001b[1;32m    953\u001b[0m \u001b[43m        \u001b[49m\u001b[43mX\u001b[49m\u001b[43m,\u001b[49m\n\u001b[1;32m    954\u001b[0m \u001b[43m        \u001b[49m\u001b[43maccept_sparse\u001b[49m\u001b[38;5;241;43m=\u001b[39;49m\u001b[38;5;124;43m\"\u001b[39;49m\u001b[38;5;124;43mcsr\u001b[39;49m\u001b[38;5;124;43m\"\u001b[39;49m\u001b[43m,\u001b[49m\n\u001b[1;32m    955\u001b[0m \u001b[43m        \u001b[49m\u001b[43mreset\u001b[49m\u001b[38;5;241;43m=\u001b[39;49m\u001b[38;5;28;43;01mFalse\u001b[39;49;00m\u001b[43m,\u001b[49m\n\u001b[1;32m    956\u001b[0m \u001b[43m        \u001b[49m\u001b[43mdtype\u001b[49m\u001b[38;5;241;43m=\u001b[39;49m\u001b[43m[\u001b[49m\u001b[43mnp\u001b[49m\u001b[38;5;241;43m.\u001b[39;49m\u001b[43mfloat64\u001b[49m\u001b[43m,\u001b[49m\u001b[43m \u001b[49m\u001b[43mnp\u001b[49m\u001b[38;5;241;43m.\u001b[39;49m\u001b[43mfloat32\u001b[49m\u001b[43m]\u001b[49m\u001b[43m,\u001b[49m\n\u001b[1;32m    957\u001b[0m \u001b[43m        \u001b[49m\u001b[43morder\u001b[49m\u001b[38;5;241;43m=\u001b[39;49m\u001b[38;5;124;43m\"\u001b[39;49m\u001b[38;5;124;43mC\u001b[39;49m\u001b[38;5;124;43m\"\u001b[39;49m\u001b[43m,\u001b[49m\n\u001b[1;32m    958\u001b[0m \u001b[43m        \u001b[49m\u001b[43maccept_large_sparse\u001b[49m\u001b[38;5;241;43m=\u001b[39;49m\u001b[38;5;28;43;01mFalse\u001b[39;49;00m\u001b[43m,\u001b[49m\n\u001b[1;32m    959\u001b[0m \u001b[43m    \u001b[49m\u001b[43m)\u001b[49m\n\u001b[1;32m    960\u001b[0m     \u001b[38;5;28;01mreturn\u001b[39;00m X\n",
      "File \u001b[0;32m~/anaconda3/lib/python3.9/site-packages/sklearn/base.py:633\u001b[0m, in \u001b[0;36mBaseEstimator._validate_data\u001b[0;34m(self, X, y, reset, validate_separately, cast_to_ndarray, **check_params)\u001b[0m\n\u001b[1;32m    631\u001b[0m         out \u001b[38;5;241m=\u001b[39m X, y\n\u001b[1;32m    632\u001b[0m \u001b[38;5;28;01melif\u001b[39;00m \u001b[38;5;129;01mnot\u001b[39;00m no_val_X \u001b[38;5;129;01mand\u001b[39;00m no_val_y:\n\u001b[0;32m--> 633\u001b[0m     out \u001b[38;5;241m=\u001b[39m \u001b[43mcheck_array\u001b[49m\u001b[43m(\u001b[49m\u001b[43mX\u001b[49m\u001b[43m,\u001b[49m\u001b[43m \u001b[49m\u001b[43minput_name\u001b[49m\u001b[38;5;241;43m=\u001b[39;49m\u001b[38;5;124;43m\"\u001b[39;49m\u001b[38;5;124;43mX\u001b[39;49m\u001b[38;5;124;43m\"\u001b[39;49m\u001b[43m,\u001b[49m\u001b[43m \u001b[49m\u001b[38;5;241;43m*\u001b[39;49m\u001b[38;5;241;43m*\u001b[39;49m\u001b[43mcheck_params\u001b[49m\u001b[43m)\u001b[49m\n\u001b[1;32m    634\u001b[0m \u001b[38;5;28;01melif\u001b[39;00m no_val_X \u001b[38;5;129;01mand\u001b[39;00m \u001b[38;5;129;01mnot\u001b[39;00m no_val_y:\n\u001b[1;32m    635\u001b[0m     out \u001b[38;5;241m=\u001b[39m _check_y(y, \u001b[38;5;241m*\u001b[39m\u001b[38;5;241m*\u001b[39mcheck_params)\n",
      "File \u001b[0;32m~/anaconda3/lib/python3.9/site-packages/sklearn/utils/validation.py:997\u001b[0m, in \u001b[0;36mcheck_array\u001b[0;34m(array, accept_sparse, accept_large_sparse, dtype, order, copy, force_all_finite, ensure_2d, allow_nd, ensure_min_samples, ensure_min_features, estimator, input_name)\u001b[0m\n\u001b[1;32m    995\u001b[0m         array \u001b[38;5;241m=\u001b[39m xp\u001b[38;5;241m.\u001b[39mastype(array, dtype, copy\u001b[38;5;241m=\u001b[39m\u001b[38;5;28;01mFalse\u001b[39;00m)\n\u001b[1;32m    996\u001b[0m     \u001b[38;5;28;01melse\u001b[39;00m:\n\u001b[0;32m--> 997\u001b[0m         array \u001b[38;5;241m=\u001b[39m \u001b[43m_asarray_with_order\u001b[49m\u001b[43m(\u001b[49m\u001b[43marray\u001b[49m\u001b[43m,\u001b[49m\u001b[43m \u001b[49m\u001b[43morder\u001b[49m\u001b[38;5;241;43m=\u001b[39;49m\u001b[43morder\u001b[49m\u001b[43m,\u001b[49m\u001b[43m \u001b[49m\u001b[43mdtype\u001b[49m\u001b[38;5;241;43m=\u001b[39;49m\u001b[43mdtype\u001b[49m\u001b[43m,\u001b[49m\u001b[43m \u001b[49m\u001b[43mxp\u001b[49m\u001b[38;5;241;43m=\u001b[39;49m\u001b[43mxp\u001b[49m\u001b[43m)\u001b[49m\n\u001b[1;32m    998\u001b[0m \u001b[38;5;28;01mexcept\u001b[39;00m ComplexWarning \u001b[38;5;28;01mas\u001b[39;00m complex_warning:\n\u001b[1;32m    999\u001b[0m     \u001b[38;5;28;01mraise\u001b[39;00m \u001b[38;5;167;01mValueError\u001b[39;00m(\n\u001b[1;32m   1000\u001b[0m         \u001b[38;5;124m\"\u001b[39m\u001b[38;5;124mComplex data not supported\u001b[39m\u001b[38;5;130;01m\\n\u001b[39;00m\u001b[38;5;132;01m{}\u001b[39;00m\u001b[38;5;130;01m\\n\u001b[39;00m\u001b[38;5;124m\"\u001b[39m\u001b[38;5;241m.\u001b[39mformat(array)\n\u001b[1;32m   1001\u001b[0m     ) \u001b[38;5;28;01mfrom\u001b[39;00m \u001b[38;5;21;01mcomplex_warning\u001b[39;00m\n",
      "File \u001b[0;32m~/anaconda3/lib/python3.9/site-packages/sklearn/utils/_array_api.py:521\u001b[0m, in \u001b[0;36m_asarray_with_order\u001b[0;34m(array, dtype, order, copy, xp)\u001b[0m\n\u001b[1;32m    519\u001b[0m     array \u001b[38;5;241m=\u001b[39m numpy\u001b[38;5;241m.\u001b[39marray(array, order\u001b[38;5;241m=\u001b[39morder, dtype\u001b[38;5;241m=\u001b[39mdtype)\n\u001b[1;32m    520\u001b[0m \u001b[38;5;28;01melse\u001b[39;00m:\n\u001b[0;32m--> 521\u001b[0m     array \u001b[38;5;241m=\u001b[39m \u001b[43mnumpy\u001b[49m\u001b[38;5;241;43m.\u001b[39;49m\u001b[43masarray\u001b[49m\u001b[43m(\u001b[49m\u001b[43marray\u001b[49m\u001b[43m,\u001b[49m\u001b[43m \u001b[49m\u001b[43morder\u001b[49m\u001b[38;5;241;43m=\u001b[39;49m\u001b[43morder\u001b[49m\u001b[43m,\u001b[49m\u001b[43m \u001b[49m\u001b[43mdtype\u001b[49m\u001b[38;5;241;43m=\u001b[39;49m\u001b[43mdtype\u001b[49m\u001b[43m)\u001b[49m\n\u001b[1;32m    523\u001b[0m \u001b[38;5;66;03m# At this point array is a NumPy ndarray. We convert it to an array\u001b[39;00m\n\u001b[1;32m    524\u001b[0m \u001b[38;5;66;03m# container that is consistent with the input's namespace.\u001b[39;00m\n\u001b[1;32m    525\u001b[0m \u001b[38;5;28;01mreturn\u001b[39;00m xp\u001b[38;5;241m.\u001b[39masarray(array)\n",
      "\u001b[0;31mValueError\u001b[0m: could not convert string to float: 'release_date'"
     ]
    }
   ],
   "source": [
    "from sklearn.cluster import KMeans\n",
    "import numpy as np\n",
    "import numpy as np\n",
    "\n",
    "# Define phrase_to_preferences with expanded phrases and preferences\n",
    "phrase_to_preferences = {\n",
    "    \"party music\": {'genre': 'dance', 'danceability': 0.8, 'energy': 0.8},\n",
    "    \"relaxing tunes\": {'valence': 0.3, 'energy': 0.4},\n",
    "    \"upbeat songs\": {'valence': 0.7, 'energy': 0.7},\n",
    "    \"chill vibes\": {'energy': 0.3, 'acousticness': 0.6},\n",
    "    \"instrumental focus\": {'instrumentalness': 0.8, 'energy': 0.4},\n",
    "    \"energetic tracks\": {'energy': 0.8, 'loudness': 0.8, 'danceability': 0.7},\n",
    "    \"acoustic melodies\": {'acousticness': 0.7, 'energy': 0.4},\n",
    "    \"emotional ballads\": {'feelings': 0.7, 'energy': 0.5, 'acousticness': 0.4},\n",
    "    # Add more phrases and preferences as needed\n",
    "}\n",
    "\n",
    "# Example: Ask user for statement input\n",
    "user_statement = input(\"Please enter your statement (e.g., 'party music'): \")\n",
    "\n",
    "# Assume user_statement is one of the phrases defined\n",
    "if user_statement.lower() in phrase_to_preferences:\n",
    "    preferences = phrase_to_preferences[user_statement.lower()]\n",
    "\n",
    "    # Extract preferences\n",
    "    danceability = preferences.get('danceability', 0.5)\n",
    "    loudness = preferences.get('loudness', 0.5)\n",
    "    acousticness = preferences.get('acousticness', 0.5)\n",
    "    instrumentalness = preferences.get('instrumentalness', 0.5)\n",
    "    energy = preferences.get('energy', 0.5)\n",
    "    feelings = preferences.get('feelings', 0.5)\n",
    "\n",
    "    # Preprocess user input (assuming df_preprocessed columns order)\n",
    "    user_input = np.array([['len', 'danceability', 'valence', 'loudness']])\n",
    "\n",
    "    # Predict cluster for user input\n",
    "    predicted_cluster = kmeans.predict(user_input.reshape(1, -1))[0]\n",
    "\n",
    "    # Get songs from predicted cluster\n",
    "    cluster_songs = df[df['cluster'] == predicted_cluster].head(5)  # Adjust as per your dataset and preferences\n",
    "\n",
    "    # Recommend songs\n",
    "    print(f\"\\nRecommended Songs for '{user_statement}':\")\n",
    "    for index, row in cluster_songs.iterrows():\n",
    "        print(f\"Song: {row['track_name']}, Genre: {row['genre']}\")\n",
    "else:\n",
    "    print(\"Sorry, the statement is not recognized. Please try again with a different statement.\")\n"
   ]
  },
  {
   "cell_type": "code",
   "execution_count": null,
   "metadata": {},
   "outputs": [],
   "source": []
  }
 ],
 "metadata": {
  "kernelspec": {
   "display_name": "base",
   "language": "python",
   "name": "python3"
  },
  "language_info": {
   "codemirror_mode": {
    "name": "ipython",
    "version": 3
   },
   "file_extension": ".py",
   "mimetype": "text/x-python",
   "name": "python",
   "nbconvert_exporter": "python",
   "pygments_lexer": "ipython3",
   "version": "3.9.18"
  }
 },
 "nbformat": 4,
 "nbformat_minor": 2
}
