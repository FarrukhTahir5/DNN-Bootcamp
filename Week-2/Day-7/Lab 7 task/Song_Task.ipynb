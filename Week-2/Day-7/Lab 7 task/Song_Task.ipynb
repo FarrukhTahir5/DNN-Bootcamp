{
 "cells": [
  {
   "cell_type": "code",
   "execution_count": 17,
   "metadata": {},
   "outputs": [],
   "source": [
    "dt=pd.read_csv('./songs_dataset.csv')"
   ]
  },
  {
   "cell_type": "code",
   "execution_count": 28,
   "metadata": {},
   "outputs": [],
   "source": [
    "def categorize_feelings(feeling):\n",
    "    feeling_map = {\n",
    "        \"Happy\": 1,\n",
    "        \"Sad\": 2,\n",
    "        \"Neutral\": 3,\n",
    "        \"Excited\": 4\n",
    "    }\n",
    "    return feeling_map.get(feeling, 0)  # Return 0 or handle unknown feelings as needed\n"
   ]
  },
  {
   "cell_type": "code",
   "execution_count": 29,
   "metadata": {},
   "outputs": [],
   "source": [
    "def categorize_topic(topic):\n",
    "    topic_map = {\n",
    "        \"Party\": 1,\n",
    "        \"Hip Hop\": 2,\n",
    "        \"Rock\": 3,\n",
    "        \"Jazz\": 4,\n",
    "        \"Electronic\": 5,\n",
    "        # Add more topics as needed\n",
    "    }\n",
    "    return topic_map.get(topic, 0)  # Return 0 or handle unknown topics as needed\n"
   ]
  },
  {
   "cell_type": "code",
   "execution_count": 36,
   "metadata": {},
   "outputs": [
    {
     "name": "stderr",
     "output_type": "stream",
     "text": [
      "/Users/student/anaconda3/lib/python3.9/site-packages/sklearn/cluster/_kmeans.py:1412: FutureWarning: The default value of `n_init` will change from 10 to 'auto' in 1.4. Set the value of `n_init` explicitly to suppress the warning\n",
      "  super()._check_params_vs_input(X, default_n_init=10)\n"
     ]
    },
    {
     "name": "stdout",
     "output_type": "stream",
     "text": [
      "Available topics and their codes:\n",
      "Topic: sadness, Code: 5\n",
      "Topic: world/life, Code: 7\n",
      "Topic: music, Code: 1\n",
      "Topic: romantic, Code: 4\n",
      "Topic: violence, Code: 6\n",
      "Topic: obscene, Code: 3\n",
      "Topic: night/time, Code: 2\n",
      "Topic: feelings, Code: 0\n",
      "\n",
      "Top Recommendations:\n",
      "                               track_name        artist_name    genre\n",
      "27612  ice ice baby (re-recorded version)        vanilla ice  hip hop\n",
      "18883                      black is black    jungle brothers     jazz\n",
      "5619                        give it to me          timbaland      pop\n",
      "5477           sexyback (feat. timbaland)  justin timberlake      pop\n",
      "6845                             bad liar       selena gomez      pop\n"
     ]
    },
    {
     "name": "stderr",
     "output_type": "stream",
     "text": [
      "/Users/student/anaconda3/lib/python3.9/site-packages/sklearn/base.py:464: UserWarning: X does not have valid feature names, but StandardScaler was fitted with feature names\n",
      "  warnings.warn(\n"
     ]
    }
   ],
   "source": [
    "import pandas as pd\n",
    "from sklearn.preprocessing import StandardScaler\n",
    "from sklearn.cluster import KMeans\n",
    "from sklearn.metrics import silhouette_score\n",
    "\n",
    "# Load dataset\n",
    "df = pd.read_csv('./Songs_Dataset.csv')\n",
    "\n",
    "# Convert 'topic' column to numerical values\n",
    "df['topic_code'] = pd.Categorical(df['topic']).codes\n",
    "\n",
    "# Define numerical features for clustering\n",
    "features = ['danceability', 'loudness', 'acousticness', 'instrumentalness', 'valence', 'energy', 'feelings', 'topic_code']\n",
    "\n",
    "# Remove unnecessary columns and handle missing data\n",
    "X = df[features].dropna()\n",
    "\n",
    "# Standardize numerical features\n",
    "scaler = StandardScaler()\n",
    "X_scaled = scaler.fit_transform(X)\n",
    "\n",
    "# Apply KMeans clustering\n",
    "kmeans = KMeans(n_clusters=5, random_state=42)\n",
    "kmeans.fit(X_scaled)\n",
    "\n",
    "# Get cluster labels and silhouette score\n",
    "labels = kmeans.labels_\n",
    "silhouette_avg = silhouette_score(X_scaled, labels)\n",
    "\n",
    "# Add cluster labels to DataFrame\n",
    "df['Cluster'] = labels\n",
    "\n",
    "# Function to recommend songs based on user inputs\n",
    "def recommend_songs(user_feelings, favorite_topic, num_recommendations=5):\n",
    "    user_input = [user_feelings, favorite_topic]\n",
    "    user_input_scaled = scaler.transform([user_input + [0] * (len(features) - len(user_input))])[0]\n",
    "    predicted_cluster = kmeans.predict([user_input_scaled])[0]\n",
    "    \n",
    "    cluster_df = df[df['Cluster'] == predicted_cluster]\n",
    "    \n",
    "    if not cluster_df.empty:\n",
    "        cluster_df = cluster_df.sort_values(by=features[0], ascending=False)  # Sorting by 'danceability' as an example\n",
    "        recommendations = cluster_df.head(num_recommendations)\n",
    "        return recommendations[['track_name', 'artist_name', 'genre']]\n",
    "    else:\n",
    "        return pd.DataFrame(columns=['track_name', 'artist_name', 'genre'])\n",
    "\n",
    "# Function to get user input\n",
    "def get_user_input():\n",
    "    while True:\n",
    "        try:\n",
    "            user_feelings = float(input(\"How are you feeling today? (Enter a number between 0.0 and 1.0): \"))\n",
    "            if not (0.0 <= user_feelings <= 1.0):\n",
    "                raise ValueError(\"Feeling score should be between 0.0 and 1.0\")\n",
    "            \n",
    "            print(\"Available topics and their codes:\")\n",
    "            for code, topic in zip(df['topic_code'].unique(), df['topic'].unique()):\n",
    "                print(f\"Topic: {topic}, Code: {code}\")\n",
    "            \n",
    "            favorite_topic = int(input(\"What is your favorite topic? (Enter the topic code): \"))\n",
    "            \n",
    "            return user_feelings, favorite_topic\n",
    "        \n",
    "        except ValueError as e:\n",
    "            print(f\"Error: {e}. Please enter valid input.\")\n",
    "\n",
    "# Example: Get user input and recommend songs\n",
    "user_feelings, favorite_topic = get_user_input()\n",
    "recommended_songs = recommend_songs(user_feelings, favorite_topic)\n",
    "\n",
    "print(\"\\nTop Recommendations:\")\n",
    "print(recommended_songs)\n"
   ]
  },
  {
   "cell_type": "code",
   "execution_count": null,
   "metadata": {},
   "outputs": [],
   "source": []
  }
 ],
 "metadata": {
  "kernelspec": {
   "display_name": "base",
   "language": "python",
   "name": "python3"
  },
  "language_info": {
   "codemirror_mode": {
    "name": "ipython",
    "version": 3
   },
   "file_extension": ".py",
   "mimetype": "text/x-python",
   "name": "python",
   "nbconvert_exporter": "python",
   "pygments_lexer": "ipython3",
   "version": "3.9.18"
  }
 },
 "nbformat": 4,
 "nbformat_minor": 2
}
