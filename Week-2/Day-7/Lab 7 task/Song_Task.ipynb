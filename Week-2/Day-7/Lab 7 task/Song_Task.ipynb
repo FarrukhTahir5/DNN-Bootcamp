{
 "cells": [
  {
   "cell_type": "code",
   "execution_count": 17,
   "metadata": {},
   "outputs": [],
   "source": [
    "dt=pd.read_csv('./songs_dataset.csv')"
   ]
  },
  {
   "cell_type": "code",
   "execution_count": 2,
   "metadata": {},
   "outputs": [],
   "source": [
    "def categorize_feelings(feeling):\n",
    "    feeling_map = {\n",
    "        \"Happy\": 1,\n",
    "        \"Sad\": 2,\n",
    "        \"Neutral\": 3,\n",
    "        \"Excited\": 4\n",
    "    }\n",
    "    return feeling_map.get(feeling, 0)  # Return 0 or handle unknown feelings as needed\n"
   ]
  },
  {
   "cell_type": "code",
   "execution_count": 3,
   "metadata": {},
   "outputs": [],
   "source": [
    "def categorize_topic(topic):\n",
    "    topic_map = {\n",
    "        \"Party\": 1,\n",
    "        \"Hip Hop\": 2,\n",
    "        \"Rock\": 3,\n",
    "        \"Jazz\": 4,\n",
    "        \"Electronic\": 5,\n",
    "        # Add more topics as needed\n",
    "    }\n",
    "    return topic_map.get(topic, 0)  # Return 0 or handle unknown topics as needed\n"
   ]
  },
  {
   "cell_type": "code",
   "execution_count": 2,
   "metadata": {},
   "outputs": [
    {
     "name": "stdout",
     "output_type": "stream",
     "text": [
      "Collecting yellowbrick\n",
      "  Downloading yellowbrick-1.5-py3-none-any.whl.metadata (7.7 kB)\n",
      "Requirement already satisfied: matplotlib!=3.0.0,>=2.0.2 in c:\\users\\farrukh\\appdata\\local\\programs\\python\\python311\\lib\\site-packages (from yellowbrick) (3.8.2)\n",
      "Requirement already satisfied: scipy>=1.0.0 in c:\\users\\farrukh\\appdata\\local\\programs\\python\\python311\\lib\\site-packages (from yellowbrick) (1.11.4)\n",
      "Requirement already satisfied: scikit-learn>=1.0.0 in c:\\users\\farrukh\\appdata\\local\\programs\\python\\python311\\lib\\site-packages (from yellowbrick) (1.3.2)\n",
      "Requirement already satisfied: numpy>=1.16.0 in c:\\users\\farrukh\\appdata\\local\\programs\\python\\python311\\lib\\site-packages (from yellowbrick) (1.26.2)\n",
      "Requirement already satisfied: cycler>=0.10.0 in c:\\users\\farrukh\\appdata\\local\\programs\\python\\python311\\lib\\site-packages (from yellowbrick) (0.12.1)\n",
      "Requirement already satisfied: contourpy>=1.0.1 in c:\\users\\farrukh\\appdata\\local\\programs\\python\\python311\\lib\\site-packages (from matplotlib!=3.0.0,>=2.0.2->yellowbrick) (1.2.0)\n",
      "Requirement already satisfied: fonttools>=4.22.0 in c:\\users\\farrukh\\appdata\\local\\programs\\python\\python311\\lib\\site-packages (from matplotlib!=3.0.0,>=2.0.2->yellowbrick) (4.46.0)\n",
      "Requirement already satisfied: kiwisolver>=1.3.1 in c:\\users\\farrukh\\appdata\\local\\programs\\python\\python311\\lib\\site-packages (from matplotlib!=3.0.0,>=2.0.2->yellowbrick) (1.4.5)\n",
      "Requirement already satisfied: packaging>=20.0 in c:\\users\\farrukh\\appdata\\local\\programs\\python\\python311\\lib\\site-packages (from matplotlib!=3.0.0,>=2.0.2->yellowbrick) (23.2)\n",
      "Requirement already satisfied: pillow>=8 in c:\\users\\farrukh\\appdata\\local\\programs\\python\\python311\\lib\\site-packages (from matplotlib!=3.0.0,>=2.0.2->yellowbrick) (10.1.0)\n",
      "Requirement already satisfied: pyparsing>=2.3.1 in c:\\users\\farrukh\\appdata\\local\\programs\\python\\python311\\lib\\site-packages (from matplotlib!=3.0.0,>=2.0.2->yellowbrick) (3.1.1)\n",
      "Requirement already satisfied: python-dateutil>=2.7 in c:\\users\\farrukh\\appdata\\local\\programs\\python\\python311\\lib\\site-packages (from matplotlib!=3.0.0,>=2.0.2->yellowbrick) (2.8.2)\n",
      "Requirement already satisfied: joblib>=1.1.1 in c:\\users\\farrukh\\appdata\\local\\programs\\python\\python311\\lib\\site-packages (from scikit-learn>=1.0.0->yellowbrick) (1.3.2)\n",
      "Requirement already satisfied: threadpoolctl>=2.0.0 in c:\\users\\farrukh\\appdata\\local\\programs\\python\\python311\\lib\\site-packages (from scikit-learn>=1.0.0->yellowbrick) (3.2.0)\n",
      "Requirement already satisfied: six>=1.5 in c:\\users\\farrukh\\appdata\\local\\programs\\python\\python311\\lib\\site-packages (from python-dateutil>=2.7->matplotlib!=3.0.0,>=2.0.2->yellowbrick) (1.16.0)\n",
      "Downloading yellowbrick-1.5-py3-none-any.whl (282 kB)\n",
      "   ---------------------------------------- 0.0/282.6 kB ? eta -:--:--\n",
      "   ---- ----------------------------------- 30.7/282.6 kB 1.3 MB/s eta 0:00:01\n",
      "   --------------- ------------------------ 112.6/282.6 kB 1.3 MB/s eta 0:00:01\n",
      "   --------------------------------- ------ 235.5/282.6 kB 1.6 MB/s eta 0:00:01\n",
      "   ---------------------------------------- 282.6/282.6 kB 1.7 MB/s eta 0:00:00\n",
      "Installing collected packages: yellowbrick\n",
      "Successfully installed yellowbrick-1.5\n"
     ]
    }
   ],
   "source": [
    "df.columns\n",
    "!pip install yellowbrick"
   ]
  },
  {
   "cell_type": "code",
   "execution_count": 5,
   "metadata": {},
   "outputs": [
    {
     "name": "stderr",
     "output_type": "stream",
     "text": [
      "c:\\Users\\Farrukh\\AppData\\Local\\Programs\\Python\\Python311\\Lib\\site-packages\\sklearn\\cluster\\_kmeans.py:1416: FutureWarning: The default value of `n_init` will change from 10 to 'auto' in 1.4. Set the value of `n_init` explicitly to suppress the warning\n",
      "  super()._check_params_vs_input(X, default_n_init=10)\n"
     ]
    },
    {
     "name": "stdout",
     "output_type": "stream",
     "text": [
      "0.37312640064317615\n"
     ]
    }
   ],
   "source": [
    "import pandas as pd\n",
    "from sklearn.preprocessing import StandardScaler\n",
    "from sklearn.cluster import KMeans\n",
    "from sklearn.metrics import silhouette_score\n",
    "from yellowbrick.cluster import KElbowVisualizer\n",
    "\n",
    "\n",
    "# Load dataset\n",
    "df = pd.read_csv('./Songs_Dataset.csv')\n",
    "\n",
    "# Convert 'topic' column to numerical values\n",
    "df['topic_code'] = pd.Categorical(df['topic']).codes\n",
    "df['feelings_code'] = pd.Categorical(df['feelings']).codes\n",
    "\n",
    "# Define numerical features for clustering\n",
    "features = ['energy', 'feelings', 'topic_code']\n",
    "\n",
    "# Remove unnecessary columns and handle missing data\n",
    "X = df[features].dropna()\n",
    "\n",
    "# Standardize numerical features\n",
    "scaler = StandardScaler()\n",
    "X_scaled = scaler.fit_transform(X)\n",
    "\n",
    "# Apply KMeans clustering\n",
    "kmeans = KMeans(n_clusters=4, random_state=42)\n",
    "kmeans.fit(X_scaled)\n",
    "# visualizer=KElbowVisualizer(kmeans,k=(2,10))\n",
    "# visualizer.fit(X_scaled)\n",
    "# visualizer.show()\n",
    "# Get cluster labels and silhouette score\n",
    "labels = kmeans.labels_\n",
    "silhouette_avg = silhouette_score(X_scaled, labels)\n",
    "print(silhouette_avg)\n",
    "# Add cluster labels to DataFrame\n",
    "df['Cluster'] = labels\n",
    "\n",
    "# Function to recommend songs based on user inputs\n",
    "def recommend_songs(user_feelings, favorite_topic, num_recommendations=5):\n",
    "    user_input = [user_feelings, favorite_topic]\n",
    "    user_input_scaled = scaler.transform([user_input + [0] * (len(features) - len(user_input))])[0]\n",
    "    predicted_cluster = kmeans.predict([user_input_scaled])[0]\n",
    "    \n",
    "    cluster_df = df[df['Cluster'] == predicted_cluster]\n",
    "    \n",
    "    if not cluster_df.empty:\n",
    "        cluster_df = cluster_df.sort_values(by=features[0], ascending=False)  # Sorting by 'danceability' as an example\n",
    "        recommendations = cluster_df.head(num_recommendations)\n",
    "        return recommendations[['track_name', 'artist_name', 'genre']]\n",
    "    else:\n",
    "        return pd.DataFrame(columns=['track_name', 'artist_name', 'genre'])\n",
    "\n",
    "# Function to get user input\n",
    "def get_user_input():\n",
    "    while True:\n",
    "        try:\n",
    "            user_feelings = float(input(\"How are you feeling today? (Enter a number between 0.0 and 1.0): \"))\n",
    "            if not (0.0 <= user_feelings <= 1.0):\n",
    "                raise ValueError(\"Feeling score should be between 0.0 and 1.0\")\n",
    "            \n",
    "            print(\"Available topics and their codes:\")\n",
    "            for code, topic in zip(df['topic_code'].unique(), df['topic'].unique()):\n",
    "                print(f\"Topic: {topic}, Code: {code}\")\n",
    "            \n",
    "            favorite_topic = int(input(\"What is your favorite topic? (Enter the topic code): \"))\n",
    "            \n",
    "            return user_feelings, favorite_topic\n",
    "        \n",
    "        except ValueError as e:\n",
    "            print(f\"Error: {e}. Please enter valid input.\")\n",
    "\n",
    "# Example: Get user input and recommend songs\n",
    "# user_feelings, favorite_topic = get_user_input()\n",
    "# recommended_songs = recommend_songs(user_feelings, favorite_topic)\n",
    "\n",
    "# print(\"\\nTop Recommendations:\")\n",
    "# print(recommended_songs)\n"
   ]
  },
  {
   "cell_type": "code",
   "execution_count": null,
   "metadata": {},
   "outputs": [],
   "source": []
  }
 ],
 "metadata": {
  "kernelspec": {
   "display_name": "base",
   "language": "python",
   "name": "python3"
  },
  "language_info": {
   "codemirror_mode": {
    "name": "ipython",
    "version": 3
   },
   "file_extension": ".py",
   "mimetype": "text/x-python",
   "name": "python",
   "nbconvert_exporter": "python",
   "pygments_lexer": "ipython3",
   "version": "3.11.0"
  }
 },
 "nbformat": 4,
 "nbformat_minor": 2
}
