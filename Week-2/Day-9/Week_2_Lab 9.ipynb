{
 "cells": [
  {
   "cell_type": "markdown",
   "metadata": {
    "id": "UId6p4uF145X"
   },
   "source": [
    "# **BOOTCAMP @ GIKI (Content designed by Usama Arshad) WEEK 2**"
   ]
  },
  {
   "cell_type": "markdown",
   "metadata": {
    "id": "L04V2VOG180w"
   },
   "source": [
    "**Lab sessions you will conduct:**\n",
    "\n",
    "---\n",
    "\n",
    "\n",
    "\n",
    "*   Lab 6: Implementing SVM, Decision Trees, and Evaluation Metrics (Day 6)\n",
    "* Lab 7: Implementing Unsupervised Learning Algorithms (Day 7)\n",
    "* Lab 8: Feature Engineering and Model Selection Techniques (Day 8)\n",
    "* **Lab 9: Implementing Regression Models (Day 9)**\n",
    "* Lab 10: Implementing Classification Models (Day 10)"
   ]
  },
  {
   "cell_type": "markdown",
   "metadata": {
    "id": "3jzv77TG8uXa"
   },
   "source": [
    "### Linear Regression with Preprocessing: Theory and Implementation\n",
    "\n",
    "\n",
    "---\n",
    "\n",
    "\n",
    "#### Introduction\n",
    "Linear Regression is a fundamental machine learning algorithm used for predicting a continuous target variable based on one or more input features. It assumes a linear relationship between the input features and the target variable.\n",
    "\n",
    "#### California Housing Dataset\n",
    "The California Housing dataset is used in this example. It contains information about housing prices in California, with features such as the average number of rooms, population, median income, etc., and the target variable being the median house value.\n",
    "\n",
    "#### Steps Involved\n",
    "\n",
    "**Loading the Dataset:**\n",
    "The dataset is loaded using the `fetch_california_housing` function from the `scikit-learn` library and converted into a pandas DataFrame for easier handling.\n",
    "\n",
    "**Dataset Information:**\n",
    "\n",
    "- **Number of Instances**: The total number of data points in the dataset.\n",
    "- **Number of Features**: The number of input features used for prediction.\n",
    "- **Target Variable**: The variable we aim to predict, which in this case is the median house value (`MedHouseVal`).\n",
    "\n",
    "**Data Visualization:**\n",
    "\n",
    "- **Scatter Plot**: A scatter plot is used to visualize the relationship between the selected feature and the target variable. This helps in understanding how the feature influences the target.\n",
    "\n",
    "**Preprocessing:**\n",
    "\n",
    "- **Standard Scaler**: Scales the data so that it has a mean of 0 and a standard deviation of 1. Useful when the data has varying scales.\n",
    "- **Min-Max Scaler**: Scales the data to a fixed range, usually 0 to 1. Useful when the data needs to be normalized.\n",
    "- **Robust Scaler**: Scales the data using statistics that are robust to outliers. Useful when the data contains outliers.\n",
    "\n",
    "**Linear Regression:**\n",
    "\n",
    "- **Training the Model**: The model is trained on the training data. The relationship between the input feature and the target variable is learned.\n",
    "- **Evaluating the Model**: The model's performance is evaluated using metrics such as Mean Squared Error (MSE) and R-squared (R²) score.\n",
    "  - **MSE**: Measures the average squared difference between the actual and predicted values. Lower MSE indicates a better fit.\n",
    "  - **R² Score**: Indicates the proportion of the variance in the target variable that is predictable from the features. An R² score close to 1 indicates a better fit.\n",
    "\n",
    "**Visualization of the Model:**\n",
    "\n",
    "- **Regression Line on Training Data**: Shows how well the model fits the training data.\n",
    "- **Regression Line on Test Data**: Shows how well the model generalizes to unseen data.\n",
    "\n",
    "**Making Predictions:**\n",
    "\n",
    "The trained model is used to make predictions on new input values. If preprocessing was applied during training, the same preprocessing is applied to the input values before making predictions.\n",
    "\n",
    "---\n"
   ]
  },
  {
   "cell_type": "code",
   "execution_count": 12,
   "metadata": {
    "colab": {
     "base_uri": "https://localhost:8080/",
     "height": 239,
     "referenced_widgets": [
      "1d995a03872e464db72060bdff6d3014",
      "89a963b2cdf942a2a749be6f8157a24b",
      "1ad25089f57b4d96b486c32a05df4f97",
      "06396e7a796647be8991bc70712384da",
      "30ef90ec63024b0c8a4a2c02eb333d97",
      "463d825e64164c2395a493afb847357b",
      "bba1976cc3cb4c5a91c57c09b8a7dd09",
      "36803c69ff174c089de24f9d4ed1dec5",
      "3718b9eb9e2442b1b3c11733e5eee2e6",
      "4cb2fc6de8b64bc59638796328a78dbc",
      "6d993aeab92842d8ab32a114cd3c2029",
      "60544be09246411781e71f4441b97d6f",
      "da5b952ae5bc45af864a775d366d0281",
      "b43b411c86684d1daf9850b3c8863b99",
      "7b5aac13855a4d3a85f4e66d4ff850c9",
      "4f04d9eb99054e11851b871ff8993f2c",
      "56b50f1c26674b1694b71b5b8a9146d0",
      "f6a58e4cfe274fb8b1343c2ed254d651",
      "7f3217e960f74b0e9066eb5fa05d7ec4",
      "57cd1e87e19b4b4bbb8366c20a0e0423",
      "7dd30036a6ea4b07be5023fe641329a8"
     ]
    },
    "id": "dsJluDDs4NS0",
    "outputId": "40adb62d-572b-4586-8c99-f6efe3c6ac54"
   },
   "outputs": [
    {
     "data": {
      "application/vnd.jupyter.widget-view+json": {
       "model_id": "f7a7df1204f948cf9aeb04303b75af0f",
       "version_major": 2,
       "version_minor": 0
      },
      "text/plain": [
       "Button(description='Load Dataset', style=ButtonStyle())"
      ]
     },
     "metadata": {},
     "output_type": "display_data"
    },
    {
     "data": {
      "application/vnd.jupyter.widget-view+json": {
       "model_id": "c18711efd8f04753aab41f403868ec41",
       "version_major": 2,
       "version_minor": 0
      },
      "text/plain": [
       "Button(description='Display Dataset Info', style=ButtonStyle())"
      ]
     },
     "metadata": {},
     "output_type": "display_data"
    },
    {
     "data": {
      "application/vnd.jupyter.widget-view+json": {
       "model_id": "afbdc0792d844f4eb973a49daa107cc1",
       "version_major": 2,
       "version_minor": 0
      },
      "text/plain": [
       "Dropdown(description='Feature:', index=2, options=('MedInc', 'HouseAge', 'AveRooms', 'AveBedrms', 'Population'…"
      ]
     },
     "metadata": {},
     "output_type": "display_data"
    },
    {
     "data": {
      "application/vnd.jupyter.widget-view+json": {
       "model_id": "a83fcbe013fb48e5b79008f1b74cfa36",
       "version_major": 2,
       "version_minor": 0
      },
      "text/plain": [
       "Dropdown(description='Preprocess:', options=('None', 'Standard Scaler', 'Min-Max Scaler', 'Robust Scaler'), va…"
      ]
     },
     "metadata": {},
     "output_type": "display_data"
    },
    {
     "data": {
      "application/vnd.jupyter.widget-view+json": {
       "model_id": "b4a9693d45f74c15b86aa42f34ebac96",
       "version_major": 2,
       "version_minor": 0
      },
      "text/plain": [
       "Button(description='Visualize Data', style=ButtonStyle())"
      ]
     },
     "metadata": {},
     "output_type": "display_data"
    },
    {
     "data": {
      "application/vnd.jupyter.widget-view+json": {
       "model_id": "418173a1d0674ef5b93342058770dd00",
       "version_major": 2,
       "version_minor": 0
      },
      "text/plain": [
       "Button(description='Perform Linear Regression', style=ButtonStyle())"
      ]
     },
     "metadata": {},
     "output_type": "display_data"
    },
    {
     "data": {
      "application/vnd.jupyter.widget-view+json": {
       "model_id": "3f6cc222765e4900aa73b2c724eb6200",
       "version_major": 2,
       "version_minor": 0
      },
      "text/plain": [
       "FloatText(value=0.0, description='Input Value:')"
      ]
     },
     "metadata": {},
     "output_type": "display_data"
    },
    {
     "data": {
      "application/vnd.jupyter.widget-view+json": {
       "model_id": "01cccbad94ee418eb36bc529bc630648",
       "version_major": 2,
       "version_minor": 0
      },
      "text/plain": [
       "Button(description='Make Prediction', style=ButtonStyle())"
      ]
     },
     "metadata": {},
     "output_type": "display_data"
    }
   ],
   "source": [
    "# Importing necessary libraries\n",
    "import numpy as np\n",
    "import pandas as pd\n",
    "import matplotlib.pyplot as plt\n",
    "from sklearn.datasets import fetch_california_housing\n",
    "from sklearn.model_selection import train_test_split\n",
    "from sklearn.linear_model import LinearRegression\n",
    "from sklearn.metrics import mean_squared_error, r2_score\n",
    "from sklearn.preprocessing import StandardScaler, MinMaxScaler, RobustScaler\n",
    "import ipywidgets as widgets\n",
    "from IPython.display import display, Markdown\n",
    "dataset_name=\"\"\n",
    "dataset_col=[]\n",
    "def dataset_init():\n",
    "    #file explorer khule ga\n",
    "    ds_file=widgets.FileUpload(\n",
    "    accept='.csv',  # Accepted file extension e.g. '.txt', '.pdf', 'image/*', 'image/*,.pdf'\n",
    "    multiple=False  # True to accept multiple files upload else False\n",
    ")\n",
    "    #columns display honge\n",
    "    \n",
    "    #target column select \n",
    "    \n",
    "    return \n",
    "# Load the California Housing dataset from scikit-learn\n",
    "data_set = fetch_california_housing()\n",
    "\n",
    "# Convert the dataset to a pandas DataFrame for easier handling\n",
    "data = pd.DataFrame(data_set.data, columns=housing.feature_names)\n",
    "data['MedHouseVal'] = housing.target  # Add the target column (median house value) to the DataFrame\n",
    "\n",
    "# Function to display dataset information\n",
    "def display_data_info():\n",
    "    # Display the dataset information and structure\n",
    "    display(Markdown(\"### Dataset Information\"))\n",
    "    display(Markdown(\"The California Housing dataset contains information about housing prices in California.\"))\n",
    "    display(Markdown(f\"**Number of instances:** {data.shape[0]}\"))\n",
    "    display(Markdown(f\"**Number of features:** {data.shape[1] - 1}\"))\n",
    "    display(Markdown(f\"**Features:** {', '.join(housing.feature_names)}\"))\n",
    "    display(Markdown(\"**Target:** MedHouseVal (Median House Value)\"))\n",
    "    display(Markdown(\"### First 5 Rows of the Dataset\"))\n",
    "    display(data.head())  # Display the first 5 rows of the dataset\n",
    "\n",
    "# Function to visualize the dataset\n",
    "def visualize_data(feature, preprocess):\n",
    "    # Select the feature and the target from the dataset\n",
    "    X = data[[feature]].values  # Feature\n",
    "    y = data['MedHouseVal'].values  # Target\n",
    "\n",
    "    # Preprocess the feature if selected\n",
    "    if preprocess == 'Standard Scaler':\n",
    "        scaler = StandardScaler()\n",
    "        X = scaler.fit_transform(X)\n",
    "    elif preprocess == 'Min-Max Scaler':\n",
    "        scaler = MinMaxScaler()\n",
    "        X = scaler.fit_transform(X)\n",
    "    elif preprocess == 'Robust Scaler':\n",
    "        scaler = RobustScaler()\n",
    "        X = scaler.fit_transform(X)\n",
    "\n",
    "    # Create a scatter plot to visualize the relationship between the selected feature and the target\n",
    "    plt.scatter(X, y, color='blue', label='Data points')\n",
    "    plt.title(f'{feature} vs Median House Value')\n",
    "    plt.xlabel(feature)\n",
    "    plt.ylabel('Median House Value')\n",
    "    plt.legend()\n",
    "    plt.show()\n",
    "    # Display explanation of the visualization\n",
    "    display(Markdown(f\"### Visualization of {feature}\"))\n",
    "    display(Markdown(f\"This scatter plot shows the relationship between the selected feature **{feature}** and the target variable **Median House Value**. Each blue point represents a data instance from the dataset. If preprocessing was selected, the feature values have been scaled accordingly.\"))\n",
    "\n",
    "# Function to perform Linear Regression with preprocessing\n",
    "def perform_linear_regression(feature, preprocess):\n",
    "    # Select the feature and the target from the dataset\n",
    "    X = data[[feature]].values  # Feature\n",
    "    y = data['MedHouseVal'].values  # Target\n",
    "\n",
    "    # Preprocess the feature if selected\n",
    "    scaler = None\n",
    "    if preprocess == 'Standard Scaler':\n",
    "        scaler = StandardScaler()\n",
    "        X = scaler.fit_transform(X)\n",
    "    elif preprocess == 'Min-Max Scaler':\n",
    "        scaler = MinMaxScaler()\n",
    "        X = scaler.fit_transform(X)\n",
    "    elif preprocess == 'Robust Scaler':\n",
    "        scaler = RobustScaler()\n",
    "        X = scaler.fit_transform(X)\n",
    "\n",
    "    # Split the data into training and testing sets\n",
    "    X_train, X_test, y_train, y_test = train_test_split(X, y, test_size=0.2, random_state=0)\n",
    "\n",
    "    # Create a Linear Regression model\n",
    "    model = LinearRegression()\n",
    "\n",
    "    # Train the model on the training data\n",
    "    model.fit(X_train, y_train)\n",
    "\n",
    "    # Make predictions on the test set\n",
    "    y_pred = model.predict(X_test)\n",
    "\n",
    "    # Evaluate the model using Mean Squared Error (MSE) and R-squared (R²) score\n",
    "    mse = mean_squared_error(y_test, y_pred)\n",
    "    r2 = r2_score(y_test, y_pred)\n",
    "\n",
    "    # Display the evaluation metrics\n",
    "    display(Markdown(\"### Model Evaluation\"))\n",
    "    display(Markdown(f\"**Mean Squared Error:** {mse}\"))\n",
    "    display(Markdown(f\"**R^2 Score:** {r2}\"))\n",
    "    display(Markdown(\"The Mean Squared Error (MSE) measures the average squared difference between the actual and predicted values. A lower MSE indicates a better fit. The R² Score indicates the proportion of the variance in the target variable that is predictable from the features. An R² score close to 1 indicates a better fit.\"))\n",
    "\n",
    "    # Plot the regression line on the training data\n",
    "    plt.scatter(X_train, y_train, color='blue', label='Training data')\n",
    "    plt.plot(X_train, model.predict(X_train), color='red', label='Regression line')\n",
    "    plt.title('Linear Regression on Training Data')\n",
    "    plt.xlabel(feature)\n",
    "    plt.ylabel('Median House Value')\n",
    "    plt.legend()\n",
    "    plt.show()\n",
    "    display(Markdown(f\"### Linear Regression on Training Data\"))\n",
    "    display(Markdown(\"This plot shows the Linear Regression model fitted on the training data. The blue points represent the training data, and the red line represents the regression line fitted by the model.\"))\n",
    "\n",
    "    # Plot the regression line on the test data\n",
    "    plt.scatter(X_test, y_test, color='blue', label='Testing data')\n",
    "    plt.plot(X_test, y_pred, color='red', label='Regression line')\n",
    "    plt.title('Linear Regression on Test Data')\n",
    "    plt.xlabel(feature)\n",
    "    plt.ylabel('Median House Value')\n",
    "    plt.legend()\n",
    "    plt.show()\n",
    "    display(Markdown(f\"### Linear Regression on Test Data\"))\n",
    "    display(Markdown(\"This plot shows the Linear Regression model predictions on the test data. The blue points represent the test data, and the red line represents the regression line predicted by the model. Comparing this plot with the training data plot helps to assess the model's performance on unseen data.\"))\n",
    "\n",
    "    return model, scaler\n",
    "\n",
    "# Function to make predictions with new input values\n",
    "def make_predictions(model, scaler, feature, input_value):\n",
    "    # Preprocess the input value if a scaler is provided\n",
    "    if scaler:\n",
    "        input_value = scaler.transform(np.array([[input_value]]))\n",
    "\n",
    "    # Make prediction\n",
    "    prediction = model.predict(input_value)\n",
    "\n",
    "    # Display the prediction\n",
    "    display(Markdown(f\"### Prediction for {feature} = {input_value[0][0] if scaler else input_value[0]}\"))\n",
    "    display(Markdown(f\"**Predicted Median House Value:** {prediction[0]}\"))\n",
    "\n",
    "# Create a dropdown widget for selecting the feature to visualize and use for Linear Regression\n",
    "feature_dropdown = widgets.Dropdown(\n",
    "    options=housing.feature_names,\n",
    "    value='AveRooms',  # Default value\n",
    "    description='Feature:',\n",
    "    disabled=False,\n",
    ")\n",
    "\n",
    "# Create a dropdown widget for selecting the preprocessing method\n",
    "preprocess_dropdown = widgets.Dropdown(\n",
    "    options=['None', 'Standard Scaler', 'Min-Max Scaler', 'Robust Scaler'],\n",
    "    value='None',  # Default value\n",
    "    description='Preprocess:',\n",
    "    disabled=False,\n",
    ")\n",
    "\n",
    "# Create a float input widget for entering a new value to make predictions\n",
    "input_value = widgets.FloatText(\n",
    "    value=0.0,\n",
    "    description='Input Value:',\n",
    "    disabled=False,\n",
    ")\n",
    "\n",
    "# Create buttons for interactive actions\n",
    "load_dataset=widgets.Button(description=\"Load Dataset\")\n",
    "display_data_button = widgets.Button(description=\"Display Dataset Info\")\n",
    "visualize_data_button = widgets.Button(description=\"Visualize Data\")\n",
    "perform_lr_button = widgets.Button(description=\"Perform Linear Regression\")\n",
    "predict_button = widgets.Button(description=\"Make Prediction\")\n",
    "\n",
    "#display load data button\n",
    "display(load_dataset)\n",
    "\n",
    "# Display the button for showing dataset information\n",
    "display(display_data_button)\n",
    "# Attach the display_data_info function to the button click event\n",
    "display_data_button.on_click(lambda b: display_data_info())\n",
    "\n",
    "# Display the dropdowns and button for visualizing data\n",
    "display(feature_dropdown)\n",
    "display(preprocess_dropdown)\n",
    "display(visualize_data_button)\n",
    "# Attach the visualize_data function to the button click event\n",
    "visualize_data_button.on_click(lambda b: visualize_data(feature_dropdown.value, preprocess_dropdown.value))\n",
    "\n",
    "# Display the dropdowns and button for performing Linear Regression\n",
    "display(perform_lr_button)\n",
    "# Initialize variables for model and scaler\n",
    "model = None\n",
    "scaler = None\n",
    "# Attach the perform_linear_regression function to the button click event\n",
    "def perform_lr_action(b):\n",
    "    global model, scaler\n",
    "    model, scaler = perform_linear_regression(feature_dropdown.value, preprocess_dropdown.value)\n",
    "\n",
    "perform_lr_button.on_click(perform_lr_action)\n",
    "\n",
    "# Display the float input and button for making predictions\n",
    "display(input_value)\n",
    "display(predict_button)\n",
    "# Attach the make_predictions function to the button click event\n",
    "predict_button.on_click(lambda b: make_predictions(model, scaler, feature_dropdown.value, input_value.value))\n"
   ]
  },
  {
   "cell_type": "markdown",
   "metadata": {
    "id": "wXiz4dMD9Izp"
   },
   "source": [
    "\n",
    "### Polynomial Regression: Theory and Implementation\n",
    "\n",
    "\n",
    "---\n",
    "\n",
    "\n",
    "\n",
    "#### Introduction\n",
    "Polynomial Regression is an extension of Linear Regression where the relationship between the independent variable (or variables) and the dependent variable is modeled as an nth degree polynomial. This allows for capturing more complex relationships that are not possible with a straight line.\n",
    "\n",
    "#### California Housing Dataset\n",
    "The California Housing dataset is used in this example. It contains information about housing prices in California, with features such as the average number of rooms, population, median income, etc., and the target variable being the median house value.\n",
    "\n",
    "#### Steps Involved\n",
    "\n",
    "**Loading the Dataset:**\n",
    "The dataset is loaded using the `fetch_california_housing` function from the `scikit-learn` library and converted into a pandas DataFrame for easier handling.\n",
    "\n",
    "**Dataset Information:**\n",
    "\n",
    "- **Number of Instances**: The total number of data points in the dataset.\n",
    "- **Number of Features**: The number of input features used for prediction.\n",
    "- **Target Variable**: The variable we aim to predict, which in this case is the median house value (`MedHouseVal`).\n",
    "\n",
    "**Data Visualization:**\n",
    "\n",
    "- **Scatter Plot**: A scatter plot is used to visualize the relationship between the selected feature and the target variable. This helps in understanding how the feature influences the target.\n",
    "\n",
    "**Preprocessing:**\n",
    "\n",
    "- **Standard Scaler**: Scales the data so that it has a mean of 0 and a standard deviation of 1. Useful when the data has varying scales.\n",
    "- **Min-Max Scaler**: Scales the data to a fixed range, usually 0 to 1. Useful when the data needs to be normalized.\n",
    "- **Robust Scaler**: Scales the data using statistics that are robust to outliers. Useful when the data contains outliers.\n",
    "\n",
    "**Polynomial Regression:**\n",
    "\n",
    "- **Degree**: The degree of the polynomial refers to the highest power of the input variable in the polynomial equation.\n",
    "  - **Degree 1 (Linear Regression)**: A straight line, simple and effective for linear relationships.\n",
    "  - **Degree 2 (Quadratic Regression)**: Adds a squared term, allowing the model to capture curvature.\n",
    "  - **Degree 3 (Cubic Regression)**: Adds a cubic term, capturing more complex relationships.\n",
    "  - **Higher Degrees**: Allow for even more complex relationships but can lead to overfitting.\n",
    "\n",
    "- **Creating Polynomial Features**: Using the `PolynomialFeatures` class to generate polynomial features up to the specified degree.\n",
    "\n",
    "**Training the Model:**\n",
    "- The model is trained on the polynomial features of the training data. The relationship between the input features and the target variable is learned.\n",
    "\n",
    "**Evaluating the Model:**\n",
    "- The model's performance is evaluated using metrics such as Mean Squared Error (MSE) and R-squared (R²) score.\n",
    "  - **MSE**: Measures the average squared difference between the actual and predicted values. Lower MSE indicates a better fit.\n",
    "  - **R² Score**: Indicates the proportion of the variance in the target variable that is predictable from the features. An R² score close to 1 indicates a better fit.\n",
    "\n",
    "**Visualization of the Model:**\n",
    "\n",
    "- **Regression Curve on Training Data**: Shows how well the model fits the training data.\n",
    "- **Regression Curve on Test Data**: Shows how well the model generalizes to unseen data.\n",
    "\n",
    "**Making Predictions:**\n",
    "\n",
    "The trained model is used to make predictions on new input values. If preprocessing was applied during training, the same preprocessing is applied to the input values before making predictions.\n",
    "\n",
    "---\n",
    "\n"
   ]
  },
  {
   "cell_type": "code",
   "execution_count": 10,
   "metadata": {
    "colab": {
     "base_uri": "https://localhost:8080/",
     "height": 1000,
     "referenced_widgets": [
      "2e9273b29d9c40a8a9b421f5ddd7eb2f",
      "1f26a7249f9d41eab229ae7b99f640f0",
      "ded7857034d44c8787879931ffcb74dd",
      "1fe80a12260b466e83da72239f7ea2ed",
      "033ec09e650d4ae998e91c6cd2ef6938",
      "97249441b4ec40a2ba9f79dcd5580df4",
      "b4ac42e2042040c1a1c9dafd6f5033b9",
      "5dbd3769ee82418abcfdbbc5e4a50afe",
      "70e4c7d7971c4f07bf1b183d7f1ed89f",
      "cc00996ac1ea474bb3c417e3dce64645",
      "51d5a429484f4b6fb0eb18354dfdecf6",
      "a92b9e8174704a088503f28a8de3a4c0",
      "55983441f86c486a9ab921fef3bca265",
      "1b8eecc6b96640dc861785f066b4cf19",
      "dc0d7786c3ca4782b8c4c5cffc4f6934",
      "293ff7adc23b44469f0b1e3932385459",
      "0e4d9ca09349457ba6a72a4b8252e6fc",
      "32f95642ec524721833c6e1257c98c8e",
      "8212f844ed334b809f393f838c69be88",
      "0fa0c382d5214a0d829b8cdfa3a3df12",
      "112999f0676442aba737a16136a07c10",
      "f15315ab426b4100bc75f6aac43de199",
      "899e29f06e8b4d148063fb5999dd88cb",
      "f940f6d25d134c7a97bffadea8bc7761",
      "b7cb8e05eba746d7ab6537d986fd7eba",
      "e5d77270b381450eb5d2c73f4d6c695d",
      "87758dbb28ba43f1b7867360ae2e7dc1"
     ]
    },
    "id": "lwIIDGzH9yY1",
    "outputId": "cf0e5857-bb65-4ee2-ac44-48dff79ed9d2",
    "scrolled": false
   },
   "outputs": [
    {
     "data": {
      "application/vnd.jupyter.widget-view+json": {
       "model_id": "f2dbabc7d20a454f8952e79f0b7cc2ae",
       "version_major": 2,
       "version_minor": 0
      },
      "text/plain": [
       "Button(description='Display Dataset Info', style=ButtonStyle())"
      ]
     },
     "metadata": {},
     "output_type": "display_data"
    },
    {
     "data": {
      "application/vnd.jupyter.widget-view+json": {
       "model_id": "ea1b8f39aa2741a78c1aeab503f9b728",
       "version_major": 2,
       "version_minor": 0
      },
      "text/plain": [
       "Dropdown(description='Feature:', index=2, options=('MedInc', 'HouseAge', 'AveRooms', 'AveBedrms', 'Population'…"
      ]
     },
     "metadata": {},
     "output_type": "display_data"
    },
    {
     "data": {
      "application/vnd.jupyter.widget-view+json": {
       "model_id": "02ffd2132a2e47c5a52f4888bcfcdedf",
       "version_major": 2,
       "version_minor": 0
      },
      "text/plain": [
       "Dropdown(description='Preprocess:', options=('None', 'Standard Scaler', 'Min-Max Scaler', 'Robust Scaler'), va…"
      ]
     },
     "metadata": {},
     "output_type": "display_data"
    },
    {
     "data": {
      "application/vnd.jupyter.widget-view+json": {
       "model_id": "c39639edc0a34e1cbdf10e1006131815",
       "version_major": 2,
       "version_minor": 0
      },
      "text/plain": [
       "Button(description='Visualize Data', style=ButtonStyle())"
      ]
     },
     "metadata": {},
     "output_type": "display_data"
    },
    {
     "data": {
      "application/vnd.jupyter.widget-view+json": {
       "model_id": "073d9d580f734a389ff99415dd440200",
       "version_major": 2,
       "version_minor": 0
      },
      "text/plain": [
       "Dropdown(description='Regression Type:', options=('Linear Regression', 'Polynomial Regression'), value='Linear…"
      ]
     },
     "metadata": {},
     "output_type": "display_data"
    },
    {
     "data": {
      "application/vnd.jupyter.widget-view+json": {
       "model_id": "02ffd2132a2e47c5a52f4888bcfcdedf",
       "version_major": 2,
       "version_minor": 0
      },
      "text/plain": [
       "Dropdown(description='Preprocess:', options=('None', 'Standard Scaler', 'Min-Max Scaler', 'Robust Scaler'), va…"
      ]
     },
     "metadata": {},
     "output_type": "display_data"
    },
    {
     "data": {
      "application/vnd.jupyter.widget-view+json": {
       "model_id": "ea1b8f39aa2741a78c1aeab503f9b728",
       "version_major": 2,
       "version_minor": 0
      },
      "text/plain": [
       "Dropdown(description='Feature:', index=2, options=('MedInc', 'HouseAge', 'AveRooms', 'AveBedrms', 'Population'…"
      ]
     },
     "metadata": {},
     "output_type": "display_data"
    },
    {
     "data": {
      "application/vnd.jupyter.widget-view+json": {
       "model_id": "1bc42c6c729949af80297115d5bb0ef4",
       "version_major": 2,
       "version_minor": 0
      },
      "text/plain": [
       "IntText(value=2, description='Degree:')"
      ]
     },
     "metadata": {},
     "output_type": "display_data"
    },
    {
     "data": {
      "application/vnd.jupyter.widget-view+json": {
       "model_id": "1fe6692e79924e729c4711c5621d203e",
       "version_major": 2,
       "version_minor": 0
      },
      "text/plain": [
       "Button(description='Perform Regression', style=ButtonStyle())"
      ]
     },
     "metadata": {},
     "output_type": "display_data"
    },
    {
     "data": {
      "application/vnd.jupyter.widget-view+json": {
       "model_id": "b29880718eb148579190413098bc690c",
       "version_major": 2,
       "version_minor": 0
      },
      "text/plain": [
       "FloatText(value=0.0, description='Input Value:')"
      ]
     },
     "metadata": {},
     "output_type": "display_data"
    },
    {
     "data": {
      "application/vnd.jupyter.widget-view+json": {
       "model_id": "9aacb7d3bd2947509bd2cf6760951b53",
       "version_major": 2,
       "version_minor": 0
      },
      "text/plain": [
       "Button(description='Make Prediction', style=ButtonStyle())"
      ]
     },
     "metadata": {},
     "output_type": "display_data"
    },
    {
     "data": {
      "text/markdown": [
       "### Dataset Information"
      ],
      "text/plain": [
       "<IPython.core.display.Markdown object>"
      ]
     },
     "metadata": {},
     "output_type": "display_data"
    },
    {
     "data": {
      "text/markdown": [
       "The California Housing dataset contains information about housing prices in California."
      ],
      "text/plain": [
       "<IPython.core.display.Markdown object>"
      ]
     },
     "metadata": {},
     "output_type": "display_data"
    },
    {
     "data": {
      "text/markdown": [
       "**Number of instances:** 20640"
      ],
      "text/plain": [
       "<IPython.core.display.Markdown object>"
      ]
     },
     "metadata": {},
     "output_type": "display_data"
    },
    {
     "data": {
      "text/markdown": [
       "**Number of features:** 8"
      ],
      "text/plain": [
       "<IPython.core.display.Markdown object>"
      ]
     },
     "metadata": {},
     "output_type": "display_data"
    },
    {
     "data": {
      "text/markdown": [
       "**Features:** MedInc, HouseAge, AveRooms, AveBedrms, Population, AveOccup, Latitude, Longitude"
      ],
      "text/plain": [
       "<IPython.core.display.Markdown object>"
      ]
     },
     "metadata": {},
     "output_type": "display_data"
    },
    {
     "data": {
      "text/markdown": [
       "**Target:** MedHouseVal (Median House Value)"
      ],
      "text/plain": [
       "<IPython.core.display.Markdown object>"
      ]
     },
     "metadata": {},
     "output_type": "display_data"
    },
    {
     "data": {
      "text/markdown": [
       "### First 5 Rows of the Dataset"
      ],
      "text/plain": [
       "<IPython.core.display.Markdown object>"
      ]
     },
     "metadata": {},
     "output_type": "display_data"
    },
    {
     "data": {
      "text/html": [
       "<div>\n",
       "<style scoped>\n",
       "    .dataframe tbody tr th:only-of-type {\n",
       "        vertical-align: middle;\n",
       "    }\n",
       "\n",
       "    .dataframe tbody tr th {\n",
       "        vertical-align: top;\n",
       "    }\n",
       "\n",
       "    .dataframe thead th {\n",
       "        text-align: right;\n",
       "    }\n",
       "</style>\n",
       "<table border=\"1\" class=\"dataframe\">\n",
       "  <thead>\n",
       "    <tr style=\"text-align: right;\">\n",
       "      <th></th>\n",
       "      <th>MedInc</th>\n",
       "      <th>HouseAge</th>\n",
       "      <th>AveRooms</th>\n",
       "      <th>AveBedrms</th>\n",
       "      <th>Population</th>\n",
       "      <th>AveOccup</th>\n",
       "      <th>Latitude</th>\n",
       "      <th>Longitude</th>\n",
       "      <th>MedHouseVal</th>\n",
       "    </tr>\n",
       "  </thead>\n",
       "  <tbody>\n",
       "    <tr>\n",
       "      <th>0</th>\n",
       "      <td>8.3252</td>\n",
       "      <td>41.0</td>\n",
       "      <td>6.984127</td>\n",
       "      <td>1.023810</td>\n",
       "      <td>322.0</td>\n",
       "      <td>2.555556</td>\n",
       "      <td>37.88</td>\n",
       "      <td>-122.23</td>\n",
       "      <td>4.526</td>\n",
       "    </tr>\n",
       "    <tr>\n",
       "      <th>1</th>\n",
       "      <td>8.3014</td>\n",
       "      <td>21.0</td>\n",
       "      <td>6.238137</td>\n",
       "      <td>0.971880</td>\n",
       "      <td>2401.0</td>\n",
       "      <td>2.109842</td>\n",
       "      <td>37.86</td>\n",
       "      <td>-122.22</td>\n",
       "      <td>3.585</td>\n",
       "    </tr>\n",
       "    <tr>\n",
       "      <th>2</th>\n",
       "      <td>7.2574</td>\n",
       "      <td>52.0</td>\n",
       "      <td>8.288136</td>\n",
       "      <td>1.073446</td>\n",
       "      <td>496.0</td>\n",
       "      <td>2.802260</td>\n",
       "      <td>37.85</td>\n",
       "      <td>-122.24</td>\n",
       "      <td>3.521</td>\n",
       "    </tr>\n",
       "    <tr>\n",
       "      <th>3</th>\n",
       "      <td>5.6431</td>\n",
       "      <td>52.0</td>\n",
       "      <td>5.817352</td>\n",
       "      <td>1.073059</td>\n",
       "      <td>558.0</td>\n",
       "      <td>2.547945</td>\n",
       "      <td>37.85</td>\n",
       "      <td>-122.25</td>\n",
       "      <td>3.413</td>\n",
       "    </tr>\n",
       "    <tr>\n",
       "      <th>4</th>\n",
       "      <td>3.8462</td>\n",
       "      <td>52.0</td>\n",
       "      <td>6.281853</td>\n",
       "      <td>1.081081</td>\n",
       "      <td>565.0</td>\n",
       "      <td>2.181467</td>\n",
       "      <td>37.85</td>\n",
       "      <td>-122.25</td>\n",
       "      <td>3.422</td>\n",
       "    </tr>\n",
       "  </tbody>\n",
       "</table>\n",
       "</div>"
      ],
      "text/plain": [
       "   MedInc  HouseAge  AveRooms  AveBedrms  Population  AveOccup  Latitude  \\\n",
       "0  8.3252      41.0  6.984127   1.023810       322.0  2.555556     37.88   \n",
       "1  8.3014      21.0  6.238137   0.971880      2401.0  2.109842     37.86   \n",
       "2  7.2574      52.0  8.288136   1.073446       496.0  2.802260     37.85   \n",
       "3  5.6431      52.0  5.817352   1.073059       558.0  2.547945     37.85   \n",
       "4  3.8462      52.0  6.281853   1.081081       565.0  2.181467     37.85   \n",
       "\n",
       "   Longitude  MedHouseVal  \n",
       "0    -122.23        4.526  \n",
       "1    -122.22        3.585  \n",
       "2    -122.24        3.521  \n",
       "3    -122.25        3.413  \n",
       "4    -122.25        3.422  "
      ]
     },
     "metadata": {},
     "output_type": "display_data"
    },
    {
     "data": {
      "image/png": "[encoded data removed]",
      "text/plain": [
       "<Figure size 640x480 with 1 Axes>"
      ]
     },
     "metadata": {},
     "output_type": "display_data"
    },
    {
     "data": {
      "text/markdown": [
       "### Visualization of AveRooms"
      ],
      "text/plain": [
       "<IPython.core.display.Markdown object>"
      ]
     },
     "metadata": {},
     "output_type": "display_data"
    },
    {
     "data": {
      "text/markdown": [
       "This scatter plot shows the relationship between the selected feature **AveRooms** and the target variable **Median House Value**. Each blue point represents a data instance from the dataset. If preprocessing was selected, the feature values have been scaled accordingly."
      ],
      "text/plain": [
       "<IPython.core.display.Markdown object>"
      ]
     },
     "metadata": {},
     "output_type": "display_data"
    },
    {
     "data": {
      "text/markdown": [
       "### Model Evaluation"
      ],
      "text/plain": [
       "<IPython.core.display.Markdown object>"
      ]
     },
     "metadata": {},
     "output_type": "display_data"
    },
    {
     "data": {
      "text/markdown": [
       "**Mean Squared Error:** 1.2782843665673935"
      ],
      "text/plain": [
       "<IPython.core.display.Markdown object>"
      ]
     },
     "metadata": {},
     "output_type": "display_data"
    },
    {
     "data": {
      "text/markdown": [
       "**R^2 Score:** 0.019686674517510605"
      ],
      "text/plain": [
       "<IPython.core.display.Markdown object>"
      ]
     },
     "metadata": {},
     "output_type": "display_data"
    },
    {
     "data": {
      "text/markdown": [
       "The Mean Squared Error (MSE) measures the average squared difference between the actual and predicted values. A lower MSE indicates a better fit. The R² Score indicates the proportion of the variance in the target variable that is predictable from the features. An R² score close to 1 indicates a better fit."
      ],
      "text/plain": [
       "<IPython.core.display.Markdown object>"
      ]
     },
     "metadata": {},
     "output_type": "display_data"
    },
    {
     "data": {
      "image/png": "[encoded data removed]",
      "text/plain": [
       "<Figure size 640x480 with 1 Axes>"
      ]
     },
     "metadata": {},
     "output_type": "display_data"
    },
    {
     "data": {
      "text/markdown": [
       "### Polynomial Regression on Training Data"
      ],
      "text/plain": [
       "<IPython.core.display.Markdown object>"
      ]
     },
     "metadata": {},
     "output_type": "display_data"
    },
    {
     "data": {
      "text/markdown": [
       "This plot shows the Polynomial Regression model fitted on the training data. The blue points represent the training data, and the red curve represents the regression curve fitted by the model."
      ],
      "text/plain": [
       "<IPython.core.display.Markdown object>"
      ]
     },
     "metadata": {},
     "output_type": "display_data"
    },
    {
     "data": {
      "image/png": "[encoded data removed]",
      "text/plain": [
       "<Figure size 640x480 with 1 Axes>"
      ]
     },
     "metadata": {},
     "output_type": "display_data"
    },
    {
     "data": {
      "text/markdown": [
       "### Polynomial Regression on Test Data"
      ],
      "text/plain": [
       "<IPython.core.display.Markdown object>"
      ]
     },
     "metadata": {},
     "output_type": "display_data"
    },
    {
     "data": {
      "text/markdown": [
       "This plot shows the Polynomial Regression model predictions on the test data. The blue points represent the test data, and the red curve represents the regression curve predicted by the model. Comparing this plot with the training data plot helps to assess the model's performance on unseen data."
      ],
      "text/plain": [
       "<IPython.core.display.Markdown object>"
      ]
     },
     "metadata": {},
     "output_type": "display_data"
    },
    {
     "data": {
      "text/markdown": [
       "### Model Evaluation"
      ],
      "text/plain": [
       "<IPython.core.display.Markdown object>"
      ]
     },
     "metadata": {},
     "output_type": "display_data"
    },
    {
     "data": {
      "text/markdown": [
       "**Mean Squared Error:** 1.2277454544399544"
      ],
      "text/plain": [
       "<IPython.core.display.Markdown object>"
      ]
     },
     "metadata": {},
     "output_type": "display_data"
    },
    {
     "data": {
      "text/markdown": [
       "**R^2 Score:** 0.05844484938822325"
      ],
      "text/plain": [
       "<IPython.core.display.Markdown object>"
      ]
     },
     "metadata": {},
     "output_type": "display_data"
    },
    {
     "data": {
      "text/markdown": [
       "The Mean Squared Error (MSE) measures the average squared difference between the actual and predicted values. A lower MSE indicates a better fit. The R² Score indicates the proportion of the variance in the target variable that is predictable from the features. An R² score close to 1 indicates a better fit."
      ],
      "text/plain": [
       "<IPython.core.display.Markdown object>"
      ]
     },
     "metadata": {},
     "output_type": "display_data"
    },
    {
     "data": {
      "image/png": "[encoded data removed]",
      "text/plain": [
       "<Figure size 640x480 with 1 Axes>"
      ]
     },
     "metadata": {},
     "output_type": "display_data"
    },
    {
     "data": {
      "text/markdown": [
       "### Polynomial Regression on Training Data"
      ],
      "text/plain": [
       "<IPython.core.display.Markdown object>"
      ]
     },
     "metadata": {},
     "output_type": "display_data"
    },
    {
     "data": {
      "text/markdown": [
       "This plot shows the Polynomial Regression model fitted on the training data. The blue points represent the training data, and the red curve represents the regression curve fitted by the model."
      ],
      "text/plain": [
       "<IPython.core.display.Markdown object>"
      ]
     },
     "metadata": {},
     "output_type": "display_data"
    },
    {
     "data": {
      "image/png": "[encoded data removed]",
      "text/plain": [
       "<Figure size 640x480 with 1 Axes>"
      ]
     },
     "metadata": {},
     "output_type": "display_data"
    },
    {
     "data": {
      "text/markdown": [
       "### Polynomial Regression on Test Data"
      ],
      "text/plain": [
       "<IPython.core.display.Markdown object>"
      ]
     },
     "metadata": {},
     "output_type": "display_data"
    },
    {
     "data": {
      "text/markdown": [
       "This plot shows the Polynomial Regression model predictions on the test data. The blue points represent the test data, and the red curve represents the regression curve predicted by the model. Comparing this plot with the training data plot helps to assess the model's performance on unseen data."
      ],
      "text/plain": [
       "<IPython.core.display.Markdown object>"
      ]
     },
     "metadata": {},
     "output_type": "display_data"
    },
    {
     "data": {
      "text/markdown": [
       "### Model Evaluation"
      ],
      "text/plain": [
       "<IPython.core.display.Markdown object>"
      ]
     },
     "metadata": {},
     "output_type": "display_data"
    },
    {
     "data": {
      "text/markdown": [
       "**Mean Squared Error:** 1.2850472645779787"
      ],
      "text/plain": [
       "<IPython.core.display.Markdown object>"
      ]
     },
     "metadata": {},
     "output_type": "display_data"
    },
    {
     "data": {
      "text/markdown": [
       "**R^2 Score:** 0.014500223668190815"
      ],
      "text/plain": [
       "<IPython.core.display.Markdown object>"
      ]
     },
     "metadata": {},
     "output_type": "display_data"
    },
    {
     "data": {
      "text/markdown": [
       "The Mean Squared Error (MSE) measures the average squared difference between the actual and predicted values. A lower MSE indicates a better fit. The R² Score indicates the proportion of the variance in the target variable that is predictable from the features. An R² score close to 1 indicates a better fit."
      ],
      "text/plain": [
       "<IPython.core.display.Markdown object>"
      ]
     },
     "metadata": {},
     "output_type": "display_data"
    },
    {
     "data": {
      "image/png": "[encoded data removed]",
      "text/plain": [
       "<Figure size 640x480 with 1 Axes>"
      ]
     },
     "metadata": {},
     "output_type": "display_data"
    },
    {
     "data": {
      "text/markdown": [
       "### Polynomial Regression on Training Data"
      ],
      "text/plain": [
       "<IPython.core.display.Markdown object>"
      ]
     },
     "metadata": {},
     "output_type": "display_data"
    },
    {
     "data": {
      "text/markdown": [
       "This plot shows the Polynomial Regression model fitted on the training data. The blue points represent the training data, and the red curve represents the regression curve fitted by the model."
      ],
      "text/plain": [
       "<IPython.core.display.Markdown object>"
      ]
     },
     "metadata": {},
     "output_type": "display_data"
    },
    {
     "data": {
      "image/png": "[encoded data removed]",
      "text/plain": [
       "<Figure size 640x480 with 1 Axes>"
      ]
     },
     "metadata": {},
     "output_type": "display_data"
    },
    {
     "data": {
      "text/markdown": [
       "### Polynomial Regression on Test Data"
      ],
      "text/plain": [
       "<IPython.core.display.Markdown object>"
      ]
     },
     "metadata": {},
     "output_type": "display_data"
    },
    {
     "data": {
      "text/markdown": [
       "This plot shows the Polynomial Regression model predictions on the test data. The blue points represent the test data, and the red curve represents the regression curve predicted by the model. Comparing this plot with the training data plot helps to assess the model's performance on unseen data."
      ],
      "text/plain": [
       "<IPython.core.display.Markdown object>"
      ]
     },
     "metadata": {},
     "output_type": "display_data"
    }
   ],
   "source": [
    "# Importing necessary libraries\n",
    "import numpy as np\n",
    "import pandas as pd\n",
    "import matplotlib.pyplot as plt\n",
    "from sklearn.datasets import fetch_california_housing\n",
    "from sklearn.model_selection import train_test_split\n",
    "from sklearn.linear_model import LinearRegression\n",
    "from sklearn.preprocessing import PolynomialFeatures, StandardScaler, MinMaxScaler, RobustScaler\n",
    "from sklearn.metrics import mean_squared_error, r2_score\n",
    "import ipywidgets as widgets\n",
    "from IPython.display import display, Markdown\n",
    "\n",
    "# Load the California Housing dataset from scikit-learn\n",
    "housing = fetch_california_housing()\n",
    "\n",
    "# Convert the dataset to a pandas DataFrame for easier handling\n",
    "data = pd.DataFrame(housing.data, columns=housing.feature_names)\n",
    "data['MedHouseVal'] = housing.target  # Add the target column (median house value) to the DataFrame\n",
    "\n",
    "# Function to display dataset information\n",
    "def display_data_info():\n",
    "    # Display the dataset information and structure\n",
    "    display(Markdown(\"### Dataset Information\"))\n",
    "    display(Markdown(\"The California Housing dataset contains information about housing prices in California.\"))\n",
    "    display(Markdown(f\"**Number of instances:** {data.shape[0]}\"))\n",
    "    display(Markdown(f\"**Number of features:** {data.shape[1] - 1}\"))\n",
    "    display(Markdown(f\"**Features:** {', '.join(housing.feature_names)}\"))\n",
    "    display(Markdown(\"**Target:** MedHouseVal (Median House Value)\"))\n",
    "    display(Markdown(\"### First 5 Rows of the Dataset\"))\n",
    "    display(data.head())  # Display the first 5 rows of the dataset\n",
    "\n",
    "# Function to visualize the dataset\n",
    "def visualize_data(feature, preprocess):\n",
    "    # Select the feature and the target from the dataset\n",
    "    X = data[[feature]].values  # Feature\n",
    "    y = data['MedHouseVal'].values  # Target\n",
    "\n",
    "    # Preprocess the feature if selected\n",
    "    if preprocess == 'Standard Scaler':\n",
    "        scaler = StandardScaler()\n",
    "        X = scaler.fit_transform(X)\n",
    "    elif preprocess == 'Min-Max Scaler':\n",
    "        scaler = MinMaxScaler()\n",
    "        X = scaler.fit_transform(X)\n",
    "    elif preprocess == 'Robust Scaler':\n",
    "        scaler = RobustScaler()\n",
    "        X = scaler.fit_transform(X)\n",
    "\n",
    "    # Create a scatter plot to visualize the relationship between the selected feature and the target\n",
    "    plt.scatter(X, y, color='blue', label='Data points')\n",
    "    plt.title(f'{feature} vs Median House Value')\n",
    "    plt.xlabel(feature)\n",
    "    plt.ylabel('Median House Value')\n",
    "    plt.legend()\n",
    "    plt.show()\n",
    "    # Display explanation of the visualization\n",
    "    display(Markdown(f\"### Visualization of {feature}\"))\n",
    "    display(Markdown(f\"This scatter plot shows the relationship between the selected feature **{feature}** and the target variable **Median House Value**. Each blue point represents a data instance from the dataset. If preprocessing was selected, the feature values have been scaled accordingly.\"))\n",
    "\n",
    "# Function to perform Linear Regression with preprocessing\n",
    "def perform_linear_regression(feature, preprocess):\n",
    "    # Select the feature and the target from the dataset\n",
    "    X = data[[feature]].values  # Feature\n",
    "    y = data['MedHouseVal'].values  # Target\n",
    "\n",
    "    # Preprocess the feature if selected\n",
    "    scaler = None\n",
    "    if preprocess == 'Standard Scaler':\n",
    "        scaler = StandardScaler()\n",
    "        X = scaler.fit_transform(X)\n",
    "    elif preprocess == 'Min-Max Scaler':\n",
    "        scaler = MinMaxScaler()\n",
    "        X = scaler.fit_transform(X)\n",
    "    elif preprocess == 'Robust Scaler':\n",
    "        scaler = RobustScaler()\n",
    "        X = scaler.fit_transform(X)\n",
    "\n",
    "    # Split the data into training and testing sets\n",
    "    X_train, X_test, y_train, y_test = train_test_split(X, y, test_size=0.2, random_state=0)\n",
    "\n",
    "    # Create a Linear Regression model\n",
    "    model = LinearRegression()\n",
    "\n",
    "    # Train the model on the training data\n",
    "    model.fit(X_train, y_train)\n",
    "\n",
    "    # Make predictions on the test set\n",
    "    y_pred = model.predict(X_test)\n",
    "\n",
    "    # Evaluate the model using Mean Squared Error (MSE) and R-squared (R²) score\n",
    "    mse = mean_squared_error(y_test, y_pred)\n",
    "    r2 = r2_score(y_test, y_pred)\n",
    "\n",
    "    # Display the evaluation metrics\n",
    "    display(Markdown(\"### Model Evaluation\"))\n",
    "    display(Markdown(f\"**Mean Squared Error:** {mse}\"))\n",
    "    display(Markdown(f\"**R^2 Score:** {r2}\"))\n",
    "    display(Markdown(\"The Mean Squared Error (MSE) measures the average squared difference between the actual and predicted values. A lower MSE indicates a better fit. The R² Score indicates the proportion of the variance in the target variable that is predictable from the features. An R² score close to 1 indicates a better fit.\"))\n",
    "\n",
    "    # Plot the regression line on the training data\n",
    "    plt.scatter(X_train, y_train, color='blue', label='Training data')\n",
    "    plt.plot(X_train, model.predict(X_train), color='red', label='Regression line')\n",
    "    plt.title('Linear Regression on Training Data')\n",
    "    plt.xlabel(feature)\n",
    "    plt.ylabel('Median House Value')\n",
    "    plt.legend()\n",
    "    plt.show()\n",
    "    display(Markdown(f\"### Linear Regression on Training Data\"))\n",
    "    display(Markdown(\"This plot shows the Linear Regression model fitted on the training data. The blue points represent the training data, and the red line represents the regression line fitted by the model.\"))\n",
    "\n",
    "    # Plot the regression line on the test data\n",
    "    plt.scatter(X_test, y_test, color='blue', label='Testing data')\n",
    "    plt.plot(X_test, y_pred, color='red', label='Regression line')\n",
    "    plt.title('Linear Regression on Test Data')\n",
    "    plt.xlabel(feature)\n",
    "    plt.ylabel('Median House Value')\n",
    "    plt.legend()\n",
    "    plt.show()\n",
    "    display(Markdown(f\"### Linear Regression on Test Data\"))\n",
    "    display(Markdown(\"This plot shows the Linear Regression model predictions on the test data. The blue points represent the test data, and the red line represents the regression line predicted by the model. Comparing this plot with the training data plot helps to assess the model's performance on unseen data.\"))\n",
    "\n",
    "    return model, scaler\n",
    "\n",
    "# Function to perform Polynomial Regression with preprocessing\n",
    "def perform_polynomial_regression(feature, preprocess, degree):\n",
    "    # Select the feature and the target from the dataset\n",
    "    X = data[[feature]].values  # Feature\n",
    "    y = data['MedHouseVal'].values  # Target\n",
    "\n",
    "    # Preprocess the feature if selected\n",
    "    scaler = None\n",
    "    if preprocess == 'Standard Scaler':\n",
    "        scaler = StandardScaler()\n",
    "        X = scaler.fit_transform(X)\n",
    "    elif preprocess == 'Min-Max Scaler':\n",
    "        scaler = MinMaxScaler()\n",
    "        X = scaler.fit_transform(X)\n",
    "    elif preprocess == 'Robust Scaler':\n",
    "        scaler = RobustScaler()\n",
    "        X = scaler.fit_transform(X)\n",
    "\n",
    "    # Create polynomial features\n",
    "    poly = PolynomialFeatures(degree=degree)\n",
    "    X_poly = poly.fit_transform(X)\n",
    "\n",
    "    # Split the data into training and testing sets\n",
    "    X_train, X_test, y_train, y_test = train_test_split(X_poly, y, test_size=0.2, random_state=0)\n",
    "\n",
    "    # Create a Linear Regression model\n",
    "    model = LinearRegression()\n",
    "\n",
    "    # Train the model on the training data\n",
    "    model.fit(X_train, y_train)\n",
    "\n",
    "    # Make predictions on the test set\n",
    "    y_pred = model.predict(X_test)\n",
    "\n",
    "    # Evaluate the model using Mean Squared Error (MSE) and R-squared (R²) score\n",
    "    mse = mean_squared_error(y_test, y_pred)\n",
    "    r2 = r2_score(y_test, y_pred)\n",
    "\n",
    "    # Display the evaluation metrics\n",
    "    display(Markdown(\"### Model Evaluation\"))\n",
    "    display(Markdown(f\"**Mean Squared Error:** {mse}\"))\n",
    "    display(Markdown(f\"**R^2 Score:** {r2}\"))\n",
    "    display(Markdown(\"The Mean Squared Error (MSE) measures the average squared difference between the actual and predicted values. A lower MSE indicates a better fit. The R² Score indicates the proportion of the variance in the target variable that is predictable from the features. An R² score close to 1 indicates a better fit.\"))\n",
    "\n",
    "    # Plot the regression curve on the training data\n",
    "    plt.scatter(X_train[:, 1], y_train, color='blue', label='Training data')\n",
    "    plt.plot(np.sort(X_train[:, 1]), model.predict(np.sort(X_train, axis=0)), color='red', label='Regression curve')\n",
    "    plt.title('Polynomial Regression on Training Data')\n",
    "    plt.xlabel(feature)\n",
    "    plt.ylabel('Median House Value')\n",
    "    plt.legend()\n",
    "    plt.show()\n",
    "    display(Markdown(f\"### Polynomial Regression on Training Data\"))\n",
    "    display(Markdown(\"This plot shows the Polynomial Regression model fitted on the training data. The blue points represent the training data, and the red curve represents the regression curve fitted by the model.\"))\n",
    "\n",
    "    # Plot the regression curve on the test data\n",
    "    plt.scatter(X_test[:, 1], y_test, color='blue', label='Testing data')\n",
    "    plt.plot(np.sort(X_test[:, 1]), model.predict(np.sort(X_test, axis=0)), color='red', label='Regression curve')\n",
    "    plt.title('Polynomial Regression on Test Data')\n",
    "    plt.xlabel(feature)\n",
    "    plt.ylabel('Median House Value')\n",
    "    plt.legend()\n",
    "    plt.show()\n",
    "    display(Markdown(f\"### Polynomial Regression on Test Data\"))\n",
    "    display(Markdown(\"This plot shows the Polynomial Regression model predictions on the test data. The blue points represent the test data, and the red curve represents the regression curve predicted by the model. Comparing this plot with the training data plot helps to assess the model's performance on unseen data.\"))\n",
    "\n",
    "    return model, scaler, poly\n",
    "\n",
    "# Function to make predictions with new input values\n",
    "def make_predictions(model, scaler, poly, feature, input_value, regression_type):\n",
    "    # Preprocess the input value if a scaler is provided\n",
    "    if scaler:\n",
    "        input_value = scaler.transform(np.array([[input_value]]))\n",
    "\n",
    "    # Create polynomial features if Polynomial Regression is selected\n",
    "    if regression_type == 'Polynomial Regression':\n",
    "        input_value = poly.transform(input_value)\n",
    "\n",
    "    # Make prediction\n",
    "    prediction = model.predict(input_value)\n",
    "\n",
    "    # Display the prediction\n",
    "    display(Markdown(f\"### Prediction for {feature} = {input_value[0][0] if scaler is None else input_value[0][1]}\"))\n",
    "    display(Markdown(f\"**Predicted Median House Value:** {prediction[0]}\"))\n",
    "\n",
    "# Create a dropdown widget for selecting the feature to visualize and use for Linear Regression\n",
    "feature_dropdown = widgets.Dropdown(\n",
    "    options=housing.feature_names,\n",
    "    value='AveRooms',  # Default value\n",
    "    description='Feature:',\n",
    "    disabled=False,\n",
    ")\n",
    "\n",
    "# Create a dropdown widget for selecting the preprocessing method\n",
    "preprocess_dropdown = widgets.Dropdown(\n",
    "    options=['None', 'Standard Scaler', 'Min-Max Scaler', 'Robust Scaler'],\n",
    "    value='None',  # Default value\n",
    "    description='Preprocess:',\n",
    "    disabled=False,\n",
    ")\n",
    "\n",
    "# Create a dropdown widget for selecting the regression type\n",
    "regression_dropdown = widgets.Dropdown(\n",
    "    options=['Linear Regression', 'Polynomial Regression'],\n",
    "    value='Linear Regression',  # Default value\n",
    "    description='Regression Type:',\n",
    "    disabled=False,\n",
    ")\n",
    "\n",
    "# Create a float input widget for entering a new value to make predictions\n",
    "input_value = widgets.FloatText(\n",
    "    value=0.0,\n",
    "    description='Input Value:',\n",
    "    disabled=False,\n",
    ")\n",
    "\n",
    "# Create an integer input widget for entering the degree of the polynomial (used only for Polynomial Regression)\n",
    "degree_input = widgets.IntText(\n",
    "    value=2,\n",
    "    description='Degree:',\n",
    "    disabled=False,\n",
    ")\n",
    "\n",
    "# Create buttons for interactive actions\n",
    "display_data_button = widgets.Button(description=\"Display Dataset Info\")\n",
    "visualize_data_button = widgets.Button(description=\"Visualize Data\")\n",
    "perform_lr_button = widgets.Button(description=\"Perform Regression\")\n",
    "predict_button = widgets.Button(description=\"Make Prediction\")\n",
    "\n",
    "# Display the button for showing dataset information\n",
    "display(display_data_button)\n",
    "# Attach the display_data_info function to the button click event\n",
    "display_data_button.on_click(lambda b: display_data_info())\n",
    "\n",
    "# Display the dropdowns and button for visualizing data\n",
    "display(feature_dropdown)\n",
    "display(preprocess_dropdown)\n",
    "display(visualize_data_button)\n",
    "# Attach the visualize_data function to the button click event\n",
    "visualize_data_button.on_click(lambda b: visualize_data(feature_dropdown.value, preprocess_dropdown.value))\n",
    "\n",
    "# Display the dropdowns, degree input, and button for performing Regression\n",
    "display(regression_dropdown)\n",
    "display(preprocess_dropdown)\n",
    "display(feature_dropdown)\n",
    "display(degree_input)\n",
    "display(perform_lr_button)\n",
    "# Initialize variables for model, scaler, and polynomial features\n",
    "model = None\n",
    "scaler = None\n",
    "poly = None\n",
    "# Attach the perform_regression function to the button click event\n",
    "def perform_regression_action(b):\n",
    "    global model, scaler, poly\n",
    "    if regression_dropdown.value == 'Linear Regression':\n",
    "        model, scaler = perform_linear_regression(feature_dropdown.value, preprocess_dropdown.value)\n",
    "    else:\n",
    "        model, scaler, poly = perform_polynomial_regression(feature_dropdown.value, preprocess_dropdown.value, degree_input.value)\n",
    "\n",
    "perform_lr_button.on_click(perform_regression_action)\n",
    "\n",
    "# Display the float input and button for making predictions\n",
    "display(input_value)\n",
    "display(predict_button)\n",
    "# Attach the make_predictions function to the button click event\n",
    "predict_button.on_click(lambda b: make_predictions(model, scaler, poly, feature_dropdown.value, input_value.value, regression_dropdown.value))\n"
   ]
  },
  {
   "cell_type": "markdown",
   "metadata": {
    "id": "ADUKC_-RASff"
   },
   "source": [
    "### Regularization Techniques: Theory and Implementation\n",
    "\n",
    "\n",
    "---\n",
    "\n",
    "\n",
    "\n",
    "#### Introduction\n",
    "Regularization techniques are used in machine learning to prevent overfitting by adding a penalty term to the model's loss function. Overfitting occurs when a model learns not only the underlying pattern but also the noise in the training data, resulting in poor performance on unseen data. The three most common regularization techniques are Ridge, Lasso, and Elastic Net Regression.\n",
    "\n",
    "#### California Housing Dataset\n",
    "The California Housing dataset is used in this example. It contains information about housing prices in California, with features such as the average number of rooms, population, median income, etc., and the target variable being the median house value.\n",
    "\n",
    "#### Steps Involved\n",
    "\n",
    "**Loading the Dataset:**\n",
    "The dataset is loaded using the `fetch_california_housing` function from the `scikit-learn` library and converted into a pandas DataFrame for easier handling.\n",
    "\n",
    "**Dataset Information:**\n",
    "\n",
    "- **Number of Instances**: The total number of data points in the dataset.\n",
    "- **Number of Features**: The number of input features used for prediction.\n",
    "- **Target Variable**: The variable we aim to predict, which in this case is the median house value (`MedHouseVal`).\n",
    "\n",
    "**Data Visualization:**\n",
    "\n",
    "- **Scatter Plot**: A scatter plot is used to visualize the relationship between the selected feature and the target variable. This helps in understanding how the feature influences the target.\n",
    "\n",
    "**Preprocessing:**\n",
    "\n",
    "- **Standard Scaler**: Scales the data so that it has a mean of 0 and a standard deviation of 1. Useful when the data has varying scales.\n",
    "- **Min-Max Scaler**: Scales the data to a fixed range, usually 0 to 1. Useful when the data needs to be normalized.\n",
    "- **Robust Scaler**: Scales the data using statistics that are robust to outliers. Useful when the data contains outliers.\n",
    "\n",
    "#### Regularization Techniques\n",
    "\n",
    "**Ridge Regression:**\n",
    "Ridge Regression (also known as Tikhonov regularization) adds a penalty term to the loss function proportional to the square of the magnitude of the coefficients. Ridge Regression helps in reducing the variance of the model without eliminating any features.\n",
    "\n",
    "**Lasso Regression:**\n",
    "Lasso Regression (Least Absolute Shrinkage and Selection Operator) adds a penalty term to the loss function proportional to the absolute value of the magnitude of the coefficients.\n",
    "Lasso Regression can shrink some coefficients to zero, effectively performing feature selection.\n",
    "\n",
    "**Elastic Net Regression:**\n",
    "Elastic Net Regression combines both Ridge and Lasso penalties.\n",
    "Elastic Net is useful when there are multiple features that are correlated with one another.\n",
    "\n",
    "#### Training the Model:\n",
    "- The model is trained on the training data. The relationship between the input features and the target variable is learned while applying the selected regularization technique.\n",
    "\n",
    "#### Evaluating the Model:\n",
    "- The model's performance is evaluated using metrics such as Mean Squared Error (MSE) and R-squared (R²) score.\n",
    "  - **MSE**: Measures the average squared difference between the actual and predicted values. Lower MSE indicates a better fit.\n",
    "  - **R² Score**: Indicates the proportion of the variance in the target variable that is predictable from the features. An R² score close to 1 indicates a better fit.\n",
    "\n",
    "#### Visualization of the Model:\n",
    "\n",
    "- **Regression Line on Training Data**: Shows how well the model fits the training data.\n",
    "- **Regression Line on Test Data**: Shows how well the model generalizes to unseen data.\n",
    "\n",
    "#### Making Predictions:\n",
    "\n",
    "The trained model is used to make predictions on new input values. If preprocessing was applied during training, the same preprocessing is applied to the input values before making predictions.\n",
    "\n"
   ]
  },
  {
   "cell_type": "code",
   "execution_count": 8,
   "metadata": {
    "colab": {
     "base_uri": "https://localhost:8080/",
     "height": 1000,
     "referenced_widgets": [
      "40cc0f68b69e48538b80fdc857ce9c79",
      "be954e22b3014353b2982de894441d67",
      "59b4e008572249338f608d7bbfa0fb26",
      "ac015fffeae34a74b5663c5d244d412c",
      "73369ecf21014c678e56064b46757d39",
      "168e77a6968f491d89a2bad18546470c",
      "626e37b3d174426993f07ca2177dc308",
      "60569cc8bdf943f19b5c02c81af28a4b",
      "31290d3abd6d4f649985a46327c96384",
      "1f8a3f9d5f45457baec173e6f79912cc",
      "b718fd8262e642ba90587c5e48515796",
      "96740571c01a40018a82352f456e8968",
      "6b254ec8ca134eea9a8234ec175cb9ee",
      "bc3f25750aaa4cdfbdb7d74d1bbd55a2",
      "fb95a0733e184960b0244e3b4bf8ce5c",
      "04b182fd209643a4b754e4c9681279b2",
      "fd170dbeaae14523b01bb761a7a47a8a",
      "61fbda12b622464294a03c24fefe14ac",
      "587ee23233024f8ea7d9f23d6fb70110",
      "76e7eda501cc463d9569932cd748e78f",
      "2ac94c2da7e9472a9b62a9b231e85ecf",
      "b2a7b6d8f0c64533ae6c5cd1c1aed342",
      "526d6c2be123491ea71f90476ac4afc4",
      "70fcf1426a8444cc9c47f53bfc6a4cd6",
      "c008b5aefdbc4607bbca8e46d519a881",
      "3f04c413b205495fa487a63952886643",
      "b478c01f5acc4f80be21b878d8431926"
     ]
    },
    "id": "6O5fgPVjAS81",
    "outputId": "ff1f99e5-5612-4d8c-bc10-4e9e436a03b3"
   },
   "outputs": [
    {
     "data": {
      "application/vnd.jupyter.widget-view+json": {
       "model_id": "40cc0f68b69e48538b80fdc857ce9c79",
       "version_major": 2,
       "version_minor": 0
      },
      "text/plain": [
       "Button(description='Display Dataset Info', style=ButtonStyle())"
      ]
     },
     "metadata": {},
     "output_type": "display_data"
    },
    {
     "data": {
      "application/vnd.jupyter.widget-view+json": {
       "model_id": "ac015fffeae34a74b5663c5d244d412c",
       "version_major": 2,
       "version_minor": 0
      },
      "text/plain": [
       "Dropdown(description='Feature:', index=2, options=('MedInc', 'HouseAge', 'AveRooms', 'AveBedrms', 'Population'…"
      ]
     },
     "metadata": {},
     "output_type": "display_data"
    },
    {
     "data": {
      "application/vnd.jupyter.widget-view+json": {
       "model_id": "626e37b3d174426993f07ca2177dc308",
       "version_major": 2,
       "version_minor": 0
      },
      "text/plain": [
       "Dropdown(description='Preprocess:', options=('None', 'Standard Scaler', 'Min-Max Scaler', 'Robust Scaler'), va…"
      ]
     },
     "metadata": {},
     "output_type": "display_data"
    },
    {
     "data": {
      "application/vnd.jupyter.widget-view+json": {
       "model_id": "1f8a3f9d5f45457baec173e6f79912cc",
       "version_major": 2,
       "version_minor": 0
      },
      "text/plain": [
       "Button(description='Visualize Data', style=ButtonStyle())"
      ]
     },
     "metadata": {},
     "output_type": "display_data"
    },
    {
     "data": {
      "application/vnd.jupyter.widget-view+json": {
       "model_id": "6b254ec8ca134eea9a8234ec175cb9ee",
       "version_major": 2,
       "version_minor": 0
      },
      "text/plain": [
       "Dropdown(description='Method:', options=('Ridge', 'Lasso', 'Elastic Net'), value='Ridge')"
      ]
     },
     "metadata": {},
     "output_type": "display_data"
    },
    {
     "data": {
      "application/vnd.jupyter.widget-view+json": {
       "model_id": "626e37b3d174426993f07ca2177dc308",
       "version_major": 2,
       "version_minor": 0
      },
      "text/plain": [
       "Dropdown(description='Preprocess:', options=('None', 'Standard Scaler', 'Min-Max Scaler', 'Robust Scaler'), va…"
      ]
     },
     "metadata": {},
     "output_type": "display_data"
    },
    {
     "data": {
      "application/vnd.jupyter.widget-view+json": {
       "model_id": "ac015fffeae34a74b5663c5d244d412c",
       "version_major": 2,
       "version_minor": 0
      },
      "text/plain": [
       "Dropdown(description='Feature:', index=2, options=('MedInc', 'HouseAge', 'AveRooms', 'AveBedrms', 'Population'…"
      ]
     },
     "metadata": {},
     "output_type": "display_data"
    },
    {
     "data": {
      "application/vnd.jupyter.widget-view+json": {
       "model_id": "04b182fd209643a4b754e4c9681279b2",
       "version_major": 2,
       "version_minor": 0
      },
      "text/plain": [
       "FloatText(value=1.0, description='Alpha:')"
      ]
     },
     "metadata": {},
     "output_type": "display_data"
    },
    {
     "data": {
      "application/vnd.jupyter.widget-view+json": {
       "model_id": "587ee23233024f8ea7d9f23d6fb70110",
       "version_major": 2,
       "version_minor": 0
      },
      "text/plain": [
       "Button(description='Perform Regression', style=ButtonStyle())"
      ]
     },
     "metadata": {},
     "output_type": "display_data"
    },
    {
     "data": {
      "application/vnd.jupyter.widget-view+json": {
       "model_id": "b2a7b6d8f0c64533ae6c5cd1c1aed342",
       "version_major": 2,
       "version_minor": 0
      },
      "text/plain": [
       "FloatText(value=0.0, description='Input Value:')"
      ]
     },
     "metadata": {},
     "output_type": "display_data"
    },
    {
     "data": {
      "application/vnd.jupyter.widget-view+json": {
       "model_id": "c008b5aefdbc4607bbca8e46d519a881",
       "version_major": 2,
       "version_minor": 0
      },
      "text/plain": [
       "Button(description='Make Prediction', style=ButtonStyle())"
      ]
     },
     "metadata": {},
     "output_type": "display_data"
    },
    {
     "data": {
      "image/png": "[encoded data removed]",
      "text/plain": [
       "<Figure size 640x480 with 1 Axes>"
      ]
     },
     "metadata": {},
     "output_type": "display_data"
    },
    {
     "data": {
      "text/markdown": [
       "### Visualization of Population"
      ],
      "text/plain": [
       "<IPython.core.display.Markdown object>"
      ]
     },
     "metadata": {},
     "output_type": "display_data"
    },
    {
     "data": {
      "text/markdown": [
       "This scatter plot shows the relationship between the selected feature **Population** and the target variable **Median House Value**. Each blue point represents a data instance from the dataset. If preprocessing was selected, the feature values have been scaled accordingly."
      ],
      "text/plain": [
       "<IPython.core.display.Markdown object>"
      ]
     },
     "metadata": {},
     "output_type": "display_data"
    },
    {
     "data": {
      "text/markdown": [
       "### Model Evaluation"
      ],
      "text/plain": [
       "<IPython.core.display.Markdown object>"
      ]
     },
     "metadata": {},
     "output_type": "display_data"
    },
    {
     "data": {
      "text/markdown": [
       "**Mean Squared Error:** 1.3042488225221651"
      ],
      "text/plain": [
       "<IPython.core.display.Markdown object>"
      ]
     },
     "metadata": {},
     "output_type": "display_data"
    },
    {
     "data": {
      "text/markdown": [
       "**R^2 Score:** -0.00022540672753823543"
      ],
      "text/plain": [
       "<IPython.core.display.Markdown object>"
      ]
     },
     "metadata": {},
     "output_type": "display_data"
    },
    {
     "data": {
      "text/markdown": [
       "The Mean Squared Error (MSE) measures the average squared difference between the actual and predicted values. A lower MSE indicates a better fit. The R² Score indicates the proportion of the variance in the target variable that is predictable from the features. An R² score close to 1 indicates a better fit."
      ],
      "text/plain": [
       "<IPython.core.display.Markdown object>"
      ]
     },
     "metadata": {},
     "output_type": "display_data"
    },
    {
     "data": {
      "image/png": "[encoded data removed]",
      "text/plain": [
       "<Figure size 640x480 with 1 Axes>"
      ]
     },
     "metadata": {},
     "output_type": "display_data"
    },
    {
     "data": {
      "text/markdown": [
       "### Ridge Regression on Training Data"
      ],
      "text/plain": [
       "<IPython.core.display.Markdown object>"
      ]
     },
     "metadata": {},
     "output_type": "display_data"
    },
    {
     "data": {
      "text/markdown": [
       "This plot shows the Ridge Regression model fitted on the training data. The blue points represent the training data, and the red line represents the regression line fitted by the model."
      ],
      "text/plain": [
       "<IPython.core.display.Markdown object>"
      ]
     },
     "metadata": {},
     "output_type": "display_data"
    },
    {
     "data": {
      "image/png": "[encoded data removed]",
      "text/plain": [
       "<Figure size 640x480 with 1 Axes>"
      ]
     },
     "metadata": {},
     "output_type": "display_data"
    },
    {
     "data": {
      "text/markdown": [
       "### Ridge Regression on Test Data"
      ],
      "text/plain": [
       "<IPython.core.display.Markdown object>"
      ]
     },
     "metadata": {},
     "output_type": "display_data"
    },
    {
     "data": {
      "text/markdown": [
       "This plot shows the Ridge Regression model predictions on the test data. The blue points represent the test data, and the red line represents the regression line predicted by the model. Comparing this plot with the training data plot helps to assess the model's performance on unseen data."
      ],
      "text/plain": [
       "<IPython.core.display.Markdown object>"
      ]
     },
     "metadata": {},
     "output_type": "display_data"
    },
    {
     "data": {
      "text/markdown": [
       "### Model Evaluation"
      ],
      "text/plain": [
       "<IPython.core.display.Markdown object>"
      ]
     },
     "metadata": {},
     "output_type": "display_data"
    },
    {
     "data": {
      "text/markdown": [
       "**Mean Squared Error:** 1.3042488225221283"
      ],
      "text/plain": [
       "<IPython.core.display.Markdown object>"
      ]
     },
     "metadata": {},
     "output_type": "display_data"
    },
    {
     "data": {
      "text/markdown": [
       "**R^2 Score:** -0.00022540672751003576"
      ],
      "text/plain": [
       "<IPython.core.display.Markdown object>"
      ]
     },
     "metadata": {},
     "output_type": "display_data"
    },
    {
     "data": {
      "text/markdown": [
       "The Mean Squared Error (MSE) measures the average squared difference between the actual and predicted values. A lower MSE indicates a better fit. The R² Score indicates the proportion of the variance in the target variable that is predictable from the features. An R² score close to 1 indicates a better fit."
      ],
      "text/plain": [
       "<IPython.core.display.Markdown object>"
      ]
     },
     "metadata": {},
     "output_type": "display_data"
    },
    {
     "data": {
      "image/png": "[encoded data removed]",
      "text/plain": [
       "<Figure size 640x480 with 1 Axes>"
      ]
     },
     "metadata": {},
     "output_type": "display_data"
    },
    {
     "data": {
      "text/markdown": [
       "### Ridge Regression on Training Data"
      ],
      "text/plain": [
       "<IPython.core.display.Markdown object>"
      ]
     },
     "metadata": {},
     "output_type": "display_data"
    },
    {
     "data": {
      "text/markdown": [
       "This plot shows the Ridge Regression model fitted on the training data. The blue points represent the training data, and the red line represents the regression line fitted by the model."
      ],
      "text/plain": [
       "<IPython.core.display.Markdown object>"
      ]
     },
     "metadata": {},
     "output_type": "display_data"
    },
    {
     "data": {
      "image/png": "[encoded data removed]",
      "text/plain": [
       "<Figure size 640x480 with 1 Axes>"
      ]
     },
     "metadata": {},
     "output_type": "display_data"
    },
    {
     "data": {
      "text/markdown": [
       "### Ridge Regression on Test Data"
      ],
      "text/plain": [
       "<IPython.core.display.Markdown object>"
      ]
     },
     "metadata": {},
     "output_type": "display_data"
    },
    {
     "data": {
      "text/markdown": [
       "This plot shows the Ridge Regression model predictions on the test data. The blue points represent the test data, and the red line represents the regression line predicted by the model. Comparing this plot with the training data plot helps to assess the model's performance on unseen data."
      ],
      "text/plain": [
       "<IPython.core.display.Markdown object>"
      ]
     },
     "metadata": {},
     "output_type": "display_data"
    }
   ],
   "source": [
    "# Importing necessary libraries\n",
    "import numpy as np\n",
    "import pandas as pd\n",
    "import matplotlib.pyplot as plt\n",
    "from sklearn.datasets import fetch_california_housing\n",
    "from sklearn.model_selection import train_test_split\n",
    "from sklearn.linear_model import LinearRegression, Ridge, Lasso, ElasticNet\n",
    "from sklearn.preprocessing import StandardScaler, MinMaxScaler, RobustScaler\n",
    "from sklearn.metrics import mean_squared_error, r2_score\n",
    "import ipywidgets as widgets\n",
    "from IPython.display import display, Markdown\n",
    "\n",
    "\n",
    "def load_dataset():\n",
    "    return ds;\n",
    "# Load the California Housing dataset from scikit-learn\n",
    "data_set = fetch_california_housing()\n",
    "\n",
    "# Convert the dataset to a pandas DataFrame for easier handling\n",
    "data = pd.DataFrame(housing.data, columns=housing.feature_names)\n",
    "data['MedHouseVal'] = housing.target  # Add the target column (median house value) to the DataFrame\n",
    "\n",
    "# Function to display dataset information\n",
    "def display_data_info():\n",
    "    # Display the dataset information and structure\n",
    "    display(Markdown(\"### Dataset Information\"))\n",
    "    display(Markdown(\"The California Housing dataset contains information about housing prices in California.\"))\n",
    "    display(Markdown(f\"**Number of instances:** {data.shape[0]}\"))\n",
    "    display(Markdown(f\"**Number of features:** {data.shape[1] - 1}\"))\n",
    "    display(Markdown(f\"**Features:** {', '.join(housing.feature_names)}\"))\n",
    "    display(Markdown(\"**Target:** MedHouseVal (Median House Value)\"))\n",
    "    display(Markdown(\"### First 5 Rows of the Dataset\"))\n",
    "    display(data.head())  # Display the first 5 rows of the dataset\n",
    "\n",
    "# Function to visualize the dataset\n",
    "def visualize_data(feature, preprocess):\n",
    "    # Select the feature and the target from the dataset\n",
    "    X = data[[feature]].values  # Feature\n",
    "    y = data['MedHouseVal'].values  # Target\n",
    "\n",
    "    # Preprocess the feature if selected\n",
    "    if preprocess == 'Standard Scaler':\n",
    "        scaler = StandardScaler()\n",
    "        X = scaler.fit_transform(X)\n",
    "    elif preprocess == 'Min-Max Scaler':\n",
    "        scaler = MinMaxScaler()\n",
    "        X = scaler.fit_transform(X)\n",
    "    elif preprocess == 'Robust Scaler':\n",
    "        scaler = RobustScaler()\n",
    "        X = scaler.fit_transform(X)\n",
    "\n",
    "    # Create a scatter plot to visualize the relationship between the selected feature and the target\n",
    "    plt.scatter(X, y, color='blue', label='Data points')\n",
    "    plt.title(f'{feature} vs Median House Value')\n",
    "    plt.xlabel(feature)\n",
    "    plt.ylabel('Median House Value')\n",
    "    plt.legend()\n",
    "    plt.show()\n",
    "    # Display explanation of the visualization\n",
    "    display(Markdown(f\"### Visualization of {feature}\"))\n",
    "    display(Markdown(f\"This scatter plot shows the relationship between the selected feature **{feature}** and the target variable **Median House Value**. Each blue point represents a data instance from the dataset. If preprocessing was selected, the feature values have been scaled accordingly.\"))\n",
    "\n",
    "# Function to perform Regularization (Ridge, Lasso, Elastic Net) with preprocessing\n",
    "def perform_regularization(feature, preprocess, method, alpha):\n",
    "    # Select the feature and the target from the dataset\n",
    "    X = data[[feature]].values  # Feature\n",
    "    y = data['MedHouseVal'].values  # Target\n",
    "\n",
    "    # Preprocess the feature if selected\n",
    "    scaler = None\n",
    "    if preprocess == 'Standard Scaler':\n",
    "        scaler = StandardScaler()\n",
    "        X = scaler.fit_transform(X)\n",
    "    elif preprocess == 'Min-Max Scaler':\n",
    "        scaler = MinMaxScaler()\n",
    "        X = scaler.fit_transform(X)\n",
    "    elif preprocess == 'Robust Scaler':\n",
    "        scaler = RobustScaler()\n",
    "        X = scaler.fit_transform(X)\n",
    "\n",
    "    # Split the data into training and testing sets\n",
    "    X_train, X_test, y_train, y_test = train_test_split(X, y, test_size=0.2, random_state=0)\n",
    "\n",
    "    # Select the regularization method\n",
    "    if method == 'Ridge':\n",
    "        model = Ridge(alpha=alpha)\n",
    "    elif method == 'Lasso':\n",
    "        model = Lasso(alpha=alpha)\n",
    "    elif method == 'Elastic Net':\n",
    "        model = ElasticNet(alpha=alpha)\n",
    "    else:\n",
    "        model = LinearRegression()  # Fallback to Linear Regression\n",
    "\n",
    "    # Train the model on the training data\n",
    "    model.fit(X_train, y_train)\n",
    "\n",
    "    # Make predictions on the test set\n",
    "    y_pred = model.predict(X_test)\n",
    "\n",
    "    # Evaluate the model using Mean Squared Error (MSE) and R-squared (R²) score\n",
    "    mse = mean_squared_error(y_test, y_pred)\n",
    "    r2 = r2_score(y_test, y_pred)\n",
    "\n",
    "    # Display the evaluation metrics\n",
    "    display(Markdown(\"### Model Evaluation\"))\n",
    "    display(Markdown(f\"**Mean Squared Error:** {mse}\"))\n",
    "    display(Markdown(f\"**R^2 Score:** {r2}\"))\n",
    "    display(Markdown(\"The Mean Squared Error (MSE) measures the average squared difference between the actual and predicted values. A lower MSE indicates a better fit. The R² Score indicates the proportion of the variance in the target variable that is predictable from the features. An R² score close to 1 indicates a better fit.\"))\n",
    "\n",
    "    # Plot the regression line on the training data\n",
    "    plt.scatter(X_train, y_train, color='blue', label='Training data')\n",
    "    plt.plot(X_train, model.predict(X_train), color='red', label='Regression line')\n",
    "    plt.title(f'{method} Regression on Training Data')\n",
    "    plt.xlabel(feature)\n",
    "    plt.ylabel('Median House Value')\n",
    "    plt.legend()\n",
    "    plt.show()\n",
    "    display(Markdown(f\"### {method} Regression on Training Data\"))\n",
    "    display(Markdown(f\"This plot shows the {method} Regression model fitted on the training data. The blue points represent the training data, and the red line represents the regression line fitted by the model.\"))\n",
    "\n",
    "    # Plot the regression line on the test data\n",
    "    plt.scatter(X_test, y_test, color='blue', label='Testing data')\n",
    "    plt.plot(X_test, y_pred, color='red', label='Regression line')\n",
    "    plt.title(f'{method} Regression on Test Data')\n",
    "    plt.xlabel(feature)\n",
    "    plt.ylabel('Median House Value')\n",
    "    plt.legend()\n",
    "    plt.show()\n",
    "    display(Markdown(f\"### {method} Regression on Test Data\"))\n",
    "    display(Markdown(f\"This plot shows the {method} Regression model predictions on the test data. The blue points represent the test data, and the red line represents the regression line predicted by the model. Comparing this plot with the training data plot helps to assess the model's performance on unseen data.\"))\n",
    "\n",
    "    return model, scaler\n",
    "\n",
    "# Function to make predictions with new input values\n",
    "def make_predictions(model, scaler, feature, input_value):\n",
    "    # Preprocess the input value if a scaler is provided\n",
    "    if scaler:\n",
    "        input_value = scaler.transform(np.array([[input_value]]))\n",
    "\n",
    "    # Make prediction\n",
    "    prediction = model.predict(input_value)\n",
    "\n",
    "    # Display the prediction\n",
    "    display(Markdown(f\"### Prediction for {feature} = {input_value[0][0] if scaler else input_value[0]}\"))\n",
    "    display(Markdown(f\"**Predicted Median House Value:** {prediction[0]}\"))\n",
    "\n",
    "# Create a dropdown widget for selecting the feature to visualize and use for Regularization\n",
    "feature_dropdown = widgets.Dropdown(\n",
    "    options=housing.feature_names,\n",
    "    value='AveRooms',  # Default value\n",
    "    description='Feature:',\n",
    "    disabled=False,\n",
    ")\n",
    "\n",
    "# Create a dropdown widget for selecting the preprocessing method\n",
    "preprocess_dropdown = widgets.Dropdown(\n",
    "    options=['None', 'Standard Scaler', 'Min-Max Scaler', 'Robust Scaler'],\n",
    "    value='None',  # Default value\n",
    "    description='Preprocess:',\n",
    "    disabled=False,\n",
    ")\n",
    "\n",
    "# Create a dropdown widget for selecting the regularization method\n",
    "method_dropdown = widgets.Dropdown(\n",
    "    options=['Ridge', 'Lasso', 'Elastic Net'],\n",
    "    value='Ridge',  # Default value\n",
    "    description='Method:',\n",
    "    disabled=False,\n",
    ")\n",
    "\n",
    "# Create a float input widget for entering the alpha value (regularization strength)\n",
    "alpha_input = widgets.FloatText(\n",
    "    value=1.0,\n",
    "    description='Alpha:',\n",
    "    disabled=False,\n",
    ")\n",
    "\n",
    "# Create a float input widget for entering a new value to make predictions\n",
    "input_value = widgets.FloatText(\n",
    "    value=0.0,\n",
    "    description='Input Value:',\n",
    "    disabled=False,\n",
    ")\n",
    "\n",
    "# Create buttons for interactive actions\n",
    "display_data_button = widgets.Button(description=\"Display Dataset Info\")\n",
    "visualize_data_button = widgets.Button(description=\"Visualize Data\")\n",
    "perform_regression_button = widgets.Button(description=\"Perform Regression\")\n",
    "predict_button = widgets.Button(description=\"Make Prediction\")\n",
    "\n",
    "# Display the button for showing dataset information\n",
    "display(display_data_button)\n",
    "# Attach the display_data_info function to the button click event\n",
    "display_data_button.on_click(lambda b: display_data_info())\n",
    "\n",
    "# Display the dropdowns and button for visualizing data\n",
    "display(feature_dropdown)\n",
    "display(preprocess_dropdown)\n",
    "display(visualize_data_button)\n",
    "# Attach the visualize_data function to the button click event\n",
    "visualize_data_button.on_click(lambda b: visualize_data(feature_dropdown.value, preprocess_dropdown.value))\n",
    "\n",
    "# Display the dropdowns, alpha input, and button for performing Regularization\n",
    "display(method_dropdown)\n",
    "display(preprocess_dropdown)\n",
    "display(feature_dropdown)\n",
    "display(alpha_input)\n",
    "display(perform_regression_button)\n",
    "# Initialize variables for model and scaler\n",
    "model = None\n",
    "scaler = None\n",
    "# Attach the perform_regularization function to the button click event\n",
    "def perform_regularization_action(b):\n",
    "    global model, scaler\n",
    "    model, scaler = perform_regularization(feature_dropdown.value, preprocess_dropdown.value, method_dropdown.value, alpha_input.value)\n",
    "\n",
    "perform_regression_button.on_click(perform_regularization_action)\n",
    "\n",
    "# Display the float input and button for making predictions\n",
    "display(input_value)\n",
    "display(predict_button)\n",
    "# Attach the make_predictions function to the button click event\n",
    "predict_button.on_click(lambda b: make_predictions(model, scaler, feature_dropdown.value, input_value.value))\n"
   ]
  }
 ],
 "metadata": {
  "colab": {
   "provenance": []
  },
  "kernelspec": {
   "display_name": "Python 3 (ipykernel)",
   "language": "python",
   "name": "python3"
  },
  "language_info": {
   "codemirror_mode": {
    "name": "ipython",
    "version": 3
   },
   "file_extension": ".py",
   "mimetype": "text/x-python",
   "name": "python",
   "nbconvert_exporter": "python",
   "pygments_lexer": "ipython3",
   "version": "3.9.18"
  },
  "widgets": {
   "application/vnd.jupyter.widget-state+json": {
    "033ec09e650d4ae998e91c6cd2ef6938": {
     "model_module": "@jupyter-widgets/base",
     "model_module_version": "1.2.0",
     "model_name": "LayoutModel",
     "state": {
      "_model_module": "@jupyter-widgets/base",
      "_model_module_version": "1.2.0",
      "_model_name": "LayoutModel",
      "_view_count": null,
      "_view_module": "@jupyter-widgets/base",
      "_view_module_version": "1.2.0",
      "_view_name": "LayoutView",
      "align_content": null,
      "align_items": null,
      "align_self": null,
      "border": null,
      "bottom": null,
      "display": null,
      "flex": null,
      "flex_flow": null,
      "grid_area": null,
      "grid_auto_columns": null,
      "grid_auto_flow": null,
      "grid_auto_rows": null,
      "grid_column": null,
      "grid_gap": null,
      "grid_row": null,
      "grid_template_areas": null,
      "grid_template_columns": null,
      "grid_template_rows": null,
      "height": null,
      "justify_content": null,
      "justify_items": null,
      "left": null,
      "margin": null,
      "max_height": null,
      "max_width": null,
      "min_height": null,
      "min_width": null,
      "object_fit": null,
      "object_position": null,
      "order": null,
      "overflow": null,
      "overflow_x": null,
      "overflow_y": null,
      "padding": null,
      "right": null,
      "top": null,
      "visibility": null,
      "width": null
     }
    },
    "04b182fd209643a4b754e4c9681279b2": {
     "model_module": "@jupyter-widgets/controls",
     "model_module_version": "1.5.0",
     "model_name": "FloatTextModel",
     "state": {
      "_dom_classes": [],
      "_model_module": "@jupyter-widgets/controls",
      "_model_module_version": "1.5.0",
      "_model_name": "FloatTextModel",
      "_view_count": null,
      "_view_module": "@jupyter-widgets/controls",
      "_view_module_version": "1.5.0",
      "_view_name": "FloatTextView",
      "continuous_update": false,
      "description": "Alpha:",
      "description_tooltip": null,
      "disabled": false,
      "layout": "IPY_MODEL_fd170dbeaae14523b01bb761a7a47a8a",
      "step": null,
      "style": "IPY_MODEL_61fbda12b622464294a03c24fefe14ac",
      "value": 2
     }
    },
    "06396e7a796647be8991bc70712384da": {
     "model_module": "@jupyter-widgets/controls",
     "model_module_version": "1.5.0",
     "model_name": "DropdownModel",
     "state": {
      "_dom_classes": [],
      "_model_module": "@jupyter-widgets/controls",
      "_model_module_version": "1.5.0",
      "_model_name": "DropdownModel",
      "_options_labels": [
       "MedInc",
       "HouseAge",
       "AveRooms",
       "AveBedrms",
       "Population",
       "AveOccup",
       "Latitude",
       "Longitude"
      ],
      "_view_count": null,
      "_view_module": "@jupyter-widgets/controls",
      "_view_module_version": "1.5.0",
      "_view_name": "DropdownView",
      "description": "Feature:",
      "description_tooltip": null,
      "disabled": false,
      "index": 2,
      "layout": "IPY_MODEL_30ef90ec63024b0c8a4a2c02eb333d97",
      "style": "IPY_MODEL_463d825e64164c2395a493afb847357b"
     }
    },
    "0e4d9ca09349457ba6a72a4b8252e6fc": {
     "model_module": "@jupyter-widgets/base",
     "model_module_version": "1.2.0",
     "model_name": "LayoutModel",
     "state": {
      "_model_module": "@jupyter-widgets/base",
      "_model_module_version": "1.2.0",
      "_model_name": "LayoutModel",
      "_view_count": null,
      "_view_module": "@jupyter-widgets/base",
      "_view_module_version": "1.2.0",
      "_view_name": "LayoutView",
      "align_content": null,
      "align_items": null,
      "align_self": null,
      "border": null,
      "bottom": null,
      "display": null,
      "flex": null,
      "flex_flow": null,
      "grid_area": null,
      "grid_auto_columns": null,
      "grid_auto_flow": null,
      "grid_auto_rows": null,
      "grid_column": null,
      "grid_gap": null,
      "grid_row": null,
      "grid_template_areas": null,
      "grid_template_columns": null,
      "grid_template_rows": null,
      "height": null,
      "justify_content": null,
      "justify_items": null,
      "left": null,
      "margin": null,
      "max_height": null,
      "max_width": null,
      "min_height": null,
      "min_width": null,
      "object_fit": null,
      "object_position": null,
      "order": null,
      "overflow": null,
      "overflow_x": null,
      "overflow_y": null,
      "padding": null,
      "right": null,
      "top": null,
      "visibility": null,
      "width": null
     }
    },
    "0fa0c382d5214a0d829b8cdfa3a3df12": {
     "model_module": "@jupyter-widgets/base",
     "model_module_version": "1.2.0",
     "model_name": "LayoutModel",
     "state": {
      "_model_module": "@jupyter-widgets/base",
      "_model_module_version": "1.2.0",
      "_model_name": "LayoutModel",
      "_view_count": null,
      "_view_module": "@jupyter-widgets/base",
      "_view_module_version": "1.2.0",
      "_view_name": "LayoutView",
      "align_content": null,
      "align_items": null,
      "align_self": null,
      "border": null,
      "bottom": null,
      "display": null,
      "flex": null,
      "flex_flow": null,
      "grid_area": null,
      "grid_auto_columns": null,
      "grid_auto_flow": null,
      "grid_auto_rows": null,
      "grid_column": null,
      "grid_gap": null,
      "grid_row": null,
      "grid_template_areas": null,
      "grid_template_columns": null,
      "grid_template_rows": null,
      "height": null,
      "justify_content": null,
      "justify_items": null,
      "left": null,
      "margin": null,
      "max_height": null,
      "max_width": null,
      "min_height": null,
      "min_width": null,
      "object_fit": null,
      "object_position": null,
      "order": null,
      "overflow": null,
      "overflow_x": null,
      "overflow_y": null,
      "padding": null,
      "right": null,
      "top": null,
      "visibility": null,
      "width": null
     }
    },
    "112999f0676442aba737a16136a07c10": {
     "model_module": "@jupyter-widgets/controls",
     "model_module_version": "1.5.0",
     "model_name": "ButtonStyleModel",
     "state": {
      "_model_module": "@jupyter-widgets/controls",
      "_model_module_version": "1.5.0",
      "_model_name": "ButtonStyleModel",
      "_view_count": null,
      "_view_module": "@jupyter-widgets/base",
      "_view_module_version": "1.2.0",
      "_view_name": "StyleView",
      "button_color": null,
      "font_weight": ""
     }
    },
    "168e77a6968f491d89a2bad18546470c": {
     "model_module": "@jupyter-widgets/controls",
     "model_module_version": "1.5.0",
     "model_name": "DescriptionStyleModel",
     "state": {
      "_model_module": "@jupyter-widgets/controls",
      "_model_module_version": "1.5.0",
      "_model_name": "DescriptionStyleModel",
      "_view_count": null,
      "_view_module": "@jupyter-widgets/base",
      "_view_module_version": "1.2.0",
      "_view_name": "StyleView",
      "description_width": ""
     }
    },
    "1ad25089f57b4d96b486c32a05df4f97": {
     "model_module": "@jupyter-widgets/controls",
     "model_module_version": "1.5.0",
     "model_name": "ButtonStyleModel",
     "state": {
      "_model_module": "@jupyter-widgets/controls",
      "_model_module_version": "1.5.0",
      "_model_name": "ButtonStyleModel",
      "_view_count": null,
      "_view_module": "@jupyter-widgets/base",
      "_view_module_version": "1.2.0",
      "_view_name": "StyleView",
      "button_color": null,
      "font_weight": ""
     }
    },
    "1b8eecc6b96640dc861785f066b4cf19": {
     "model_module": "@jupyter-widgets/base",
     "model_module_version": "1.2.0",
     "model_name": "LayoutModel",
     "state": {
      "_model_module": "@jupyter-widgets/base",
      "_model_module_version": "1.2.0",
      "_model_name": "LayoutModel",
      "_view_count": null,
      "_view_module": "@jupyter-widgets/base",
      "_view_module_version": "1.2.0",
      "_view_name": "LayoutView",
      "align_content": null,
      "align_items": null,
      "align_self": null,
      "border": null,
      "bottom": null,
      "display": null,
      "flex": null,
      "flex_flow": null,
      "grid_area": null,
      "grid_auto_columns": null,
      "grid_auto_flow": null,
      "grid_auto_rows": null,
      "grid_column": null,
      "grid_gap": null,
      "grid_row": null,
      "grid_template_areas": null,
      "grid_template_columns": null,
      "grid_template_rows": null,
      "height": null,
      "justify_content": null,
      "justify_items": null,
      "left": null,
      "margin": null,
      "max_height": null,
      "max_width": null,
      "min_height": null,
      "min_width": null,
      "object_fit": null,
      "object_position": null,
      "order": null,
      "overflow": null,
      "overflow_x": null,
      "overflow_y": null,
      "padding": null,
      "right": null,
      "top": null,
      "visibility": null,
      "width": null
     }
    },
    "1d995a03872e464db72060bdff6d3014": {
     "model_module": "@jupyter-widgets/controls",
     "model_module_version": "1.5.0",
     "model_name": "ButtonModel",
     "state": {
      "_dom_classes": [],
      "_model_module": "@jupyter-widgets/controls",
      "_model_module_version": "1.5.0",
      "_model_name": "ButtonModel",
      "_view_count": null,
      "_view_module": "@jupyter-widgets/controls",
      "_view_module_version": "1.5.0",
      "_view_name": "ButtonView",
      "button_style": "",
      "description": "Display Dataset Info",
      "disabled": false,
      "icon": "",
      "layout": "IPY_MODEL_89a963b2cdf942a2a749be6f8157a24b",
      "style": "IPY_MODEL_1ad25089f57b4d96b486c32a05df4f97",
      "tooltip": ""
     }
    },
    "1f26a7249f9d41eab229ae7b99f640f0": {
     "model_module": "@jupyter-widgets/base",
     "model_module_version": "1.2.0",
     "model_name": "LayoutModel",
     "state": {
      "_model_module": "@jupyter-widgets/base",
      "_model_module_version": "1.2.0",
      "_model_name": "LayoutModel",
      "_view_count": null,
      "_view_module": "@jupyter-widgets/base",
      "_view_module_version": "1.2.0",
      "_view_name": "LayoutView",
      "align_content": null,
      "align_items": null,
      "align_self": null,
      "border": null,
      "bottom": null,
      "display": null,
      "flex": null,
      "flex_flow": null,
      "grid_area": null,
      "grid_auto_columns": null,
      "grid_auto_flow": null,
      "grid_auto_rows": null,
      "grid_column": null,
      "grid_gap": null,
      "grid_row": null,
      "grid_template_areas": null,
      "grid_template_columns": null,
      "grid_template_rows": null,
      "height": null,
      "justify_content": null,
      "justify_items": null,
      "left": null,
      "margin": null,
      "max_height": null,
      "max_width": null,
      "min_height": null,
      "min_width": null,
      "object_fit": null,
      "object_position": null,
      "order": null,
      "overflow": null,
      "overflow_x": null,
      "overflow_y": null,
      "padding": null,
      "right": null,
      "top": null,
      "visibility": null,
      "width": null
     }
    },
    "1f8a3f9d5f45457baec173e6f79912cc": {
     "model_module": "@jupyter-widgets/controls",
     "model_module_version": "1.5.0",
     "model_name": "ButtonModel",
     "state": {
      "_dom_classes": [],
      "_model_module": "@jupyter-widgets/controls",
      "_model_module_version": "1.5.0",
      "_model_name": "ButtonModel",
      "_view_count": null,
      "_view_module": "@jupyter-widgets/controls",
      "_view_module_version": "1.5.0",
      "_view_name": "ButtonView",
      "button_style": "",
      "description": "Visualize Data",
      "disabled": false,
      "icon": "",
      "layout": "IPY_MODEL_b718fd8262e642ba90587c5e48515796",
      "style": "IPY_MODEL_96740571c01a40018a82352f456e8968",
      "tooltip": ""
     }
    },
    "1fe80a12260b466e83da72239f7ea2ed": {
     "model_module": "@jupyter-widgets/controls",
     "model_module_version": "1.5.0",
     "model_name": "DropdownModel",
     "state": {
      "_dom_classes": [],
      "_model_module": "@jupyter-widgets/controls",
      "_model_module_version": "1.5.0",
      "_model_name": "DropdownModel",
      "_options_labels": [
       "MedInc",
       "HouseAge",
       "AveRooms",
       "AveBedrms",
       "Population",
       "AveOccup",
       "Latitude",
       "Longitude"
      ],
      "_view_count": null,
      "_view_module": "@jupyter-widgets/controls",
      "_view_module_version": "1.5.0",
      "_view_name": "DropdownView",
      "description": "Feature:",
      "description_tooltip": null,
      "disabled": false,
      "index": 2,
      "layout": "IPY_MODEL_033ec09e650d4ae998e91c6cd2ef6938",
      "style": "IPY_MODEL_97249441b4ec40a2ba9f79dcd5580df4"
     }
    },
    "293ff7adc23b44469f0b1e3932385459": {
     "model_module": "@jupyter-widgets/controls",
     "model_module_version": "1.5.0",
     "model_name": "IntTextModel",
     "state": {
      "_dom_classes": [],
      "_model_module": "@jupyter-widgets/controls",
      "_model_module_version": "1.5.0",
      "_model_name": "IntTextModel",
      "_view_count": null,
      "_view_module": "@jupyter-widgets/controls",
      "_view_module_version": "1.5.0",
      "_view_name": "IntTextView",
      "continuous_update": false,
      "description": "Degree:",
      "description_tooltip": null,
      "disabled": false,
      "layout": "IPY_MODEL_0e4d9ca09349457ba6a72a4b8252e6fc",
      "step": 1,
      "style": "IPY_MODEL_32f95642ec524721833c6e1257c98c8e",
      "value": 2
     }
    },
    "2ac94c2da7e9472a9b62a9b231e85ecf": {
     "model_module": "@jupyter-widgets/controls",
     "model_module_version": "1.5.0",
     "model_name": "ButtonStyleModel",
     "state": {
      "_model_module": "@jupyter-widgets/controls",
      "_model_module_version": "1.5.0",
      "_model_name": "ButtonStyleModel",
      "_view_count": null,
      "_view_module": "@jupyter-widgets/base",
      "_view_module_version": "1.2.0",
      "_view_name": "StyleView",
      "button_color": null,
      "font_weight": ""
     }
    },
    "2e9273b29d9c40a8a9b421f5ddd7eb2f": {
     "model_module": "@jupyter-widgets/controls",
     "model_module_version": "1.5.0",
     "model_name": "ButtonModel",
     "state": {
      "_dom_classes": [],
      "_model_module": "@jupyter-widgets/controls",
      "_model_module_version": "1.5.0",
      "_model_name": "ButtonModel",
      "_view_count": null,
      "_view_module": "@jupyter-widgets/controls",
      "_view_module_version": "1.5.0",
      "_view_name": "ButtonView",
      "button_style": "",
      "description": "Display Dataset Info",
      "disabled": false,
      "icon": "",
      "layout": "IPY_MODEL_1f26a7249f9d41eab229ae7b99f640f0",
      "style": "IPY_MODEL_ded7857034d44c8787879931ffcb74dd",
      "tooltip": ""
     }
    },
    "30ef90ec63024b0c8a4a2c02eb333d97": {
     "model_module": "@jupyter-widgets/base",
     "model_module_version": "1.2.0",
     "model_name": "LayoutModel",
     "state": {
      "_model_module": "@jupyter-widgets/base",
      "_model_module_version": "1.2.0",
      "_model_name": "LayoutModel",
      "_view_count": null,
      "_view_module": "@jupyter-widgets/base",
      "_view_module_version": "1.2.0",
      "_view_name": "LayoutView",
      "align_content": null,
      "align_items": null,
      "align_self": null,
      "border": null,
      "bottom": null,
      "display": null,
      "flex": null,
      "flex_flow": null,
      "grid_area": null,
      "grid_auto_columns": null,
      "grid_auto_flow": null,
      "grid_auto_rows": null,
      "grid_column": null,
      "grid_gap": null,
      "grid_row": null,
      "grid_template_areas": null,
      "grid_template_columns": null,
      "grid_template_rows": null,
      "height": null,
      "justify_content": null,
      "justify_items": null,
      "left": null,
      "margin": null,
      "max_height": null,
      "max_width": null,
      "min_height": null,
      "min_width": null,
      "object_fit": null,
      "object_position": null,
      "order": null,
      "overflow": null,
      "overflow_x": null,
      "overflow_y": null,
      "padding": null,
      "right": null,
      "top": null,
      "visibility": null,
      "width": null
     }
    },
    "31290d3abd6d4f649985a46327c96384": {
     "model_module": "@jupyter-widgets/controls",
     "model_module_version": "1.5.0",
     "model_name": "DescriptionStyleModel",
     "state": {
      "_model_module": "@jupyter-widgets/controls",
      "_model_module_version": "1.5.0",
      "_model_name": "DescriptionStyleModel",
      "_view_count": null,
      "_view_module": "@jupyter-widgets/base",
      "_view_module_version": "1.2.0",
      "_view_name": "StyleView",
      "description_width": ""
     }
    },
    "32f95642ec524721833c6e1257c98c8e": {
     "model_module": "@jupyter-widgets/controls",
     "model_module_version": "1.5.0",
     "model_name": "DescriptionStyleModel",
     "state": {
      "_model_module": "@jupyter-widgets/controls",
      "_model_module_version": "1.5.0",
      "_model_name": "DescriptionStyleModel",
      "_view_count": null,
      "_view_module": "@jupyter-widgets/base",
      "_view_module_version": "1.2.0",
      "_view_name": "StyleView",
      "description_width": ""
     }
    },
    "36803c69ff174c089de24f9d4ed1dec5": {
     "model_module": "@jupyter-widgets/base",
     "model_module_version": "1.2.0",
     "model_name": "LayoutModel",
     "state": {
      "_model_module": "@jupyter-widgets/base",
      "_model_module_version": "1.2.0",
      "_model_name": "LayoutModel",
      "_view_count": null,
      "_view_module": "@jupyter-widgets/base",
      "_view_module_version": "1.2.0",
      "_view_name": "LayoutView",
      "align_content": null,
      "align_items": null,
      "align_self": null,
      "border": null,
      "bottom": null,
      "display": null,
      "flex": null,
      "flex_flow": null,
      "grid_area": null,
      "grid_auto_columns": null,
      "grid_auto_flow": null,
      "grid_auto_rows": null,
      "grid_column": null,
      "grid_gap": null,
      "grid_row": null,
      "grid_template_areas": null,
      "grid_template_columns": null,
      "grid_template_rows": null,
      "height": null,
      "justify_content": null,
      "justify_items": null,
      "left": null,
      "margin": null,
      "max_height": null,
      "max_width": null,
      "min_height": null,
      "min_width": null,
      "object_fit": null,
      "object_position": null,
      "order": null,
      "overflow": null,
      "overflow_x": null,
      "overflow_y": null,
      "padding": null,
      "right": null,
      "top": null,
      "visibility": null,
      "width": null
     }
    },
    "3718b9eb9e2442b1b3c11733e5eee2e6": {
     "model_module": "@jupyter-widgets/controls",
     "model_module_version": "1.5.0",
     "model_name": "DescriptionStyleModel",
     "state": {
      "_model_module": "@jupyter-widgets/controls",
      "_model_module_version": "1.5.0",
      "_model_name": "DescriptionStyleModel",
      "_view_count": null,
      "_view_module": "@jupyter-widgets/base",
      "_view_module_version": "1.2.0",
      "_view_name": "StyleView",
      "description_width": ""
     }
    },
    "3f04c413b205495fa487a63952886643": {
     "model_module": "@jupyter-widgets/base",
     "model_module_version": "1.2.0",
     "model_name": "LayoutModel",
     "state": {
      "_model_module": "@jupyter-widgets/base",
      "_model_module_version": "1.2.0",
      "_model_name": "LayoutModel",
      "_view_count": null,
      "_view_module": "@jupyter-widgets/base",
      "_view_module_version": "1.2.0",
      "_view_name": "LayoutView",
      "align_content": null,
      "align_items": null,
      "align_self": null,
      "border": null,
      "bottom": null,
      "display": null,
      "flex": null,
      "flex_flow": null,
      "grid_area": null,
      "grid_auto_columns": null,
      "grid_auto_flow": null,
      "grid_auto_rows": null,
      "grid_column": null,
      "grid_gap": null,
      "grid_row": null,
      "grid_template_areas": null,
      "grid_template_columns": null,
      "grid_template_rows": null,
      "height": null,
      "justify_content": null,
      "justify_items": null,
      "left": null,
      "margin": null,
      "max_height": null,
      "max_width": null,
      "min_height": null,
      "min_width": null,
      "object_fit": null,
      "object_position": null,
      "order": null,
      "overflow": null,
      "overflow_x": null,
      "overflow_y": null,
      "padding": null,
      "right": null,
      "top": null,
      "visibility": null,
      "width": null
     }
    },
    "40cc0f68b69e48538b80fdc857ce9c79": {
     "model_module": "@jupyter-widgets/controls",
     "model_module_version": "1.5.0",
     "model_name": "ButtonModel",
     "state": {
      "_dom_classes": [],
      "_model_module": "@jupyter-widgets/controls",
      "_model_module_version": "1.5.0",
      "_model_name": "ButtonModel",
      "_view_count": null,
      "_view_module": "@jupyter-widgets/controls",
      "_view_module_version": "1.5.0",
      "_view_name": "ButtonView",
      "button_style": "",
      "description": "Display Dataset Info",
      "disabled": false,
      "icon": "",
      "layout": "IPY_MODEL_be954e22b3014353b2982de894441d67",
      "style": "IPY_MODEL_59b4e008572249338f608d7bbfa0fb26",
      "tooltip": ""
     }
    },
    "463d825e64164c2395a493afb847357b": {
     "model_module": "@jupyter-widgets/controls",
     "model_module_version": "1.5.0",
     "model_name": "DescriptionStyleModel",
     "state": {
      "_model_module": "@jupyter-widgets/controls",
      "_model_module_version": "1.5.0",
      "_model_name": "DescriptionStyleModel",
      "_view_count": null,
      "_view_module": "@jupyter-widgets/base",
      "_view_module_version": "1.2.0",
      "_view_name": "StyleView",
      "description_width": ""
     }
    },
    "4cb2fc6de8b64bc59638796328a78dbc": {
     "model_module": "@jupyter-widgets/controls",
     "model_module_version": "1.5.0",
     "model_name": "ButtonModel",
     "state": {
      "_dom_classes": [],
      "_model_module": "@jupyter-widgets/controls",
      "_model_module_version": "1.5.0",
      "_model_name": "ButtonModel",
      "_view_count": null,
      "_view_module": "@jupyter-widgets/controls",
      "_view_module_version": "1.5.0",
      "_view_name": "ButtonView",
      "button_style": "",
      "description": "Visualize Data",
      "disabled": false,
      "icon": "",
      "layout": "IPY_MODEL_6d993aeab92842d8ab32a114cd3c2029",
      "style": "IPY_MODEL_60544be09246411781e71f4441b97d6f",
      "tooltip": ""
     }
    },
    "4f04d9eb99054e11851b871ff8993f2c": {
     "model_module": "@jupyter-widgets/controls",
     "model_module_version": "1.5.0",
     "model_name": "FloatTextModel",
     "state": {
      "_dom_classes": [],
      "_model_module": "@jupyter-widgets/controls",
      "_model_module_version": "1.5.0",
      "_model_name": "FloatTextModel",
      "_view_count": null,
      "_view_module": "@jupyter-widgets/controls",
      "_view_module_version": "1.5.0",
      "_view_name": "FloatTextView",
      "continuous_update": false,
      "description": "Input Value:",
      "description_tooltip": null,
      "disabled": false,
      "layout": "IPY_MODEL_56b50f1c26674b1694b71b5b8a9146d0",
      "step": null,
      "style": "IPY_MODEL_f6a58e4cfe274fb8b1343c2ed254d651",
      "value": 0
     }
    },
    "51d5a429484f4b6fb0eb18354dfdecf6": {
     "model_module": "@jupyter-widgets/base",
     "model_module_version": "1.2.0",
     "model_name": "LayoutModel",
     "state": {
      "_model_module": "@jupyter-widgets/base",
      "_model_module_version": "1.2.0",
      "_model_name": "LayoutModel",
      "_view_count": null,
      "_view_module": "@jupyter-widgets/base",
      "_view_module_version": "1.2.0",
      "_view_name": "LayoutView",
      "align_content": null,
      "align_items": null,
      "align_self": null,
      "border": null,
      "bottom": null,
      "display": null,
      "flex": null,
      "flex_flow": null,
      "grid_area": null,
      "grid_auto_columns": null,
      "grid_auto_flow": null,
      "grid_auto_rows": null,
      "grid_column": null,
      "grid_gap": null,
      "grid_row": null,
      "grid_template_areas": null,
      "grid_template_columns": null,
      "grid_template_rows": null,
      "height": null,
      "justify_content": null,
      "justify_items": null,
      "left": null,
      "margin": null,
      "max_height": null,
      "max_width": null,
      "min_height": null,
      "min_width": null,
      "object_fit": null,
      "object_position": null,
      "order": null,
      "overflow": null,
      "overflow_x": null,
      "overflow_y": null,
      "padding": null,
      "right": null,
      "top": null,
      "visibility": null,
      "width": null
     }
    },
    "526d6c2be123491ea71f90476ac4afc4": {
     "model_module": "@jupyter-widgets/base",
     "model_module_version": "1.2.0",
     "model_name": "LayoutModel",
     "state": {
      "_model_module": "@jupyter-widgets/base",
      "_model_module_version": "1.2.0",
      "_model_name": "LayoutModel",
      "_view_count": null,
      "_view_module": "@jupyter-widgets/base",
      "_view_module_version": "1.2.0",
      "_view_name": "LayoutView",
      "align_content": null,
      "align_items": null,
      "align_self": null,
      "border": null,
      "bottom": null,
      "display": null,
      "flex": null,
      "flex_flow": null,
      "grid_area": null,
      "grid_auto_columns": null,
      "grid_auto_flow": null,
      "grid_auto_rows": null,
      "grid_column": null,
      "grid_gap": null,
      "grid_row": null,
      "grid_template_areas": null,
      "grid_template_columns": null,
      "grid_template_rows": null,
      "height": null,
      "justify_content": null,
      "justify_items": null,
      "left": null,
      "margin": null,
      "max_height": null,
      "max_width": null,
      "min_height": null,
      "min_width": null,
      "object_fit": null,
      "object_position": null,
      "order": null,
      "overflow": null,
      "overflow_x": null,
      "overflow_y": null,
      "padding": null,
      "right": null,
      "top": null,
      "visibility": null,
      "width": null
     }
    },
    "55983441f86c486a9ab921fef3bca265": {
     "model_module": "@jupyter-widgets/controls",
     "model_module_version": "1.5.0",
     "model_name": "DropdownModel",
     "state": {
      "_dom_classes": [],
      "_model_module": "@jupyter-widgets/controls",
      "_model_module_version": "1.5.0",
      "_model_name": "DropdownModel",
      "_options_labels": [
       "Linear Regression",
       "Polynomial Regression"
      ],
      "_view_count": null,
      "_view_module": "@jupyter-widgets/controls",
      "_view_module_version": "1.5.0",
      "_view_name": "DropdownView",
      "description": "Regression Type:",
      "description_tooltip": null,
      "disabled": false,
      "index": 1,
      "layout": "IPY_MODEL_1b8eecc6b96640dc861785f066b4cf19",
      "style": "IPY_MODEL_dc0d7786c3ca4782b8c4c5cffc4f6934"
     }
    },
    "56b50f1c26674b1694b71b5b8a9146d0": {
     "model_module": "@jupyter-widgets/base",
     "model_module_version": "1.2.0",
     "model_name": "LayoutModel",
     "state": {
      "_model_module": "@jupyter-widgets/base",
      "_model_module_version": "1.2.0",
      "_model_name": "LayoutModel",
      "_view_count": null,
      "_view_module": "@jupyter-widgets/base",
      "_view_module_version": "1.2.0",
      "_view_name": "LayoutView",
      "align_content": null,
      "align_items": null,
      "align_self": null,
      "border": null,
      "bottom": null,
      "display": null,
      "flex": null,
      "flex_flow": null,
      "grid_area": null,
      "grid_auto_columns": null,
      "grid_auto_flow": null,
      "grid_auto_rows": null,
      "grid_column": null,
      "grid_gap": null,
      "grid_row": null,
      "grid_template_areas": null,
      "grid_template_columns": null,
      "grid_template_rows": null,
      "height": null,
      "justify_content": null,
      "justify_items": null,
      "left": null,
      "margin": null,
      "max_height": null,
      "max_width": null,
      "min_height": null,
      "min_width": null,
      "object_fit": null,
      "object_position": null,
      "order": null,
      "overflow": null,
      "overflow_x": null,
      "overflow_y": null,
      "padding": null,
      "right": null,
      "top": null,
      "visibility": null,
      "width": null
     }
    },
    "57cd1e87e19b4b4bbb8366c20a0e0423": {
     "model_module": "@jupyter-widgets/base",
     "model_module_version": "1.2.0",
     "model_name": "LayoutModel",
     "state": {
      "_model_module": "@jupyter-widgets/base",
      "_model_module_version": "1.2.0",
      "_model_name": "LayoutModel",
      "_view_count": null,
      "_view_module": "@jupyter-widgets/base",
      "_view_module_version": "1.2.0",
      "_view_name": "LayoutView",
      "align_content": null,
      "align_items": null,
      "align_self": null,
      "border": null,
      "bottom": null,
      "display": null,
      "flex": null,
      "flex_flow": null,
      "grid_area": null,
      "grid_auto_columns": null,
      "grid_auto_flow": null,
      "grid_auto_rows": null,
      "grid_column": null,
      "grid_gap": null,
      "grid_row": null,
      "grid_template_areas": null,
      "grid_template_columns": null,
      "grid_template_rows": null,
      "height": null,
      "justify_content": null,
      "justify_items": null,
      "left": null,
      "margin": null,
      "max_height": null,
      "max_width": null,
      "min_height": null,
      "min_width": null,
      "object_fit": null,
      "object_position": null,
      "order": null,
      "overflow": null,
      "overflow_x": null,
      "overflow_y": null,
      "padding": null,
      "right": null,
      "top": null,
      "visibility": null,
      "width": null
     }
    },
    "587ee23233024f8ea7d9f23d6fb70110": {
     "model_module": "@jupyter-widgets/controls",
     "model_module_version": "1.5.0",
     "model_name": "ButtonModel",
     "state": {
      "_dom_classes": [],
      "_model_module": "@jupyter-widgets/controls",
      "_model_module_version": "1.5.0",
      "_model_name": "ButtonModel",
      "_view_count": null,
      "_view_module": "@jupyter-widgets/controls",
      "_view_module_version": "1.5.0",
      "_view_name": "ButtonView",
      "button_style": "",
      "description": "Perform Regression",
      "disabled": false,
      "icon": "",
      "layout": "IPY_MODEL_76e7eda501cc463d9569932cd748e78f",
      "style": "IPY_MODEL_2ac94c2da7e9472a9b62a9b231e85ecf",
      "tooltip": ""
     }
    },
    "59b4e008572249338f608d7bbfa0fb26": {
     "model_module": "@jupyter-widgets/controls",
     "model_module_version": "1.5.0",
     "model_name": "ButtonStyleModel",
     "state": {
      "_model_module": "@jupyter-widgets/controls",
      "_model_module_version": "1.5.0",
      "_model_name": "ButtonStyleModel",
      "_view_count": null,
      "_view_module": "@jupyter-widgets/base",
      "_view_module_version": "1.2.0",
      "_view_name": "StyleView",
      "button_color": null,
      "font_weight": ""
     }
    },
    "5dbd3769ee82418abcfdbbc5e4a50afe": {
     "model_module": "@jupyter-widgets/base",
     "model_module_version": "1.2.0",
     "model_name": "LayoutModel",
     "state": {
      "_model_module": "@jupyter-widgets/base",
      "_model_module_version": "1.2.0",
      "_model_name": "LayoutModel",
      "_view_count": null,
      "_view_module": "@jupyter-widgets/base",
      "_view_module_version": "1.2.0",
      "_view_name": "LayoutView",
      "align_content": null,
      "align_items": null,
      "align_self": null,
      "border": null,
      "bottom": null,
      "display": null,
      "flex": null,
      "flex_flow": null,
      "grid_area": null,
      "grid_auto_columns": null,
      "grid_auto_flow": null,
      "grid_auto_rows": null,
      "grid_column": null,
      "grid_gap": null,
      "grid_row": null,
      "grid_template_areas": null,
      "grid_template_columns": null,
      "grid_template_rows": null,
      "height": null,
      "justify_content": null,
      "justify_items": null,
      "left": null,
      "margin": null,
      "max_height": null,
      "max_width": null,
      "min_height": null,
      "min_width": null,
      "object_fit": null,
      "object_position": null,
      "order": null,
      "overflow": null,
      "overflow_x": null,
      "overflow_y": null,
      "padding": null,
      "right": null,
      "top": null,
      "visibility": null,
      "width": null
     }
    },
    "60544be09246411781e71f4441b97d6f": {
     "model_module": "@jupyter-widgets/controls",
     "model_module_version": "1.5.0",
     "model_name": "ButtonStyleModel",
     "state": {
      "_model_module": "@jupyter-widgets/controls",
      "_model_module_version": "1.5.0",
      "_model_name": "ButtonStyleModel",
      "_view_count": null,
      "_view_module": "@jupyter-widgets/base",
      "_view_module_version": "1.2.0",
      "_view_name": "StyleView",
      "button_color": null,
      "font_weight": ""
     }
    },
    "60569cc8bdf943f19b5c02c81af28a4b": {
     "model_module": "@jupyter-widgets/base",
     "model_module_version": "1.2.0",
     "model_name": "LayoutModel",
     "state": {
      "_model_module": "@jupyter-widgets/base",
      "_model_module_version": "1.2.0",
      "_model_name": "LayoutModel",
      "_view_count": null,
      "_view_module": "@jupyter-widgets/base",
      "_view_module_version": "1.2.0",
      "_view_name": "LayoutView",
      "align_content": null,
      "align_items": null,
      "align_self": null,
      "border": null,
      "bottom": null,
      "display": null,
      "flex": null,
      "flex_flow": null,
      "grid_area": null,
      "grid_auto_columns": null,
      "grid_auto_flow": null,
      "grid_auto_rows": null,
      "grid_column": null,
      "grid_gap": null,
      "grid_row": null,
      "grid_template_areas": null,
      "grid_template_columns": null,
      "grid_template_rows": null,
      "height": null,
      "justify_content": null,
      "justify_items": null,
      "left": null,
      "margin": null,
      "max_height": null,
      "max_width": null,
      "min_height": null,
      "min_width": null,
      "object_fit": null,
      "object_position": null,
      "order": null,
      "overflow": null,
      "overflow_x": null,
      "overflow_y": null,
      "padding": null,
      "right": null,
      "top": null,
      "visibility": null,
      "width": null
     }
    },
    "61fbda12b622464294a03c24fefe14ac": {
     "model_module": "@jupyter-widgets/controls",
     "model_module_version": "1.5.0",
     "model_name": "DescriptionStyleModel",
     "state": {
      "_model_module": "@jupyter-widgets/controls",
      "_model_module_version": "1.5.0",
      "_model_name": "DescriptionStyleModel",
      "_view_count": null,
      "_view_module": "@jupyter-widgets/base",
      "_view_module_version": "1.2.0",
      "_view_name": "StyleView",
      "description_width": ""
     }
    },
    "626e37b3d174426993f07ca2177dc308": {
     "model_module": "@jupyter-widgets/controls",
     "model_module_version": "1.5.0",
     "model_name": "DropdownModel",
     "state": {
      "_dom_classes": [],
      "_model_module": "@jupyter-widgets/controls",
      "_model_module_version": "1.5.0",
      "_model_name": "DropdownModel",
      "_options_labels": [
       "None",
       "Standard Scaler",
       "Min-Max Scaler",
       "Robust Scaler"
      ],
      "_view_count": null,
      "_view_module": "@jupyter-widgets/controls",
      "_view_module_version": "1.5.0",
      "_view_name": "DropdownView",
      "description": "Preprocess:",
      "description_tooltip": null,
      "disabled": false,
      "index": 0,
      "layout": "IPY_MODEL_60569cc8bdf943f19b5c02c81af28a4b",
      "style": "IPY_MODEL_31290d3abd6d4f649985a46327c96384"
     }
    },
    "6b254ec8ca134eea9a8234ec175cb9ee": {
     "model_module": "@jupyter-widgets/controls",
     "model_module_version": "1.5.0",
     "model_name": "DropdownModel",
     "state": {
      "_dom_classes": [],
      "_model_module": "@jupyter-widgets/controls",
      "_model_module_version": "1.5.0",
      "_model_name": "DropdownModel",
      "_options_labels": [
       "Ridge",
       "Lasso",
       "Elastic Net"
      ],
      "_view_count": null,
      "_view_module": "@jupyter-widgets/controls",
      "_view_module_version": "1.5.0",
      "_view_name": "DropdownView",
      "description": "Method:",
      "description_tooltip": null,
      "disabled": false,
      "index": 0,
      "layout": "IPY_MODEL_bc3f25750aaa4cdfbdb7d74d1bbd55a2",
      "style": "IPY_MODEL_fb95a0733e184960b0244e3b4bf8ce5c"
     }
    },
    "6d993aeab92842d8ab32a114cd3c2029": {
     "model_module": "@jupyter-widgets/base",
     "model_module_version": "1.2.0",
     "model_name": "LayoutModel",
     "state": {
      "_model_module": "@jupyter-widgets/base",
      "_model_module_version": "1.2.0",
      "_model_name": "LayoutModel",
      "_view_count": null,
      "_view_module": "@jupyter-widgets/base",
      "_view_module_version": "1.2.0",
      "_view_name": "LayoutView",
      "align_content": null,
      "align_items": null,
      "align_self": null,
      "border": null,
      "bottom": null,
      "display": null,
      "flex": null,
      "flex_flow": null,
      "grid_area": null,
      "grid_auto_columns": null,
      "grid_auto_flow": null,
      "grid_auto_rows": null,
      "grid_column": null,
      "grid_gap": null,
      "grid_row": null,
      "grid_template_areas": null,
      "grid_template_columns": null,
      "grid_template_rows": null,
      "height": null,
      "justify_content": null,
      "justify_items": null,
      "left": null,
      "margin": null,
      "max_height": null,
      "max_width": null,
      "min_height": null,
      "min_width": null,
      "object_fit": null,
      "object_position": null,
      "order": null,
      "overflow": null,
      "overflow_x": null,
      "overflow_y": null,
      "padding": null,
      "right": null,
      "top": null,
      "visibility": null,
      "width": null
     }
    },
    "70e4c7d7971c4f07bf1b183d7f1ed89f": {
     "model_module": "@jupyter-widgets/controls",
     "model_module_version": "1.5.0",
     "model_name": "DescriptionStyleModel",
     "state": {
      "_model_module": "@jupyter-widgets/controls",
      "_model_module_version": "1.5.0",
      "_model_name": "DescriptionStyleModel",
      "_view_count": null,
      "_view_module": "@jupyter-widgets/base",
      "_view_module_version": "1.2.0",
      "_view_name": "StyleView",
      "description_width": ""
     }
    },
    "70fcf1426a8444cc9c47f53bfc6a4cd6": {
     "model_module": "@jupyter-widgets/controls",
     "model_module_version": "1.5.0",
     "model_name": "DescriptionStyleModel",
     "state": {
      "_model_module": "@jupyter-widgets/controls",
      "_model_module_version": "1.5.0",
      "_model_name": "DescriptionStyleModel",
      "_view_count": null,
      "_view_module": "@jupyter-widgets/base",
      "_view_module_version": "1.2.0",
      "_view_name": "StyleView",
      "description_width": ""
     }
    },
    "73369ecf21014c678e56064b46757d39": {
     "model_module": "@jupyter-widgets/base",
     "model_module_version": "1.2.0",
     "model_name": "LayoutModel",
     "state": {
      "_model_module": "@jupyter-widgets/base",
      "_model_module_version": "1.2.0",
      "_model_name": "LayoutModel",
      "_view_count": null,
      "_view_module": "@jupyter-widgets/base",
      "_view_module_version": "1.2.0",
      "_view_name": "LayoutView",
      "align_content": null,
      "align_items": null,
      "align_self": null,
      "border": null,
      "bottom": null,
      "display": null,
      "flex": null,
      "flex_flow": null,
      "grid_area": null,
      "grid_auto_columns": null,
      "grid_auto_flow": null,
      "grid_auto_rows": null,
      "grid_column": null,
      "grid_gap": null,
      "grid_row": null,
      "grid_template_areas": null,
      "grid_template_columns": null,
      "grid_template_rows": null,
      "height": null,
      "justify_content": null,
      "justify_items": null,
      "left": null,
      "margin": null,
      "max_height": null,
      "max_width": null,
      "min_height": null,
      "min_width": null,
      "object_fit": null,
      "object_position": null,
      "order": null,
      "overflow": null,
      "overflow_x": null,
      "overflow_y": null,
      "padding": null,
      "right": null,
      "top": null,
      "visibility": null,
      "width": null
     }
    },
    "76e7eda501cc463d9569932cd748e78f": {
     "model_module": "@jupyter-widgets/base",
     "model_module_version": "1.2.0",
     "model_name": "LayoutModel",
     "state": {
      "_model_module": "@jupyter-widgets/base",
      "_model_module_version": "1.2.0",
      "_model_name": "LayoutModel",
      "_view_count": null,
      "_view_module": "@jupyter-widgets/base",
      "_view_module_version": "1.2.0",
      "_view_name": "LayoutView",
      "align_content": null,
      "align_items": null,
      "align_self": null,
      "border": null,
      "bottom": null,
      "display": null,
      "flex": null,
      "flex_flow": null,
      "grid_area": null,
      "grid_auto_columns": null,
      "grid_auto_flow": null,
      "grid_auto_rows": null,
      "grid_column": null,
      "grid_gap": null,
      "grid_row": null,
      "grid_template_areas": null,
      "grid_template_columns": null,
      "grid_template_rows": null,
      "height": null,
      "justify_content": null,
      "justify_items": null,
      "left": null,
      "margin": null,
      "max_height": null,
      "max_width": null,
      "min_height": null,
      "min_width": null,
      "object_fit": null,
      "object_position": null,
      "order": null,
      "overflow": null,
      "overflow_x": null,
      "overflow_y": null,
      "padding": null,
      "right": null,
      "top": null,
      "visibility": null,
      "width": null
     }
    },
    "7b5aac13855a4d3a85f4e66d4ff850c9": {
     "model_module": "@jupyter-widgets/controls",
     "model_module_version": "1.5.0",
     "model_name": "ButtonStyleModel",
     "state": {
      "_model_module": "@jupyter-widgets/controls",
      "_model_module_version": "1.5.0",
      "_model_name": "ButtonStyleModel",
      "_view_count": null,
      "_view_module": "@jupyter-widgets/base",
      "_view_module_version": "1.2.0",
      "_view_name": "StyleView",
      "button_color": null,
      "font_weight": ""
     }
    },
    "7dd30036a6ea4b07be5023fe641329a8": {
     "model_module": "@jupyter-widgets/controls",
     "model_module_version": "1.5.0",
     "model_name": "ButtonStyleModel",
     "state": {
      "_model_module": "@jupyter-widgets/controls",
      "_model_module_version": "1.5.0",
      "_model_name": "ButtonStyleModel",
      "_view_count": null,
      "_view_module": "@jupyter-widgets/base",
      "_view_module_version": "1.2.0",
      "_view_name": "StyleView",
      "button_color": null,
      "font_weight": ""
     }
    },
    "7f3217e960f74b0e9066eb5fa05d7ec4": {
     "model_module": "@jupyter-widgets/controls",
     "model_module_version": "1.5.0",
     "model_name": "ButtonModel",
     "state": {
      "_dom_classes": [],
      "_model_module": "@jupyter-widgets/controls",
      "_model_module_version": "1.5.0",
      "_model_name": "ButtonModel",
      "_view_count": null,
      "_view_module": "@jupyter-widgets/controls",
      "_view_module_version": "1.5.0",
      "_view_name": "ButtonView",
      "button_style": "",
      "description": "Make Prediction",
      "disabled": false,
      "icon": "",
      "layout": "IPY_MODEL_57cd1e87e19b4b4bbb8366c20a0e0423",
      "style": "IPY_MODEL_7dd30036a6ea4b07be5023fe641329a8",
      "tooltip": ""
     }
    },
    "8212f844ed334b809f393f838c69be88": {
     "model_module": "@jupyter-widgets/controls",
     "model_module_version": "1.5.0",
     "model_name": "ButtonModel",
     "state": {
      "_dom_classes": [],
      "_model_module": "@jupyter-widgets/controls",
      "_model_module_version": "1.5.0",
      "_model_name": "ButtonModel",
      "_view_count": null,
      "_view_module": "@jupyter-widgets/controls",
      "_view_module_version": "1.5.0",
      "_view_name": "ButtonView",
      "button_style": "",
      "description": "Perform Regression",
      "disabled": false,
      "icon": "",
      "layout": "IPY_MODEL_0fa0c382d5214a0d829b8cdfa3a3df12",
      "style": "IPY_MODEL_112999f0676442aba737a16136a07c10",
      "tooltip": ""
     }
    },
    "87758dbb28ba43f1b7867360ae2e7dc1": {
     "model_module": "@jupyter-widgets/controls",
     "model_module_version": "1.5.0",
     "model_name": "ButtonStyleModel",
     "state": {
      "_model_module": "@jupyter-widgets/controls",
      "_model_module_version": "1.5.0",
      "_model_name": "ButtonStyleModel",
      "_view_count": null,
      "_view_module": "@jupyter-widgets/base",
      "_view_module_version": "1.2.0",
      "_view_name": "StyleView",
      "button_color": null,
      "font_weight": ""
     }
    },
    "899e29f06e8b4d148063fb5999dd88cb": {
     "model_module": "@jupyter-widgets/base",
     "model_module_version": "1.2.0",
     "model_name": "LayoutModel",
     "state": {
      "_model_module": "@jupyter-widgets/base",
      "_model_module_version": "1.2.0",
      "_model_name": "LayoutModel",
      "_view_count": null,
      "_view_module": "@jupyter-widgets/base",
      "_view_module_version": "1.2.0",
      "_view_name": "LayoutView",
      "align_content": null,
      "align_items": null,
      "align_self": null,
      "border": null,
      "bottom": null,
      "display": null,
      "flex": null,
      "flex_flow": null,
      "grid_area": null,
      "grid_auto_columns": null,
      "grid_auto_flow": null,
      "grid_auto_rows": null,
      "grid_column": null,
      "grid_gap": null,
      "grid_row": null,
      "grid_template_areas": null,
      "grid_template_columns": null,
      "grid_template_rows": null,
      "height": null,
      "justify_content": null,
      "justify_items": null,
      "left": null,
      "margin": null,
      "max_height": null,
      "max_width": null,
      "min_height": null,
      "min_width": null,
      "object_fit": null,
      "object_position": null,
      "order": null,
      "overflow": null,
      "overflow_x": null,
      "overflow_y": null,
      "padding": null,
      "right": null,
      "top": null,
      "visibility": null,
      "width": null
     }
    },
    "89a963b2cdf942a2a749be6f8157a24b": {
     "model_module": "@jupyter-widgets/base",
     "model_module_version": "1.2.0",
     "model_name": "LayoutModel",
     "state": {
      "_model_module": "@jupyter-widgets/base",
      "_model_module_version": "1.2.0",
      "_model_name": "LayoutModel",
      "_view_count": null,
      "_view_module": "@jupyter-widgets/base",
      "_view_module_version": "1.2.0",
      "_view_name": "LayoutView",
      "align_content": null,
      "align_items": null,
      "align_self": null,
      "border": null,
      "bottom": null,
      "display": null,
      "flex": null,
      "flex_flow": null,
      "grid_area": null,
      "grid_auto_columns": null,
      "grid_auto_flow": null,
      "grid_auto_rows": null,
      "grid_column": null,
      "grid_gap": null,
      "grid_row": null,
      "grid_template_areas": null,
      "grid_template_columns": null,
      "grid_template_rows": null,
      "height": null,
      "justify_content": null,
      "justify_items": null,
      "left": null,
      "margin": null,
      "max_height": null,
      "max_width": null,
      "min_height": null,
      "min_width": null,
      "object_fit": null,
      "object_position": null,
      "order": null,
      "overflow": null,
      "overflow_x": null,
      "overflow_y": null,
      "padding": null,
      "right": null,
      "top": null,
      "visibility": null,
      "width": null
     }
    },
    "96740571c01a40018a82352f456e8968": {
     "model_module": "@jupyter-widgets/controls",
     "model_module_version": "1.5.0",
     "model_name": "ButtonStyleModel",
     "state": {
      "_model_module": "@jupyter-widgets/controls",
      "_model_module_version": "1.5.0",
      "_model_name": "ButtonStyleModel",
      "_view_count": null,
      "_view_module": "@jupyter-widgets/base",
      "_view_module_version": "1.2.0",
      "_view_name": "StyleView",
      "button_color": null,
      "font_weight": ""
     }
    },
    "97249441b4ec40a2ba9f79dcd5580df4": {
     "model_module": "@jupyter-widgets/controls",
     "model_module_version": "1.5.0",
     "model_name": "DescriptionStyleModel",
     "state": {
      "_model_module": "@jupyter-widgets/controls",
      "_model_module_version": "1.5.0",
      "_model_name": "DescriptionStyleModel",
      "_view_count": null,
      "_view_module": "@jupyter-widgets/base",
      "_view_module_version": "1.2.0",
      "_view_name": "StyleView",
      "description_width": ""
     }
    },
    "a92b9e8174704a088503f28a8de3a4c0": {
     "model_module": "@jupyter-widgets/controls",
     "model_module_version": "1.5.0",
     "model_name": "ButtonStyleModel",
     "state": {
      "_model_module": "@jupyter-widgets/controls",
      "_model_module_version": "1.5.0",
      "_model_name": "ButtonStyleModel",
      "_view_count": null,
      "_view_module": "@jupyter-widgets/base",
      "_view_module_version": "1.2.0",
      "_view_name": "StyleView",
      "button_color": null,
      "font_weight": ""
     }
    },
    "ac015fffeae34a74b5663c5d244d412c": {
     "model_module": "@jupyter-widgets/controls",
     "model_module_version": "1.5.0",
     "model_name": "DropdownModel",
     "state": {
      "_dom_classes": [],
      "_model_module": "@jupyter-widgets/controls",
      "_model_module_version": "1.5.0",
      "_model_name": "DropdownModel",
      "_options_labels": [
       "MedInc",
       "HouseAge",
       "AveRooms",
       "AveBedrms",
       "Population",
       "AveOccup",
       "Latitude",
       "Longitude"
      ],
      "_view_count": null,
      "_view_module": "@jupyter-widgets/controls",
      "_view_module_version": "1.5.0",
      "_view_name": "DropdownView",
      "description": "Feature:",
      "description_tooltip": null,
      "disabled": false,
      "index": 4,
      "layout": "IPY_MODEL_73369ecf21014c678e56064b46757d39",
      "style": "IPY_MODEL_168e77a6968f491d89a2bad18546470c"
     }
    },
    "b2a7b6d8f0c64533ae6c5cd1c1aed342": {
     "model_module": "@jupyter-widgets/controls",
     "model_module_version": "1.5.0",
     "model_name": "FloatTextModel",
     "state": {
      "_dom_classes": [],
      "_model_module": "@jupyter-widgets/controls",
      "_model_module_version": "1.5.0",
      "_model_name": "FloatTextModel",
      "_view_count": null,
      "_view_module": "@jupyter-widgets/controls",
      "_view_module_version": "1.5.0",
      "_view_name": "FloatTextView",
      "continuous_update": false,
      "description": "Input Value:",
      "description_tooltip": null,
      "disabled": false,
      "layout": "IPY_MODEL_526d6c2be123491ea71f90476ac4afc4",
      "step": null,
      "style": "IPY_MODEL_70fcf1426a8444cc9c47f53bfc6a4cd6",
      "value": 0
     }
    },
    "b43b411c86684d1daf9850b3c8863b99": {
     "model_module": "@jupyter-widgets/base",
     "model_module_version": "1.2.0",
     "model_name": "LayoutModel",
     "state": {
      "_model_module": "@jupyter-widgets/base",
      "_model_module_version": "1.2.0",
      "_model_name": "LayoutModel",
      "_view_count": null,
      "_view_module": "@jupyter-widgets/base",
      "_view_module_version": "1.2.0",
      "_view_name": "LayoutView",
      "align_content": null,
      "align_items": null,
      "align_self": null,
      "border": null,
      "bottom": null,
      "display": null,
      "flex": null,
      "flex_flow": null,
      "grid_area": null,
      "grid_auto_columns": null,
      "grid_auto_flow": null,
      "grid_auto_rows": null,
      "grid_column": null,
      "grid_gap": null,
      "grid_row": null,
      "grid_template_areas": null,
      "grid_template_columns": null,
      "grid_template_rows": null,
      "height": null,
      "justify_content": null,
      "justify_items": null,
      "left": null,
      "margin": null,
      "max_height": null,
      "max_width": null,
      "min_height": null,
      "min_width": null,
      "object_fit": null,
      "object_position": null,
      "order": null,
      "overflow": null,
      "overflow_x": null,
      "overflow_y": null,
      "padding": null,
      "right": null,
      "top": null,
      "visibility": null,
      "width": null
     }
    },
    "b478c01f5acc4f80be21b878d8431926": {
     "model_module": "@jupyter-widgets/controls",
     "model_module_version": "1.5.0",
     "model_name": "ButtonStyleModel",
     "state": {
      "_model_module": "@jupyter-widgets/controls",
      "_model_module_version": "1.5.0",
      "_model_name": "ButtonStyleModel",
      "_view_count": null,
      "_view_module": "@jupyter-widgets/base",
      "_view_module_version": "1.2.0",
      "_view_name": "StyleView",
      "button_color": null,
      "font_weight": ""
     }
    },
    "b4ac42e2042040c1a1c9dafd6f5033b9": {
     "model_module": "@jupyter-widgets/controls",
     "model_module_version": "1.5.0",
     "model_name": "DropdownModel",
     "state": {
      "_dom_classes": [],
      "_model_module": "@jupyter-widgets/controls",
      "_model_module_version": "1.5.0",
      "_model_name": "DropdownModel",
      "_options_labels": [
       "None",
       "Standard Scaler",
       "Min-Max Scaler",
       "Robust Scaler"
      ],
      "_view_count": null,
      "_view_module": "@jupyter-widgets/controls",
      "_view_module_version": "1.5.0",
      "_view_name": "DropdownView",
      "description": "Preprocess:",
      "description_tooltip": null,
      "disabled": false,
      "index": 1,
      "layout": "IPY_MODEL_5dbd3769ee82418abcfdbbc5e4a50afe",
      "style": "IPY_MODEL_70e4c7d7971c4f07bf1b183d7f1ed89f"
     }
    },
    "b718fd8262e642ba90587c5e48515796": {
     "model_module": "@jupyter-widgets/base",
     "model_module_version": "1.2.0",
     "model_name": "LayoutModel",
     "state": {
      "_model_module": "@jupyter-widgets/base",
      "_model_module_version": "1.2.0",
      "_model_name": "LayoutModel",
      "_view_count": null,
      "_view_module": "@jupyter-widgets/base",
      "_view_module_version": "1.2.0",
      "_view_name": "LayoutView",
      "align_content": null,
      "align_items": null,
      "align_self": null,
      "border": null,
      "bottom": null,
      "display": null,
      "flex": null,
      "flex_flow": null,
      "grid_area": null,
      "grid_auto_columns": null,
      "grid_auto_flow": null,
      "grid_auto_rows": null,
      "grid_column": null,
      "grid_gap": null,
      "grid_row": null,
      "grid_template_areas": null,
      "grid_template_columns": null,
      "grid_template_rows": null,
      "height": null,
      "justify_content": null,
      "justify_items": null,
      "left": null,
      "margin": null,
      "max_height": null,
      "max_width": null,
      "min_height": null,
      "min_width": null,
      "object_fit": null,
      "object_position": null,
      "order": null,
      "overflow": null,
      "overflow_x": null,
      "overflow_y": null,
      "padding": null,
      "right": null,
      "top": null,
      "visibility": null,
      "width": null
     }
    },
    "b7cb8e05eba746d7ab6537d986fd7eba": {
     "model_module": "@jupyter-widgets/controls",
     "model_module_version": "1.5.0",
     "model_name": "ButtonModel",
     "state": {
      "_dom_classes": [],
      "_model_module": "@jupyter-widgets/controls",
      "_model_module_version": "1.5.0",
      "_model_name": "ButtonModel",
      "_view_count": null,
      "_view_module": "@jupyter-widgets/controls",
      "_view_module_version": "1.5.0",
      "_view_name": "ButtonView",
      "button_style": "",
      "description": "Make Prediction",
      "disabled": false,
      "icon": "",
      "layout": "IPY_MODEL_e5d77270b381450eb5d2c73f4d6c695d",
      "style": "IPY_MODEL_87758dbb28ba43f1b7867360ae2e7dc1",
      "tooltip": ""
     }
    },
    "bba1976cc3cb4c5a91c57c09b8a7dd09": {
     "model_module": "@jupyter-widgets/controls",
     "model_module_version": "1.5.0",
     "model_name": "DropdownModel",
     "state": {
      "_dom_classes": [],
      "_model_module": "@jupyter-widgets/controls",
      "_model_module_version": "1.5.0",
      "_model_name": "DropdownModel",
      "_options_labels": [
       "None",
       "Standard Scaler",
       "Min-Max Scaler",
       "Robust Scaler"
      ],
      "_view_count": null,
      "_view_module": "@jupyter-widgets/controls",
      "_view_module_version": "1.5.0",
      "_view_name": "DropdownView",
      "description": "Preprocess:",
      "description_tooltip": null,
      "disabled": false,
      "index": 0,
      "layout": "IPY_MODEL_36803c69ff174c089de24f9d4ed1dec5",
      "style": "IPY_MODEL_3718b9eb9e2442b1b3c11733e5eee2e6"
     }
    },
    "bc3f25750aaa4cdfbdb7d74d1bbd55a2": {
     "model_module": "@jupyter-widgets/base",
     "model_module_version": "1.2.0",
     "model_name": "LayoutModel",
     "state": {
      "_model_module": "@jupyter-widgets/base",
      "_model_module_version": "1.2.0",
      "_model_name": "LayoutModel",
      "_view_count": null,
      "_view_module": "@jupyter-widgets/base",
      "_view_module_version": "1.2.0",
      "_view_name": "LayoutView",
      "align_content": null,
      "align_items": null,
      "align_self": null,
      "border": null,
      "bottom": null,
      "display": null,
      "flex": null,
      "flex_flow": null,
      "grid_area": null,
      "grid_auto_columns": null,
      "grid_auto_flow": null,
      "grid_auto_rows": null,
      "grid_column": null,
      "grid_gap": null,
      "grid_row": null,
      "grid_template_areas": null,
      "grid_template_columns": null,
      "grid_template_rows": null,
      "height": null,
      "justify_content": null,
      "justify_items": null,
      "left": null,
      "margin": null,
      "max_height": null,
      "max_width": null,
      "min_height": null,
      "min_width": null,
      "object_fit": null,
      "object_position": null,
      "order": null,
      "overflow": null,
      "overflow_x": null,
      "overflow_y": null,
      "padding": null,
      "right": null,
      "top": null,
      "visibility": null,
      "width": null
     }
    },
    "be954e22b3014353b2982de894441d67": {
     "model_module": "@jupyter-widgets/base",
     "model_module_version": "1.2.0",
     "model_name": "LayoutModel",
     "state": {
      "_model_module": "@jupyter-widgets/base",
      "_model_module_version": "1.2.0",
      "_model_name": "LayoutModel",
      "_view_count": null,
      "_view_module": "@jupyter-widgets/base",
      "_view_module_version": "1.2.0",
      "_view_name": "LayoutView",
      "align_content": null,
      "align_items": null,
      "align_self": null,
      "border": null,
      "bottom": null,
      "display": null,
      "flex": null,
      "flex_flow": null,
      "grid_area": null,
      "grid_auto_columns": null,
      "grid_auto_flow": null,
      "grid_auto_rows": null,
      "grid_column": null,
      "grid_gap": null,
      "grid_row": null,
      "grid_template_areas": null,
      "grid_template_columns": null,
      "grid_template_rows": null,
      "height": null,
      "justify_content": null,
      "justify_items": null,
      "left": null,
      "margin": null,
      "max_height": null,
      "max_width": null,
      "min_height": null,
      "min_width": null,
      "object_fit": null,
      "object_position": null,
      "order": null,
      "overflow": null,
      "overflow_x": null,
      "overflow_y": null,
      "padding": null,
      "right": null,
      "top": null,
      "visibility": null,
      "width": null
     }
    },
    "c008b5aefdbc4607bbca8e46d519a881": {
     "model_module": "@jupyter-widgets/controls",
     "model_module_version": "1.5.0",
     "model_name": "ButtonModel",
     "state": {
      "_dom_classes": [],
      "_model_module": "@jupyter-widgets/controls",
      "_model_module_version": "1.5.0",
      "_model_name": "ButtonModel",
      "_view_count": null,
      "_view_module": "@jupyter-widgets/controls",
      "_view_module_version": "1.5.0",
      "_view_name": "ButtonView",
      "button_style": "",
      "description": "Make Prediction",
      "disabled": false,
      "icon": "",
      "layout": "IPY_MODEL_3f04c413b205495fa487a63952886643",
      "style": "IPY_MODEL_b478c01f5acc4f80be21b878d8431926",
      "tooltip": ""
     }
    },
    "cc00996ac1ea474bb3c417e3dce64645": {
     "model_module": "@jupyter-widgets/controls",
     "model_module_version": "1.5.0",
     "model_name": "ButtonModel",
     "state": {
      "_dom_classes": [],
      "_model_module": "@jupyter-widgets/controls",
      "_model_module_version": "1.5.0",
      "_model_name": "ButtonModel",
      "_view_count": null,
      "_view_module": "@jupyter-widgets/controls",
      "_view_module_version": "1.5.0",
      "_view_name": "ButtonView",
      "button_style": "",
      "description": "Visualize Data",
      "disabled": false,
      "icon": "",
      "layout": "IPY_MODEL_51d5a429484f4b6fb0eb18354dfdecf6",
      "style": "IPY_MODEL_a92b9e8174704a088503f28a8de3a4c0",
      "tooltip": ""
     }
    },
    "da5b952ae5bc45af864a775d366d0281": {
     "model_module": "@jupyter-widgets/controls",
     "model_module_version": "1.5.0",
     "model_name": "ButtonModel",
     "state": {
      "_dom_classes": [],
      "_model_module": "@jupyter-widgets/controls",
      "_model_module_version": "1.5.0",
      "_model_name": "ButtonModel",
      "_view_count": null,
      "_view_module": "@jupyter-widgets/controls",
      "_view_module_version": "1.5.0",
      "_view_name": "ButtonView",
      "button_style": "",
      "description": "Perform Linear Regression",
      "disabled": false,
      "icon": "",
      "layout": "IPY_MODEL_b43b411c86684d1daf9850b3c8863b99",
      "style": "IPY_MODEL_7b5aac13855a4d3a85f4e66d4ff850c9",
      "tooltip": ""
     }
    },
    "dc0d7786c3ca4782b8c4c5cffc4f6934": {
     "model_module": "@jupyter-widgets/controls",
     "model_module_version": "1.5.0",
     "model_name": "DescriptionStyleModel",
     "state": {
      "_model_module": "@jupyter-widgets/controls",
      "_model_module_version": "1.5.0",
      "_model_name": "DescriptionStyleModel",
      "_view_count": null,
      "_view_module": "@jupyter-widgets/base",
      "_view_module_version": "1.2.0",
      "_view_name": "StyleView",
      "description_width": ""
     }
    },
    "ded7857034d44c8787879931ffcb74dd": {
     "model_module": "@jupyter-widgets/controls",
     "model_module_version": "1.5.0",
     "model_name": "ButtonStyleModel",
     "state": {
      "_model_module": "@jupyter-widgets/controls",
      "_model_module_version": "1.5.0",
      "_model_name": "ButtonStyleModel",
      "_view_count": null,
      "_view_module": "@jupyter-widgets/base",
      "_view_module_version": "1.2.0",
      "_view_name": "StyleView",
      "button_color": null,
      "font_weight": ""
     }
    },
    "e5d77270b381450eb5d2c73f4d6c695d": {
     "model_module": "@jupyter-widgets/base",
     "model_module_version": "1.2.0",
     "model_name": "LayoutModel",
     "state": {
      "_model_module": "@jupyter-widgets/base",
      "_model_module_version": "1.2.0",
      "_model_name": "LayoutModel",
      "_view_count": null,
      "_view_module": "@jupyter-widgets/base",
      "_view_module_version": "1.2.0",
      "_view_name": "LayoutView",
      "align_content": null,
      "align_items": null,
      "align_self": null,
      "border": null,
      "bottom": null,
      "display": null,
      "flex": null,
      "flex_flow": null,
      "grid_area": null,
      "grid_auto_columns": null,
      "grid_auto_flow": null,
      "grid_auto_rows": null,
      "grid_column": null,
      "grid_gap": null,
      "grid_row": null,
      "grid_template_areas": null,
      "grid_template_columns": null,
      "grid_template_rows": null,
      "height": null,
      "justify_content": null,
      "justify_items": null,
      "left": null,
      "margin": null,
      "max_height": null,
      "max_width": null,
      "min_height": null,
      "min_width": null,
      "object_fit": null,
      "object_position": null,
      "order": null,
      "overflow": null,
      "overflow_x": null,
      "overflow_y": null,
      "padding": null,
      "right": null,
      "top": null,
      "visibility": null,
      "width": null
     }
    },
    "f15315ab426b4100bc75f6aac43de199": {
     "model_module": "@jupyter-widgets/controls",
     "model_module_version": "1.5.0",
     "model_name": "FloatTextModel",
     "state": {
      "_dom_classes": [],
      "_model_module": "@jupyter-widgets/controls",
      "_model_module_version": "1.5.0",
      "_model_name": "FloatTextModel",
      "_view_count": null,
      "_view_module": "@jupyter-widgets/controls",
      "_view_module_version": "1.5.0",
      "_view_name": "FloatTextView",
      "continuous_update": false,
      "description": "Input Value:",
      "description_tooltip": null,
      "disabled": false,
      "layout": "IPY_MODEL_899e29f06e8b4d148063fb5999dd88cb",
      "step": null,
      "style": "IPY_MODEL_f940f6d25d134c7a97bffadea8bc7761",
      "value": 22.2
     }
    },
    "f6a58e4cfe274fb8b1343c2ed254d651": {
     "model_module": "@jupyter-widgets/controls",
     "model_module_version": "1.5.0",
     "model_name": "DescriptionStyleModel",
     "state": {
      "_model_module": "@jupyter-widgets/controls",
      "_model_module_version": "1.5.0",
      "_model_name": "DescriptionStyleModel",
      "_view_count": null,
      "_view_module": "@jupyter-widgets/base",
      "_view_module_version": "1.2.0",
      "_view_name": "StyleView",
      "description_width": ""
     }
    },
    "f940f6d25d134c7a97bffadea8bc7761": {
     "model_module": "@jupyter-widgets/controls",
     "model_module_version": "1.5.0",
     "model_name": "DescriptionStyleModel",
     "state": {
      "_model_module": "@jupyter-widgets/controls",
      "_model_module_version": "1.5.0",
      "_model_name": "DescriptionStyleModel",
      "_view_count": null,
      "_view_module": "@jupyter-widgets/base",
      "_view_module_version": "1.2.0",
      "_view_name": "StyleView",
      "description_width": ""
     }
    },
    "fb95a0733e184960b0244e3b4bf8ce5c": {
     "model_module": "@jupyter-widgets/controls",
     "model_module_version": "1.5.0",
     "model_name": "DescriptionStyleModel",
     "state": {
      "_model_module": "@jupyter-widgets/controls",
      "_model_module_version": "1.5.0",
      "_model_name": "DescriptionStyleModel",
      "_view_count": null,
      "_view_module": "@jupyter-widgets/base",
      "_view_module_version": "1.2.0",
      "_view_name": "StyleView",
      "description_width": ""
     }
    },
    "fd170dbeaae14523b01bb761a7a47a8a": {
     "model_module": "@jupyter-widgets/base",
     "model_module_version": "1.2.0",
     "model_name": "LayoutModel",
     "state": {
      "_model_module": "@jupyter-widgets/base",
      "_model_module_version": "1.2.0",
      "_model_name": "LayoutModel",
      "_view_count": null,
      "_view_module": "@jupyter-widgets/base",
      "_view_module_version": "1.2.0",
      "_view_name": "LayoutView",
      "align_content": null,
      "align_items": null,
      "align_self": null,
      "border": null,
      "bottom": null,
      "display": null,
      "flex": null,
      "flex_flow": null,
      "grid_area": null,
      "grid_auto_columns": null,
      "grid_auto_flow": null,
      "grid_auto_rows": null,
      "grid_column": null,
      "grid_gap": null,
      "grid_row": null,
      "grid_template_areas": null,
      "grid_template_columns": null,
      "grid_template_rows": null,
      "height": null,
      "justify_content": null,
      "justify_items": null,
      "left": null,
      "margin": null,
      "max_height": null,
      "max_width": null,
      "min_height": null,
      "min_width": null,
      "object_fit": null,
      "object_position": null,
      "order": null,
      "overflow": null,
      "overflow_x": null,
      "overflow_y": null,
      "padding": null,
      "right": null,
      "top": null,
      "visibility": null,
      "width": null
     }
    }
   }
  }
 },
 "nbformat": 4,
 "nbformat_minor": 1
}
