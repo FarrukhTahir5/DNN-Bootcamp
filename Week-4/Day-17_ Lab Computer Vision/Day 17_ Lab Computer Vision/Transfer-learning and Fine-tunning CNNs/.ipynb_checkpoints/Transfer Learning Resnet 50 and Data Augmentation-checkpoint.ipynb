{
 "cells": [
  {
   "cell_type": "markdown",
   "metadata": {},
   "source": [
    "## Transfer Learning Resnet50 using Tensorflow "
   ]
  },
  {
   "cell_type": "code",
   "execution_count": 1,
   "metadata": {},
   "outputs": [],
   "source": [
    "# import the libraries as shown below\n",
    "\n",
    "from tensorflow.keras.layers import Input, Lambda, Dense, Flatten\n",
    "from tensorflow.keras.models import Model\n",
    "from tensorflow.keras.applications.resnet50 import ResNet50\n",
    "#from keras.applications.vgg16 import VGG16\n",
    "from tensorflow.keras.applications.resnet50 import preprocess_input\n",
    "from tensorflow.keras.preprocessing import image\n",
    "from tensorflow.keras.preprocessing.image import ImageDataGenerator,load_img\n",
    "from tensorflow.keras.models import Sequential\n",
    "import numpy as np\n",
    "from glob import glob\n",
    "import matplotlib.pyplot as plt"
   ]
  },
  {
   "cell_type": "code",
   "execution_count": 7,
   "metadata": {},
   "outputs": [],
   "source": [
    "# re-size all the images to this\n",
    "IMAGE_SIZE = [224, 224]\n",
    "\n",
    "train_path = 'Datasets/Datasets/train'\n",
    "valid_path = 'Datasets/Datasets/test'\n"
   ]
  },
  {
   "cell_type": "code",
   "execution_count": 3,
   "metadata": {},
   "outputs": [
    {
     "name": "stdout",
     "output_type": "stream",
     "text": [
      "Downloading data from https://storage.googleapis.com/tensorflow/keras-applications/resnet/resnet50_weights_tf_dim_ordering_tf_kernels_notop.h5\n",
      "94765736/94765736 [==============================] - 23s 0us/step\n"
     ]
    }
   ],
   "source": [
    "# Import the Resnet50 library as shown below and add preprocessing layer to the front of Resnet\n",
    "# Here we will be using imagenet weights\n",
    "\n",
    "resnet = ResNet50(input_shape=IMAGE_SIZE + [3], weights='imagenet', include_top=False)\n",
    "\n",
    "\n"
   ]
  },
  {
   "cell_type": "code",
   "execution_count": 4,
   "metadata": {},
   "outputs": [],
   "source": [
    "# don't train existing weights\n",
    "for layer in resnet.layers:\n",
    "    layer.trainable = False"
   ]
  },
  {
   "cell_type": "code",
   "execution_count": 11,
   "metadata": {},
   "outputs": [
    {
     "data": {
      "text/plain": [
       "['Datasets/Datasets/train\\\\audi',\n",
       " 'Datasets/Datasets/train\\\\lamborghini',\n",
       " 'Datasets/Datasets/train\\\\mercedes']"
      ]
     },
     "execution_count": 11,
     "metadata": {},
     "output_type": "execute_result"
    }
   ],
   "source": [
    "  # useful for getting number of output classes\n",
    "folders = glob('Datasets/Datasets/train/*')\n",
    "folders"
   ]
  },
  {
   "cell_type": "code",
   "execution_count": 12,
   "metadata": {},
   "outputs": [
    {
     "data": {
      "text/plain": [
       "['Datasets/Datasets/test\\\\audi',\n",
       " 'Datasets/Datasets/test\\\\lamborghini',\n",
       " 'Datasets/Datasets/test\\\\mercedes']"
      ]
     },
     "execution_count": 12,
     "metadata": {},
     "output_type": "execute_result"
    }
   ],
   "source": [
    "  # useful for getting number of output classes\n",
    "folders = glob('Datasets/Datasets/test/*')\n",
    "folders"
   ]
  },
  {
   "cell_type": "code",
   "execution_count": 14,
   "metadata": {},
   "outputs": [
    {
     "data": {
      "text/plain": [
       "<KerasTensor: shape=(None, 100352) dtype=float32 (created by layer 'flatten_1')>"
      ]
     },
     "execution_count": 14,
     "metadata": {},
     "output_type": "execute_result"
    }
   ],
   "source": [
    "# our layers - you can add more if you want\n",
    "x = Flatten()(resnet.output)\n",
    "x"
   ]
  },
  {
   "cell_type": "code",
   "execution_count": 15,
   "metadata": {},
   "outputs": [],
   "source": [
    "prediction = Dense(len(folders), activation='softmax')(x)\n",
    "\n",
    "# create a model object\n",
    "model = Model(inputs=resnet.input, outputs=prediction)"
   ]
  },
  {
   "cell_type": "code",
   "execution_count": 16,
   "metadata": {},
   "outputs": [
    {
     "name": "stdout",
     "output_type": "stream",
     "text": [
      "Model: \"model\"\n",
      "__________________________________________________________________________________________________\n",
      " Layer (type)                   Output Shape         Param #     Connected to                     \n",
      "==================================================================================================\n",
      " input_1 (InputLayer)           [(None, 224, 224, 3  0           []                               \n",
      "                                )]                                                                \n",
      "                                                                                                  \n",
      " conv1_pad (ZeroPadding2D)      (None, 230, 230, 3)  0           ['input_1[0][0]']                \n",
      "                                                                                                  \n",
      " conv1_conv (Conv2D)            (None, 112, 112, 64  9472        ['conv1_pad[0][0]']              \n",
      "                                )                                                                 \n",
      "                                                                                                  \n",
      " conv1_bn (BatchNormalization)  (None, 112, 112, 64  256         ['conv1_conv[0][0]']             \n",
      "                                )                                                                 \n",
      "                                                                                                  \n",
      " conv1_relu (Activation)        (None, 112, 112, 64  0           ['conv1_bn[0][0]']               \n",
      "                                )                                                                 \n",
      "                                                                                                  \n",
      " pool1_pad (ZeroPadding2D)      (None, 114, 114, 64  0           ['conv1_relu[0][0]']             \n",
      "                                )                                                                 \n",
      "                                                                                                  \n",
      " pool1_pool (MaxPooling2D)      (None, 56, 56, 64)   0           ['pool1_pad[0][0]']              \n",
      "                                                                                                  \n",
      " conv2_block1_1_conv (Conv2D)   (None, 56, 56, 64)   4160        ['pool1_pool[0][0]']             \n",
      "                                                                                                  \n",
      " conv2_block1_1_bn (BatchNormal  (None, 56, 56, 64)  256         ['conv2_block1_1_conv[0][0]']    \n",
      " ization)                                                                                         \n",
      "                                                                                                  \n",
      " conv2_block1_1_relu (Activatio  (None, 56, 56, 64)  0           ['conv2_block1_1_bn[0][0]']      \n",
      " n)                                                                                               \n",
      "                                                                                                  \n",
      " conv2_block1_2_conv (Conv2D)   (None, 56, 56, 64)   36928       ['conv2_block1_1_relu[0][0]']    \n",
      "                                                                                                  \n",
      " conv2_block1_2_bn (BatchNormal  (None, 56, 56, 64)  256         ['conv2_block1_2_conv[0][0]']    \n",
      " ization)                                                                                         \n",
      "                                                                                                  \n",
      " conv2_block1_2_relu (Activatio  (None, 56, 56, 64)  0           ['conv2_block1_2_bn[0][0]']      \n",
      " n)                                                                                               \n",
      "                                                                                                  \n",
      " conv2_block1_0_conv (Conv2D)   (None, 56, 56, 256)  16640       ['pool1_pool[0][0]']             \n",
      "                                                                                                  \n",
      " conv2_block1_3_conv (Conv2D)   (None, 56, 56, 256)  16640       ['conv2_block1_2_relu[0][0]']    \n",
      "                                                                                                  \n",
      " conv2_block1_0_bn (BatchNormal  (None, 56, 56, 256)  1024       ['conv2_block1_0_conv[0][0]']    \n",
      " ization)                                                                                         \n",
      "                                                                                                  \n",
      " conv2_block1_3_bn (BatchNormal  (None, 56, 56, 256)  1024       ['conv2_block1_3_conv[0][0]']    \n",
      " ization)                                                                                         \n",
      "                                                                                                  \n",
      " conv2_block1_add (Add)         (None, 56, 56, 256)  0           ['conv2_block1_0_bn[0][0]',      \n",
      "                                                                  'conv2_block1_3_bn[0][0]']      \n",
      "                                                                                                  \n",
      " conv2_block1_out (Activation)  (None, 56, 56, 256)  0           ['conv2_block1_add[0][0]']       \n",
      "                                                                                                  \n",
      " conv2_block2_1_conv (Conv2D)   (None, 56, 56, 64)   16448       ['conv2_block1_out[0][0]']       \n",
      "                                                                                                  \n",
      " conv2_block2_1_bn (BatchNormal  (None, 56, 56, 64)  256         ['conv2_block2_1_conv[0][0]']    \n",
      " ization)                                                                                         \n",
      "                                                                                                  \n",
      " conv2_block2_1_relu (Activatio  (None, 56, 56, 64)  0           ['conv2_block2_1_bn[0][0]']      \n",
      " n)                                                                                               \n",
      "                                                                                                  \n",
      " conv2_block2_2_conv (Conv2D)   (None, 56, 56, 64)   36928       ['conv2_block2_1_relu[0][0]']    \n",
      "                                                                                                  \n",
      " conv2_block2_2_bn (BatchNormal  (None, 56, 56, 64)  256         ['conv2_block2_2_conv[0][0]']    \n",
      " ization)                                                                                         \n",
      "                                                                                                  \n",
      " conv2_block2_2_relu (Activatio  (None, 56, 56, 64)  0           ['conv2_block2_2_bn[0][0]']      \n",
      " n)                                                                                               \n",
      "                                                                                                  \n",
      " conv2_block2_3_conv (Conv2D)   (None, 56, 56, 256)  16640       ['conv2_block2_2_relu[0][0]']    \n",
      "                                                                                                  \n",
      " conv2_block2_3_bn (BatchNormal  (None, 56, 56, 256)  1024       ['conv2_block2_3_conv[0][0]']    \n",
      " ization)                                                                                         \n",
      "                                                                                                  \n",
      " conv2_block2_add (Add)         (None, 56, 56, 256)  0           ['conv2_block1_out[0][0]',       \n",
      "                                                                  'conv2_block2_3_bn[0][0]']      \n",
      "                                                                                                  \n",
      " conv2_block2_out (Activation)  (None, 56, 56, 256)  0           ['conv2_block2_add[0][0]']       \n",
      "                                                                                                  \n",
      " conv2_block3_1_conv (Conv2D)   (None, 56, 56, 64)   16448       ['conv2_block2_out[0][0]']       \n",
      "                                                                                                  \n",
      " conv2_block3_1_bn (BatchNormal  (None, 56, 56, 64)  256         ['conv2_block3_1_conv[0][0]']    \n",
      " ization)                                                                                         \n"
     ]
    },
    {
     "name": "stdout",
     "output_type": "stream",
     "text": [
      "                                                                                                  \n",
      " conv2_block3_1_relu (Activatio  (None, 56, 56, 64)  0           ['conv2_block3_1_bn[0][0]']      \n",
      " n)                                                                                               \n",
      "                                                                                                  \n",
      " conv2_block3_2_conv (Conv2D)   (None, 56, 56, 64)   36928       ['conv2_block3_1_relu[0][0]']    \n",
      "                                                                                                  \n",
      " conv2_block3_2_bn (BatchNormal  (None, 56, 56, 64)  256         ['conv2_block3_2_conv[0][0]']    \n",
      " ization)                                                                                         \n",
      "                                                                                                  \n",
      " conv2_block3_2_relu (Activatio  (None, 56, 56, 64)  0           ['conv2_block3_2_bn[0][0]']      \n",
      " n)                                                                                               \n",
      "                                                                                                  \n",
      " conv2_block3_3_conv (Conv2D)   (None, 56, 56, 256)  16640       ['conv2_block3_2_relu[0][0]']    \n",
      "                                                                                                  \n",
      " conv2_block3_3_bn (BatchNormal  (None, 56, 56, 256)  1024       ['conv2_block3_3_conv[0][0]']    \n",
      " ization)                                                                                         \n",
      "                                                                                                  \n",
      " conv2_block3_add (Add)         (None, 56, 56, 256)  0           ['conv2_block2_out[0][0]',       \n",
      "                                                                  'conv2_block3_3_bn[0][0]']      \n",
      "                                                                                                  \n",
      " conv2_block3_out (Activation)  (None, 56, 56, 256)  0           ['conv2_block3_add[0][0]']       \n",
      "                                                                                                  \n",
      " conv3_block1_1_conv (Conv2D)   (None, 28, 28, 128)  32896       ['conv2_block3_out[0][0]']       \n",
      "                                                                                                  \n",
      " conv3_block1_1_bn (BatchNormal  (None, 28, 28, 128)  512        ['conv3_block1_1_conv[0][0]']    \n",
      " ization)                                                                                         \n",
      "                                                                                                  \n",
      " conv3_block1_1_relu (Activatio  (None, 28, 28, 128)  0          ['conv3_block1_1_bn[0][0]']      \n",
      " n)                                                                                               \n",
      "                                                                                                  \n",
      " conv3_block1_2_conv (Conv2D)   (None, 28, 28, 128)  147584      ['conv3_block1_1_relu[0][0]']    \n",
      "                                                                                                  \n",
      " conv3_block1_2_bn (BatchNormal  (None, 28, 28, 128)  512        ['conv3_block1_2_conv[0][0]']    \n",
      " ization)                                                                                         \n",
      "                                                                                                  \n",
      " conv3_block1_2_relu (Activatio  (None, 28, 28, 128)  0          ['conv3_block1_2_bn[0][0]']      \n",
      " n)                                                                                               \n",
      "                                                                                                  \n",
      " conv3_block1_0_conv (Conv2D)   (None, 28, 28, 512)  131584      ['conv2_block3_out[0][0]']       \n",
      "                                                                                                  \n",
      " conv3_block1_3_conv (Conv2D)   (None, 28, 28, 512)  66048       ['conv3_block1_2_relu[0][0]']    \n",
      "                                                                                                  \n",
      " conv3_block1_0_bn (BatchNormal  (None, 28, 28, 512)  2048       ['conv3_block1_0_conv[0][0]']    \n",
      " ization)                                                                                         \n",
      "                                                                                                  \n",
      " conv3_block1_3_bn (BatchNormal  (None, 28, 28, 512)  2048       ['conv3_block1_3_conv[0][0]']    \n",
      " ization)                                                                                         \n",
      "                                                                                                  \n",
      " conv3_block1_add (Add)         (None, 28, 28, 512)  0           ['conv3_block1_0_bn[0][0]',      \n",
      "                                                                  'conv3_block1_3_bn[0][0]']      \n",
      "                                                                                                  \n",
      " conv3_block1_out (Activation)  (None, 28, 28, 512)  0           ['conv3_block1_add[0][0]']       \n",
      "                                                                                                  \n",
      " conv3_block2_1_conv (Conv2D)   (None, 28, 28, 128)  65664       ['conv3_block1_out[0][0]']       \n",
      "                                                                                                  \n",
      " conv3_block2_1_bn (BatchNormal  (None, 28, 28, 128)  512        ['conv3_block2_1_conv[0][0]']    \n",
      " ization)                                                                                         \n",
      "                                                                                                  \n",
      " conv3_block2_1_relu (Activatio  (None, 28, 28, 128)  0          ['conv3_block2_1_bn[0][0]']      \n",
      " n)                                                                                               \n",
      "                                                                                                  \n",
      " conv3_block2_2_conv (Conv2D)   (None, 28, 28, 128)  147584      ['conv3_block2_1_relu[0][0]']    \n",
      "                                                                                                  \n",
      " conv3_block2_2_bn (BatchNormal  (None, 28, 28, 128)  512        ['conv3_block2_2_conv[0][0]']    \n",
      " ization)                                                                                         \n",
      "                                                                                                  \n",
      " conv3_block2_2_relu (Activatio  (None, 28, 28, 128)  0          ['conv3_block2_2_bn[0][0]']      \n",
      " n)                                                                                               \n",
      "                                                                                                  \n",
      " conv3_block2_3_conv (Conv2D)   (None, 28, 28, 512)  66048       ['conv3_block2_2_relu[0][0]']    \n",
      "                                                                                                  \n",
      " conv3_block2_3_bn (BatchNormal  (None, 28, 28, 512)  2048       ['conv3_block2_3_conv[0][0]']    \n",
      " ization)                                                                                         \n",
      "                                                                                                  \n",
      " conv3_block2_add (Add)         (None, 28, 28, 512)  0           ['conv3_block1_out[0][0]',       \n",
      "                                                                  'conv3_block2_3_bn[0][0]']      \n",
      "                                                                                                  \n",
      " conv3_block2_out (Activation)  (None, 28, 28, 512)  0           ['conv3_block2_add[0][0]']       \n",
      "                                                                                                  \n",
      " conv3_block3_1_conv (Conv2D)   (None, 28, 28, 128)  65664       ['conv3_block2_out[0][0]']       \n",
      "                                                                                                  \n",
      " conv3_block3_1_bn (BatchNormal  (None, 28, 28, 128)  512        ['conv3_block3_1_conv[0][0]']    \n",
      " ization)                                                                                         \n"
     ]
    },
    {
     "name": "stdout",
     "output_type": "stream",
     "text": [
      "                                                                                                  \n",
      " conv3_block3_1_relu (Activatio  (None, 28, 28, 128)  0          ['conv3_block3_1_bn[0][0]']      \n",
      " n)                                                                                               \n",
      "                                                                                                  \n",
      " conv3_block3_2_conv (Conv2D)   (None, 28, 28, 128)  147584      ['conv3_block3_1_relu[0][0]']    \n",
      "                                                                                                  \n",
      " conv3_block3_2_bn (BatchNormal  (None, 28, 28, 128)  512        ['conv3_block3_2_conv[0][0]']    \n",
      " ization)                                                                                         \n",
      "                                                                                                  \n",
      " conv3_block3_2_relu (Activatio  (None, 28, 28, 128)  0          ['conv3_block3_2_bn[0][0]']      \n",
      " n)                                                                                               \n",
      "                                                                                                  \n",
      " conv3_block3_3_conv (Conv2D)   (None, 28, 28, 512)  66048       ['conv3_block3_2_relu[0][0]']    \n",
      "                                                                                                  \n",
      " conv3_block3_3_bn (BatchNormal  (None, 28, 28, 512)  2048       ['conv3_block3_3_conv[0][0]']    \n",
      " ization)                                                                                         \n",
      "                                                                                                  \n",
      " conv3_block3_add (Add)         (None, 28, 28, 512)  0           ['conv3_block2_out[0][0]',       \n",
      "                                                                  'conv3_block3_3_bn[0][0]']      \n",
      "                                                                                                  \n",
      " conv3_block3_out (Activation)  (None, 28, 28, 512)  0           ['conv3_block3_add[0][0]']       \n",
      "                                                                                                  \n",
      " conv3_block4_1_conv (Conv2D)   (None, 28, 28, 128)  65664       ['conv3_block3_out[0][0]']       \n",
      "                                                                                                  \n",
      " conv3_block4_1_bn (BatchNormal  (None, 28, 28, 128)  512        ['conv3_block4_1_conv[0][0]']    \n",
      " ization)                                                                                         \n",
      "                                                                                                  \n",
      " conv3_block4_1_relu (Activatio  (None, 28, 28, 128)  0          ['conv3_block4_1_bn[0][0]']      \n",
      " n)                                                                                               \n",
      "                                                                                                  \n",
      " conv3_block4_2_conv (Conv2D)   (None, 28, 28, 128)  147584      ['conv3_block4_1_relu[0][0]']    \n",
      "                                                                                                  \n",
      " conv3_block4_2_bn (BatchNormal  (None, 28, 28, 128)  512        ['conv3_block4_2_conv[0][0]']    \n",
      " ization)                                                                                         \n",
      "                                                                                                  \n",
      " conv3_block4_2_relu (Activatio  (None, 28, 28, 128)  0          ['conv3_block4_2_bn[0][0]']      \n",
      " n)                                                                                               \n",
      "                                                                                                  \n",
      " conv3_block4_3_conv (Conv2D)   (None, 28, 28, 512)  66048       ['conv3_block4_2_relu[0][0]']    \n",
      "                                                                                                  \n",
      " conv3_block4_3_bn (BatchNormal  (None, 28, 28, 512)  2048       ['conv3_block4_3_conv[0][0]']    \n",
      " ization)                                                                                         \n",
      "                                                                                                  \n",
      " conv3_block4_add (Add)         (None, 28, 28, 512)  0           ['conv3_block3_out[0][0]',       \n",
      "                                                                  'conv3_block4_3_bn[0][0]']      \n",
      "                                                                                                  \n",
      " conv3_block4_out (Activation)  (None, 28, 28, 512)  0           ['conv3_block4_add[0][0]']       \n",
      "                                                                                                  \n",
      " conv4_block1_1_conv (Conv2D)   (None, 14, 14, 256)  131328      ['conv3_block4_out[0][0]']       \n",
      "                                                                                                  \n",
      " conv4_block1_1_bn (BatchNormal  (None, 14, 14, 256)  1024       ['conv4_block1_1_conv[0][0]']    \n",
      " ization)                                                                                         \n",
      "                                                                                                  \n",
      " conv4_block1_1_relu (Activatio  (None, 14, 14, 256)  0          ['conv4_block1_1_bn[0][0]']      \n",
      " n)                                                                                               \n",
      "                                                                                                  \n",
      " conv4_block1_2_conv (Conv2D)   (None, 14, 14, 256)  590080      ['conv4_block1_1_relu[0][0]']    \n",
      "                                                                                                  \n",
      " conv4_block1_2_bn (BatchNormal  (None, 14, 14, 256)  1024       ['conv4_block1_2_conv[0][0]']    \n",
      " ization)                                                                                         \n",
      "                                                                                                  \n",
      " conv4_block1_2_relu (Activatio  (None, 14, 14, 256)  0          ['conv4_block1_2_bn[0][0]']      \n",
      " n)                                                                                               \n",
      "                                                                                                  \n",
      " conv4_block1_0_conv (Conv2D)   (None, 14, 14, 1024  525312      ['conv3_block4_out[0][0]']       \n",
      "                                )                                                                 \n",
      "                                                                                                  \n",
      " conv4_block1_3_conv (Conv2D)   (None, 14, 14, 1024  263168      ['conv4_block1_2_relu[0][0]']    \n",
      "                                )                                                                 \n",
      "                                                                                                  \n",
      " conv4_block1_0_bn (BatchNormal  (None, 14, 14, 1024  4096       ['conv4_block1_0_conv[0][0]']    \n",
      " ization)                       )                                                                 \n",
      "                                                                                                  \n",
      " conv4_block1_3_bn (BatchNormal  (None, 14, 14, 1024  4096       ['conv4_block1_3_conv[0][0]']    \n",
      " ization)                       )                                                                 \n",
      "                                                                                                  \n",
      " conv4_block1_add (Add)         (None, 14, 14, 1024  0           ['conv4_block1_0_bn[0][0]',      \n",
      "                                )                                 'conv4_block1_3_bn[0][0]']      \n",
      "                                                                                                  \n",
      " conv4_block1_out (Activation)  (None, 14, 14, 1024  0           ['conv4_block1_add[0][0]']       \n",
      "                                )                                                                 \n",
      "                                                                                                  \n",
      " conv4_block2_1_conv (Conv2D)   (None, 14, 14, 256)  262400      ['conv4_block1_out[0][0]']       \n"
     ]
    },
    {
     "name": "stdout",
     "output_type": "stream",
     "text": [
      "                                                                                                  \n",
      " conv4_block2_1_bn (BatchNormal  (None, 14, 14, 256)  1024       ['conv4_block2_1_conv[0][0]']    \n",
      " ization)                                                                                         \n",
      "                                                                                                  \n",
      " conv4_block2_1_relu (Activatio  (None, 14, 14, 256)  0          ['conv4_block2_1_bn[0][0]']      \n",
      " n)                                                                                               \n",
      "                                                                                                  \n",
      " conv4_block2_2_conv (Conv2D)   (None, 14, 14, 256)  590080      ['conv4_block2_1_relu[0][0]']    \n",
      "                                                                                                  \n",
      " conv4_block2_2_bn (BatchNormal  (None, 14, 14, 256)  1024       ['conv4_block2_2_conv[0][0]']    \n",
      " ization)                                                                                         \n",
      "                                                                                                  \n",
      " conv4_block2_2_relu (Activatio  (None, 14, 14, 256)  0          ['conv4_block2_2_bn[0][0]']      \n",
      " n)                                                                                               \n",
      "                                                                                                  \n",
      " conv4_block2_3_conv (Conv2D)   (None, 14, 14, 1024  263168      ['conv4_block2_2_relu[0][0]']    \n",
      "                                )                                                                 \n",
      "                                                                                                  \n",
      " conv4_block2_3_bn (BatchNormal  (None, 14, 14, 1024  4096       ['conv4_block2_3_conv[0][0]']    \n",
      " ization)                       )                                                                 \n",
      "                                                                                                  \n",
      " conv4_block2_add (Add)         (None, 14, 14, 1024  0           ['conv4_block1_out[0][0]',       \n",
      "                                )                                 'conv4_block2_3_bn[0][0]']      \n",
      "                                                                                                  \n",
      " conv4_block2_out (Activation)  (None, 14, 14, 1024  0           ['conv4_block2_add[0][0]']       \n",
      "                                )                                                                 \n",
      "                                                                                                  \n",
      " conv4_block3_1_conv (Conv2D)   (None, 14, 14, 256)  262400      ['conv4_block2_out[0][0]']       \n",
      "                                                                                                  \n",
      " conv4_block3_1_bn (BatchNormal  (None, 14, 14, 256)  1024       ['conv4_block3_1_conv[0][0]']    \n",
      " ization)                                                                                         \n",
      "                                                                                                  \n",
      " conv4_block3_1_relu (Activatio  (None, 14, 14, 256)  0          ['conv4_block3_1_bn[0][0]']      \n",
      " n)                                                                                               \n",
      "                                                                                                  \n",
      " conv4_block3_2_conv (Conv2D)   (None, 14, 14, 256)  590080      ['conv4_block3_1_relu[0][0]']    \n",
      "                                                                                                  \n",
      " conv4_block3_2_bn (BatchNormal  (None, 14, 14, 256)  1024       ['conv4_block3_2_conv[0][0]']    \n",
      " ization)                                                                                         \n",
      "                                                                                                  \n",
      " conv4_block3_2_relu (Activatio  (None, 14, 14, 256)  0          ['conv4_block3_2_bn[0][0]']      \n",
      " n)                                                                                               \n",
      "                                                                                                  \n",
      " conv4_block3_3_conv (Conv2D)   (None, 14, 14, 1024  263168      ['conv4_block3_2_relu[0][0]']    \n",
      "                                )                                                                 \n",
      "                                                                                                  \n",
      " conv4_block3_3_bn (BatchNormal  (None, 14, 14, 1024  4096       ['conv4_block3_3_conv[0][0]']    \n",
      " ization)                       )                                                                 \n",
      "                                                                                                  \n",
      " conv4_block3_add (Add)         (None, 14, 14, 1024  0           ['conv4_block2_out[0][0]',       \n",
      "                                )                                 'conv4_block3_3_bn[0][0]']      \n",
      "                                                                                                  \n",
      " conv4_block3_out (Activation)  (None, 14, 14, 1024  0           ['conv4_block3_add[0][0]']       \n",
      "                                )                                                                 \n",
      "                                                                                                  \n",
      " conv4_block4_1_conv (Conv2D)   (None, 14, 14, 256)  262400      ['conv4_block3_out[0][0]']       \n",
      "                                                                                                  \n",
      " conv4_block4_1_bn (BatchNormal  (None, 14, 14, 256)  1024       ['conv4_block4_1_conv[0][0]']    \n",
      " ization)                                                                                         \n",
      "                                                                                                  \n",
      " conv4_block4_1_relu (Activatio  (None, 14, 14, 256)  0          ['conv4_block4_1_bn[0][0]']      \n",
      " n)                                                                                               \n",
      "                                                                                                  \n",
      " conv4_block4_2_conv (Conv2D)   (None, 14, 14, 256)  590080      ['conv4_block4_1_relu[0][0]']    \n",
      "                                                                                                  \n",
      " conv4_block4_2_bn (BatchNormal  (None, 14, 14, 256)  1024       ['conv4_block4_2_conv[0][0]']    \n",
      " ization)                                                                                         \n",
      "                                                                                                  \n",
      " conv4_block4_2_relu (Activatio  (None, 14, 14, 256)  0          ['conv4_block4_2_bn[0][0]']      \n",
      " n)                                                                                               \n",
      "                                                                                                  \n",
      " conv4_block4_3_conv (Conv2D)   (None, 14, 14, 1024  263168      ['conv4_block4_2_relu[0][0]']    \n",
      "                                )                                                                 \n",
      "                                                                                                  \n",
      " conv4_block4_3_bn (BatchNormal  (None, 14, 14, 1024  4096       ['conv4_block4_3_conv[0][0]']    \n",
      " ization)                       )                                                                 \n",
      "                                                                                                  \n",
      " conv4_block4_add (Add)         (None, 14, 14, 1024  0           ['conv4_block3_out[0][0]',       \n",
      "                                )                                 'conv4_block4_3_bn[0][0]']      \n",
      "                                                                                                  \n",
      " conv4_block4_out (Activation)  (None, 14, 14, 1024  0           ['conv4_block4_add[0][0]']       \n",
      "                                )                                                                 \n",
      "                                                                                                  \n"
     ]
    },
    {
     "name": "stdout",
     "output_type": "stream",
     "text": [
      " conv4_block5_1_conv (Conv2D)   (None, 14, 14, 256)  262400      ['conv4_block4_out[0][0]']       \n",
      "                                                                                                  \n",
      " conv4_block5_1_bn (BatchNormal  (None, 14, 14, 256)  1024       ['conv4_block5_1_conv[0][0]']    \n",
      " ization)                                                                                         \n",
      "                                                                                                  \n",
      " conv4_block5_1_relu (Activatio  (None, 14, 14, 256)  0          ['conv4_block5_1_bn[0][0]']      \n",
      " n)                                                                                               \n",
      "                                                                                                  \n",
      " conv4_block5_2_conv (Conv2D)   (None, 14, 14, 256)  590080      ['conv4_block5_1_relu[0][0]']    \n",
      "                                                                                                  \n",
      " conv4_block5_2_bn (BatchNormal  (None, 14, 14, 256)  1024       ['conv4_block5_2_conv[0][0]']    \n",
      " ization)                                                                                         \n",
      "                                                                                                  \n",
      " conv4_block5_2_relu (Activatio  (None, 14, 14, 256)  0          ['conv4_block5_2_bn[0][0]']      \n",
      " n)                                                                                               \n",
      "                                                                                                  \n",
      " conv4_block5_3_conv (Conv2D)   (None, 14, 14, 1024  263168      ['conv4_block5_2_relu[0][0]']    \n",
      "                                )                                                                 \n",
      "                                                                                                  \n",
      " conv4_block5_3_bn (BatchNormal  (None, 14, 14, 1024  4096       ['conv4_block5_3_conv[0][0]']    \n",
      " ization)                       )                                                                 \n",
      "                                                                                                  \n",
      " conv4_block5_add (Add)         (None, 14, 14, 1024  0           ['conv4_block4_out[0][0]',       \n",
      "                                )                                 'conv4_block5_3_bn[0][0]']      \n",
      "                                                                                                  \n",
      " conv4_block5_out (Activation)  (None, 14, 14, 1024  0           ['conv4_block5_add[0][0]']       \n",
      "                                )                                                                 \n",
      "                                                                                                  \n",
      " conv4_block6_1_conv (Conv2D)   (None, 14, 14, 256)  262400      ['conv4_block5_out[0][0]']       \n",
      "                                                                                                  \n",
      " conv4_block6_1_bn (BatchNormal  (None, 14, 14, 256)  1024       ['conv4_block6_1_conv[0][0]']    \n",
      " ization)                                                                                         \n",
      "                                                                                                  \n",
      " conv4_block6_1_relu (Activatio  (None, 14, 14, 256)  0          ['conv4_block6_1_bn[0][0]']      \n",
      " n)                                                                                               \n",
      "                                                                                                  \n",
      " conv4_block6_2_conv (Conv2D)   (None, 14, 14, 256)  590080      ['conv4_block6_1_relu[0][0]']    \n",
      "                                                                                                  \n",
      " conv4_block6_2_bn (BatchNormal  (None, 14, 14, 256)  1024       ['conv4_block6_2_conv[0][0]']    \n",
      " ization)                                                                                         \n",
      "                                                                                                  \n",
      " conv4_block6_2_relu (Activatio  (None, 14, 14, 256)  0          ['conv4_block6_2_bn[0][0]']      \n",
      " n)                                                                                               \n",
      "                                                                                                  \n",
      " conv4_block6_3_conv (Conv2D)   (None, 14, 14, 1024  263168      ['conv4_block6_2_relu[0][0]']    \n",
      "                                )                                                                 \n",
      "                                                                                                  \n",
      " conv4_block6_3_bn (BatchNormal  (None, 14, 14, 1024  4096       ['conv4_block6_3_conv[0][0]']    \n",
      " ization)                       )                                                                 \n",
      "                                                                                                  \n",
      " conv4_block6_add (Add)         (None, 14, 14, 1024  0           ['conv4_block5_out[0][0]',       \n",
      "                                )                                 'conv4_block6_3_bn[0][0]']      \n",
      "                                                                                                  \n",
      " conv4_block6_out (Activation)  (None, 14, 14, 1024  0           ['conv4_block6_add[0][0]']       \n",
      "                                )                                                                 \n",
      "                                                                                                  \n",
      " conv5_block1_1_conv (Conv2D)   (None, 7, 7, 512)    524800      ['conv4_block6_out[0][0]']       \n",
      "                                                                                                  \n",
      " conv5_block1_1_bn (BatchNormal  (None, 7, 7, 512)   2048        ['conv5_block1_1_conv[0][0]']    \n",
      " ization)                                                                                         \n",
      "                                                                                                  \n",
      " conv5_block1_1_relu (Activatio  (None, 7, 7, 512)   0           ['conv5_block1_1_bn[0][0]']      \n",
      " n)                                                                                               \n",
      "                                                                                                  \n",
      " conv5_block1_2_conv (Conv2D)   (None, 7, 7, 512)    2359808     ['conv5_block1_1_relu[0][0]']    \n",
      "                                                                                                  \n",
      " conv5_block1_2_bn (BatchNormal  (None, 7, 7, 512)   2048        ['conv5_block1_2_conv[0][0]']    \n",
      " ization)                                                                                         \n",
      "                                                                                                  \n",
      " conv5_block1_2_relu (Activatio  (None, 7, 7, 512)   0           ['conv5_block1_2_bn[0][0]']      \n",
      " n)                                                                                               \n",
      "                                                                                                  \n",
      " conv5_block1_0_conv (Conv2D)   (None, 7, 7, 2048)   2099200     ['conv4_block6_out[0][0]']       \n",
      "                                                                                                  \n",
      " conv5_block1_3_conv (Conv2D)   (None, 7, 7, 2048)   1050624     ['conv5_block1_2_relu[0][0]']    \n",
      "                                                                                                  \n",
      " conv5_block1_0_bn (BatchNormal  (None, 7, 7, 2048)  8192        ['conv5_block1_0_conv[0][0]']    \n",
      " ization)                                                                                         \n",
      "                                                                                                  \n",
      " conv5_block1_3_bn (BatchNormal  (None, 7, 7, 2048)  8192        ['conv5_block1_3_conv[0][0]']    \n",
      " ization)                                                                                         \n",
      "                                                                                                  \n",
      " conv5_block1_add (Add)         (None, 7, 7, 2048)   0           ['conv5_block1_0_bn[0][0]',      \n"
     ]
    },
    {
     "name": "stdout",
     "output_type": "stream",
     "text": [
      "                                                                  'conv5_block1_3_bn[0][0]']      \n",
      "                                                                                                  \n",
      " conv5_block1_out (Activation)  (None, 7, 7, 2048)   0           ['conv5_block1_add[0][0]']       \n",
      "                                                                                                  \n",
      " conv5_block2_1_conv (Conv2D)   (None, 7, 7, 512)    1049088     ['conv5_block1_out[0][0]']       \n",
      "                                                                                                  \n",
      " conv5_block2_1_bn (BatchNormal  (None, 7, 7, 512)   2048        ['conv5_block2_1_conv[0][0]']    \n",
      " ization)                                                                                         \n",
      "                                                                                                  \n",
      " conv5_block2_1_relu (Activatio  (None, 7, 7, 512)   0           ['conv5_block2_1_bn[0][0]']      \n",
      " n)                                                                                               \n",
      "                                                                                                  \n",
      " conv5_block2_2_conv (Conv2D)   (None, 7, 7, 512)    2359808     ['conv5_block2_1_relu[0][0]']    \n",
      "                                                                                                  \n",
      " conv5_block2_2_bn (BatchNormal  (None, 7, 7, 512)   2048        ['conv5_block2_2_conv[0][0]']    \n",
      " ization)                                                                                         \n",
      "                                                                                                  \n",
      " conv5_block2_2_relu (Activatio  (None, 7, 7, 512)   0           ['conv5_block2_2_bn[0][0]']      \n",
      " n)                                                                                               \n",
      "                                                                                                  \n",
      " conv5_block2_3_conv (Conv2D)   (None, 7, 7, 2048)   1050624     ['conv5_block2_2_relu[0][0]']    \n",
      "                                                                                                  \n",
      " conv5_block2_3_bn (BatchNormal  (None, 7, 7, 2048)  8192        ['conv5_block2_3_conv[0][0]']    \n",
      " ization)                                                                                         \n",
      "                                                                                                  \n",
      " conv5_block2_add (Add)         (None, 7, 7, 2048)   0           ['conv5_block1_out[0][0]',       \n",
      "                                                                  'conv5_block2_3_bn[0][0]']      \n",
      "                                                                                                  \n",
      " conv5_block2_out (Activation)  (None, 7, 7, 2048)   0           ['conv5_block2_add[0][0]']       \n",
      "                                                                                                  \n",
      " conv5_block3_1_conv (Conv2D)   (None, 7, 7, 512)    1049088     ['conv5_block2_out[0][0]']       \n",
      "                                                                                                  \n",
      " conv5_block3_1_bn (BatchNormal  (None, 7, 7, 512)   2048        ['conv5_block3_1_conv[0][0]']    \n",
      " ization)                                                                                         \n",
      "                                                                                                  \n",
      " conv5_block3_1_relu (Activatio  (None, 7, 7, 512)   0           ['conv5_block3_1_bn[0][0]']      \n",
      " n)                                                                                               \n",
      "                                                                                                  \n",
      " conv5_block3_2_conv (Conv2D)   (None, 7, 7, 512)    2359808     ['conv5_block3_1_relu[0][0]']    \n",
      "                                                                                                  \n",
      " conv5_block3_2_bn (BatchNormal  (None, 7, 7, 512)   2048        ['conv5_block3_2_conv[0][0]']    \n",
      " ization)                                                                                         \n",
      "                                                                                                  \n",
      " conv5_block3_2_relu (Activatio  (None, 7, 7, 512)   0           ['conv5_block3_2_bn[0][0]']      \n",
      " n)                                                                                               \n",
      "                                                                                                  \n",
      " conv5_block3_3_conv (Conv2D)   (None, 7, 7, 2048)   1050624     ['conv5_block3_2_relu[0][0]']    \n",
      "                                                                                                  \n",
      " conv5_block3_3_bn (BatchNormal  (None, 7, 7, 2048)  8192        ['conv5_block3_3_conv[0][0]']    \n",
      " ization)                                                                                         \n",
      "                                                                                                  \n",
      " conv5_block3_add (Add)         (None, 7, 7, 2048)   0           ['conv5_block2_out[0][0]',       \n",
      "                                                                  'conv5_block3_3_bn[0][0]']      \n",
      "                                                                                                  \n",
      " conv5_block3_out (Activation)  (None, 7, 7, 2048)   0           ['conv5_block3_add[0][0]']       \n",
      "                                                                                                  \n",
      " flatten_1 (Flatten)            (None, 100352)       0           ['conv5_block3_out[0][0]']       \n",
      "                                                                                                  \n",
      " dense (Dense)                  (None, 3)            301059      ['flatten_1[0][0]']              \n",
      "                                                                                                  \n",
      "==================================================================================================\n",
      "Total params: 23,888,771\n",
      "Trainable params: 301,059\n",
      "Non-trainable params: 23,587,712\n",
      "__________________________________________________________________________________________________\n"
     ]
    }
   ],
   "source": [
    "\n",
    "# view the structure of the model\n",
    "model.summary()\n"
   ]
  },
  {
   "cell_type": "code",
   "execution_count": 17,
   "metadata": {},
   "outputs": [],
   "source": [
    "# tell the model what cost and optimization method to use\n",
    "model.compile(\n",
    "  loss='categorical_crossentropy',\n",
    "  optimizer='adam',\n",
    "  metrics=['accuracy']\n",
    ")\n"
   ]
  },
  {
   "cell_type": "code",
   "execution_count": 18,
   "metadata": {},
   "outputs": [],
   "source": [
    "# Use the Image Data Generator to import the images from the dataset\n",
    "from tensorflow.keras.preprocessing.image import ImageDataGenerator\n",
    "\n",
    "train_datagen = ImageDataGenerator(rescale = 1./255,\n",
    "                                   shear_range = 0.2,\n",
    "                                   zoom_range = 0.2,\n",
    "                                   horizontal_flip = True)\n",
    "\n",
    "test_datagen = ImageDataGenerator(rescale = 1./255)"
   ]
  },
  {
   "cell_type": "code",
   "execution_count": 20,
   "metadata": {},
   "outputs": [
    {
     "name": "stdout",
     "output_type": "stream",
     "text": [
      "Found 64 images belonging to 3 classes.\n"
     ]
    }
   ],
   "source": [
    "# Make sure you provide the same target size as initialied for the image size\n",
    "training_set = train_datagen.flow_from_directory('Datasets/Datasets/train',\n",
    "                                                 target_size = (224, 224),\n",
    "                                                 batch_size = 32,\n",
    "                                                 class_mode = 'categorical')"
   ]
  },
  {
   "cell_type": "code",
   "execution_count": 22,
   "metadata": {},
   "outputs": [
    {
     "name": "stdout",
     "output_type": "stream",
     "text": [
      "Found 58 images belonging to 3 classes.\n"
     ]
    }
   ],
   "source": [
    "test_set = test_datagen.flow_from_directory('Datasets/Datasets/test',\n",
    "                                            target_size = (224, 224),\n",
    "                                            batch_size = 32,\n",
    "                                            class_mode = 'categorical')"
   ]
  },
  {
   "cell_type": "code",
   "execution_count": 23,
   "metadata": {},
   "outputs": [
    {
     "name": "stderr",
     "output_type": "stream",
     "text": [
      "C:\\Users\\ASIM\\AppData\\Local\\Temp\\ipykernel_2176\\4102162479.py:3: UserWarning: `Model.fit_generator` is deprecated and will be removed in a future version. Please use `Model.fit`, which supports generators.\n",
      "  r = model.fit_generator(\n"
     ]
    },
    {
     "name": "stdout",
     "output_type": "stream",
     "text": [
      "Epoch 1/50\n",
      "2/2 [==============================] - 18s 11s/step - loss: 5.1620 - accuracy: 0.3594 - val_loss: 8.4203 - val_accuracy: 0.1724\n",
      "Epoch 2/50\n",
      "2/2 [==============================] - 15s 11s/step - loss: 3.7374 - accuracy: 0.4219 - val_loss: 2.0451 - val_accuracy: 0.5172\n",
      "Epoch 3/50\n",
      "2/2 [==============================] - 13s 9s/step - loss: 2.6708 - accuracy: 0.3438 - val_loss: 3.1705 - val_accuracy: 0.3276\n",
      "Epoch 4/50\n",
      "2/2 [==============================] - 14s 10s/step - loss: 2.1675 - accuracy: 0.4688 - val_loss: 4.1983 - val_accuracy: 0.1552\n",
      "Epoch 5/50\n",
      "2/2 [==============================] - 14s 10s/step - loss: 2.3244 - accuracy: 0.4219 - val_loss: 1.1134 - val_accuracy: 0.5862\n",
      "Epoch 6/50\n",
      "2/2 [==============================] - 14s 10s/step - loss: 1.3107 - accuracy: 0.5469 - val_loss: 1.8117 - val_accuracy: 0.4483\n",
      "Epoch 7/50\n",
      "2/2 [==============================] - 14s 10s/step - loss: 1.8730 - accuracy: 0.4844 - val_loss: 1.0154 - val_accuracy: 0.5862\n",
      "Epoch 8/50\n",
      "2/2 [==============================] - 14s 10s/step - loss: 1.3457 - accuracy: 0.4531 - val_loss: 2.2045 - val_accuracy: 0.1897\n",
      "Epoch 9/50\n",
      "2/2 [==============================] - 14s 10s/step - loss: 1.4276 - accuracy: 0.5469 - val_loss: 1.0356 - val_accuracy: 0.6034\n",
      "Epoch 10/50\n",
      "2/2 [==============================] - 14s 10s/step - loss: 0.9382 - accuracy: 0.5625 - val_loss: 1.4723 - val_accuracy: 0.5517\n",
      "Epoch 11/50\n",
      "2/2 [==============================] - 13s 10s/step - loss: 1.0635 - accuracy: 0.6094 - val_loss: 0.9192 - val_accuracy: 0.6379\n",
      "Epoch 12/50\n",
      "2/2 [==============================] - 12s 8s/step - loss: 0.7958 - accuracy: 0.6719 - val_loss: 1.4150 - val_accuracy: 0.4138\n",
      "Epoch 13/50\n",
      "2/2 [==============================] - 14s 10s/step - loss: 0.9189 - accuracy: 0.5625 - val_loss: 1.2119 - val_accuracy: 0.5517\n",
      "Epoch 14/50\n",
      "2/2 [==============================] - 13s 9s/step - loss: 0.7859 - accuracy: 0.5938 - val_loss: 1.0406 - val_accuracy: 0.6379\n",
      "Epoch 15/50\n",
      "2/2 [==============================] - 12s 9s/step - loss: 0.6141 - accuracy: 0.7031 - val_loss: 1.0110 - val_accuracy: 0.5862\n",
      "Epoch 16/50\n",
      "2/2 [==============================] - 12s 9s/step - loss: 0.5464 - accuracy: 0.7188 - val_loss: 1.2886 - val_accuracy: 0.4310\n",
      "Epoch 17/50\n",
      "2/2 [==============================] - 12s 9s/step - loss: 0.4759 - accuracy: 0.7969 - val_loss: 0.8444 - val_accuracy: 0.6897\n",
      "Epoch 18/50\n",
      "2/2 [==============================] - 13s 9s/step - loss: 0.4667 - accuracy: 0.7812 - val_loss: 0.8469 - val_accuracy: 0.7069\n",
      "Epoch 19/50\n",
      "2/2 [==============================] - 13s 9s/step - loss: 0.4279 - accuracy: 0.8125 - val_loss: 0.9414 - val_accuracy: 0.6552\n",
      "Epoch 20/50\n",
      "2/2 [==============================] - 12s 9s/step - loss: 0.3807 - accuracy: 0.8125 - val_loss: 0.8681 - val_accuracy: 0.6724\n",
      "Epoch 21/50\n",
      "2/2 [==============================] - 12s 9s/step - loss: 0.4790 - accuracy: 0.7656 - val_loss: 0.8438 - val_accuracy: 0.6724\n",
      "Epoch 22/50\n",
      "2/2 [==============================] - 12s 9s/step - loss: 0.3743 - accuracy: 0.8281 - val_loss: 1.0236 - val_accuracy: 0.6034\n",
      "Epoch 23/50\n",
      "2/2 [==============================] - 12s 9s/step - loss: 0.3344 - accuracy: 0.8438 - val_loss: 0.8474 - val_accuracy: 0.7241\n",
      "Epoch 24/50\n",
      "2/2 [==============================] - 12s 9s/step - loss: 0.3515 - accuracy: 0.8125 - val_loss: 0.8735 - val_accuracy: 0.6724\n",
      "Epoch 25/50\n",
      "2/2 [==============================] - 12s 9s/step - loss: 0.3552 - accuracy: 0.8906 - val_loss: 0.9033 - val_accuracy: 0.7069\n",
      "Epoch 26/50\n",
      "2/2 [==============================] - 12s 9s/step - loss: 0.3197 - accuracy: 0.8750 - val_loss: 0.8228 - val_accuracy: 0.7586\n",
      "Epoch 27/50\n",
      "2/2 [==============================] - 12s 9s/step - loss: 0.2905 - accuracy: 0.8906 - val_loss: 0.8392 - val_accuracy: 0.6897\n",
      "Epoch 28/50\n",
      "2/2 [==============================] - 12s 9s/step - loss: 0.3449 - accuracy: 0.9062 - val_loss: 0.8258 - val_accuracy: 0.7414\n",
      "Epoch 29/50\n",
      "2/2 [==============================] - 12s 9s/step - loss: 0.3235 - accuracy: 0.8906 - val_loss: 0.8655 - val_accuracy: 0.6552\n",
      "Epoch 30/50\n",
      "2/2 [==============================] - 12s 9s/step - loss: 0.3683 - accuracy: 0.8438 - val_loss: 0.8300 - val_accuracy: 0.7241\n",
      "Epoch 31/50\n",
      "2/2 [==============================] - 12s 9s/step - loss: 0.2635 - accuracy: 0.9219 - val_loss: 0.8314 - val_accuracy: 0.7759\n",
      "Epoch 32/50\n",
      "2/2 [==============================] - 13s 9s/step - loss: 0.2933 - accuracy: 0.8750 - val_loss: 0.8923 - val_accuracy: 0.7069\n",
      "Epoch 33/50\n",
      "2/2 [==============================] - 13s 9s/step - loss: 0.2886 - accuracy: 0.9062 - val_loss: 0.9385 - val_accuracy: 0.6552\n",
      "Epoch 34/50\n",
      "2/2 [==============================] - 13s 9s/step - loss: 0.2545 - accuracy: 0.9219 - val_loss: 0.8556 - val_accuracy: 0.7069\n",
      "Epoch 35/50\n",
      "2/2 [==============================] - 12s 9s/step - loss: 0.2853 - accuracy: 0.8906 - val_loss: 0.8611 - val_accuracy: 0.7586\n",
      "Epoch 36/50\n",
      "2/2 [==============================] - 13s 9s/step - loss: 0.2803 - accuracy: 0.8750 - val_loss: 0.8823 - val_accuracy: 0.7241\n",
      "Epoch 37/50\n",
      "2/2 [==============================] - 13s 9s/step - loss: 0.3048 - accuracy: 0.9062 - val_loss: 0.8203 - val_accuracy: 0.7586\n",
      "Epoch 38/50\n",
      "2/2 [==============================] - 13s 9s/step - loss: 0.2198 - accuracy: 0.9688 - val_loss: 0.9607 - val_accuracy: 0.6207\n",
      "Epoch 39/50\n",
      "2/2 [==============================] - 12s 9s/step - loss: 0.2423 - accuracy: 0.9375 - val_loss: 0.8144 - val_accuracy: 0.7414\n",
      "Epoch 40/50\n",
      "2/2 [==============================] - 12s 9s/step - loss: 0.2128 - accuracy: 0.9844 - val_loss: 0.8190 - val_accuracy: 0.7586\n",
      "Epoch 41/50\n",
      "2/2 [==============================] - 12s 9s/step - loss: 0.2222 - accuracy: 0.9375 - val_loss: 0.9016 - val_accuracy: 0.7069\n",
      "Epoch 42/50\n",
      "2/2 [==============================] - 12s 9s/step - loss: 0.2107 - accuracy: 0.9531 - val_loss: 0.8203 - val_accuracy: 0.7241\n",
      "Epoch 43/50\n",
      "2/2 [==============================] - 12s 9s/step - loss: 0.1859 - accuracy: 0.9844 - val_loss: 0.8106 - val_accuracy: 0.7759\n",
      "Epoch 44/50\n",
      "2/2 [==============================] - 12s 9s/step - loss: 0.1933 - accuracy: 0.9688 - val_loss: 0.8769 - val_accuracy: 0.7069\n",
      "Epoch 45/50\n",
      "2/2 [==============================] - 12s 9s/step - loss: 0.2982 - accuracy: 0.9219 - val_loss: 0.8268 - val_accuracy: 0.7586\n",
      "Epoch 46/50\n",
      "2/2 [==============================] - 12s 9s/step - loss: 0.1714 - accuracy: 0.9688 - val_loss: 0.8264 - val_accuracy: 0.7586\n",
      "Epoch 47/50\n",
      "2/2 [==============================] - 12s 9s/step - loss: 0.2368 - accuracy: 0.9375 - val_loss: 0.8440 - val_accuracy: 0.7759\n",
      "Epoch 48/50\n",
      "2/2 [==============================] - 12s 9s/step - loss: 0.1836 - accuracy: 0.9531 - val_loss: 1.0012 - val_accuracy: 0.6207\n",
      "Epoch 49/50\n",
      "2/2 [==============================] - 12s 9s/step - loss: 0.2774 - accuracy: 0.9062 - val_loss: 0.8345 - val_accuracy: 0.7759\n",
      "Epoch 50/50\n",
      "2/2 [==============================] - 14s 10s/step - loss: 0.1807 - accuracy: 0.9531 - val_loss: 0.8602 - val_accuracy: 0.7414\n"
     ]
    }
   ],
   "source": [
    "# fit the model\n",
    "# Run the cell. It will take some time to execute\n",
    "r = model.fit_generator(\n",
    "  training_set,\n",
    "  validation_data=test_set,\n",
    "  epochs=50,\n",
    "  steps_per_epoch=len(training_set),\n",
    "  validation_steps=len(test_set)\n",
    ")"
   ]
  },
  {
   "cell_type": "code",
   "execution_count": 25,
   "metadata": {},
   "outputs": [
    {
     "data": {
      "text/plain": [
       "{'loss': [5.162003993988037,\n",
       "  3.7374250888824463,\n",
       "  2.6708121299743652,\n",
       "  2.1674728393554688,\n",
       "  2.324399948120117,\n",
       "  1.3106892108917236,\n",
       "  1.8730230331420898,\n",
       "  1.3457144498825073,\n",
       "  1.4276158809661865,\n",
       "  0.9382320642471313,\n",
       "  1.0634527206420898,\n",
       "  0.7958157658576965,\n",
       "  0.9188722372055054,\n",
       "  0.785922646522522,\n",
       "  0.6140930652618408,\n",
       "  0.546368420124054,\n",
       "  0.47586965560913086,\n",
       "  0.4667356014251709,\n",
       "  0.4279491603374481,\n",
       "  0.3806581497192383,\n",
       "  0.47900354862213135,\n",
       "  0.3742678165435791,\n",
       "  0.3343905210494995,\n",
       "  0.3514740765094757,\n",
       "  0.35523444414138794,\n",
       "  0.3197230100631714,\n",
       "  0.29046735167503357,\n",
       "  0.3449346423149109,\n",
       "  0.32352709770202637,\n",
       "  0.3683216869831085,\n",
       "  0.26347073912620544,\n",
       "  0.2932679355144501,\n",
       "  0.2885657250881195,\n",
       "  0.25454217195510864,\n",
       "  0.2852513790130615,\n",
       "  0.28030484914779663,\n",
       "  0.30484360456466675,\n",
       "  0.21984130144119263,\n",
       "  0.24227368831634521,\n",
       "  0.21277126669883728,\n",
       "  0.22215846180915833,\n",
       "  0.21072906255722046,\n",
       "  0.18588411808013916,\n",
       "  0.19330036640167236,\n",
       "  0.29816800355911255,\n",
       "  0.17141416668891907,\n",
       "  0.23681020736694336,\n",
       "  0.1835852563381195,\n",
       "  0.27743762731552124,\n",
       "  0.18068665266036987],\n",
       " 'accuracy': [0.359375,\n",
       "  0.421875,\n",
       "  0.34375,\n",
       "  0.46875,\n",
       "  0.421875,\n",
       "  0.546875,\n",
       "  0.484375,\n",
       "  0.453125,\n",
       "  0.546875,\n",
       "  0.5625,\n",
       "  0.609375,\n",
       "  0.671875,\n",
       "  0.5625,\n",
       "  0.59375,\n",
       "  0.703125,\n",
       "  0.71875,\n",
       "  0.796875,\n",
       "  0.78125,\n",
       "  0.8125,\n",
       "  0.8125,\n",
       "  0.765625,\n",
       "  0.828125,\n",
       "  0.84375,\n",
       "  0.8125,\n",
       "  0.890625,\n",
       "  0.875,\n",
       "  0.890625,\n",
       "  0.90625,\n",
       "  0.890625,\n",
       "  0.84375,\n",
       "  0.921875,\n",
       "  0.875,\n",
       "  0.90625,\n",
       "  0.921875,\n",
       "  0.890625,\n",
       "  0.875,\n",
       "  0.90625,\n",
       "  0.96875,\n",
       "  0.9375,\n",
       "  0.984375,\n",
       "  0.9375,\n",
       "  0.953125,\n",
       "  0.984375,\n",
       "  0.96875,\n",
       "  0.921875,\n",
       "  0.96875,\n",
       "  0.9375,\n",
       "  0.953125,\n",
       "  0.90625,\n",
       "  0.953125],\n",
       " 'val_loss': [8.420257568359375,\n",
       "  2.0450856685638428,\n",
       "  3.170524835586548,\n",
       "  4.19832181930542,\n",
       "  1.1133580207824707,\n",
       "  1.8117218017578125,\n",
       "  1.015365719795227,\n",
       "  2.2045202255249023,\n",
       "  1.0355719327926636,\n",
       "  1.472293496131897,\n",
       "  0.9191860556602478,\n",
       "  1.415012001991272,\n",
       "  1.2118624448776245,\n",
       "  1.0405821800231934,\n",
       "  1.0110176801681519,\n",
       "  1.288573980331421,\n",
       "  0.8444160223007202,\n",
       "  0.8468832969665527,\n",
       "  0.9413633942604065,\n",
       "  0.8680841326713562,\n",
       "  0.8437602519989014,\n",
       "  1.0236393213272095,\n",
       "  0.8474319577217102,\n",
       "  0.8734676837921143,\n",
       "  0.9032727479934692,\n",
       "  0.8228161931037903,\n",
       "  0.8392032980918884,\n",
       "  0.8258389234542847,\n",
       "  0.8655238747596741,\n",
       "  0.8299717307090759,\n",
       "  0.8313812017440796,\n",
       "  0.8922975063323975,\n",
       "  0.9385031461715698,\n",
       "  0.8556482791900635,\n",
       "  0.8610794544219971,\n",
       "  0.8822562098503113,\n",
       "  0.8202931880950928,\n",
       "  0.9606742858886719,\n",
       "  0.814373254776001,\n",
       "  0.8190255165100098,\n",
       "  0.9016160368919373,\n",
       "  0.8203092217445374,\n",
       "  0.8105667233467102,\n",
       "  0.8769077658653259,\n",
       "  0.8268318176269531,\n",
       "  0.8264403343200684,\n",
       "  0.8440360426902771,\n",
       "  1.001216173171997,\n",
       "  0.8345292210578918,\n",
       "  0.8601529598236084],\n",
       " 'val_accuracy': [0.17241379618644714,\n",
       "  0.517241358757019,\n",
       "  0.32758620381355286,\n",
       "  0.1551724076271057,\n",
       "  0.5862069129943848,\n",
       "  0.4482758641242981,\n",
       "  0.5862069129943848,\n",
       "  0.18965516984462738,\n",
       "  0.6034482717514038,\n",
       "  0.5517241358757019,\n",
       "  0.6379310488700867,\n",
       "  0.4137931168079376,\n",
       "  0.5517241358757019,\n",
       "  0.6379310488700867,\n",
       "  0.5862069129943848,\n",
       "  0.43103447556495667,\n",
       "  0.6896551847457886,\n",
       "  0.7068965435028076,\n",
       "  0.6551724076271057,\n",
       "  0.6724137663841248,\n",
       "  0.6724137663841248,\n",
       "  0.6034482717514038,\n",
       "  0.7241379022598267,\n",
       "  0.6724137663841248,\n",
       "  0.7068965435028076,\n",
       "  0.7586206793785095,\n",
       "  0.6896551847457886,\n",
       "  0.7413793206214905,\n",
       "  0.6551724076271057,\n",
       "  0.7241379022598267,\n",
       "  0.7758620977401733,\n",
       "  0.7068965435028076,\n",
       "  0.6551724076271057,\n",
       "  0.7068965435028076,\n",
       "  0.7586206793785095,\n",
       "  0.7241379022598267,\n",
       "  0.7586206793785095,\n",
       "  0.6206896305084229,\n",
       "  0.7413793206214905,\n",
       "  0.7586206793785095,\n",
       "  0.7068965435028076,\n",
       "  0.7241379022598267,\n",
       "  0.7758620977401733,\n",
       "  0.7068965435028076,\n",
       "  0.7586206793785095,\n",
       "  0.7586206793785095,\n",
       "  0.7758620977401733,\n",
       "  0.6206896305084229,\n",
       "  0.7758620977401733,\n",
       "  0.7413793206214905]}"
      ]
     },
     "execution_count": 25,
     "metadata": {},
     "output_type": "execute_result"
    }
   ],
   "source": [
    "r.history"
   ]
  },
  {
   "cell_type": "code",
   "execution_count": 26,
   "metadata": {},
   "outputs": [
    {
     "data": {
      "image/png": "[encoded data removed]",
      "text/plain": [
       "<Figure size 640x480 with 1 Axes>"
      ]
     },
     "metadata": {},
     "output_type": "display_data"
    },
    {
     "data": {
      "image/png": "[encoded data removed]",
      "text/plain": [
       "<Figure size 640x480 with 1 Axes>"
      ]
     },
     "metadata": {},
     "output_type": "display_data"
    },
    {
     "data": {
      "text/plain": [
       "<Figure size 640x480 with 0 Axes>"
      ]
     },
     "metadata": {},
     "output_type": "display_data"
    }
   ],
   "source": [
    "# plot the loss\n",
    "plt.plot(r.history['loss'], label='train loss')\n",
    "plt.plot(r.history['val_loss'], label='val loss')\n",
    "plt.legend()\n",
    "plt.show()\n",
    "plt.savefig('LossVal_loss')\n",
    "\n",
    "# plot the accuracy\n",
    "plt.plot(r.history['accuracy'], label='train acc')\n",
    "plt.plot(r.history['val_accuracy'], label='val acc')\n",
    "plt.legend()\n",
    "plt.show()\n",
    "plt.savefig('AccVal_acc')"
   ]
  },
  {
   "cell_type": "code",
   "execution_count": 27,
   "metadata": {},
   "outputs": [],
   "source": [
    "# save it as a h5 file\n",
    "\n",
    "\n",
    "from tensorflow.keras.models import load_model\n",
    "\n",
    "model.save('model_resnet50.h5')"
   ]
  },
  {
   "cell_type": "code",
   "execution_count": null,
   "metadata": {},
   "outputs": [],
   "source": []
  },
  {
   "cell_type": "code",
   "execution_count": 28,
   "metadata": {},
   "outputs": [
    {
     "name": "stdout",
     "output_type": "stream",
     "text": [
      "2/2 [==============================] - 6s 2s/step\n"
     ]
    }
   ],
   "source": [
    "\n",
    "y_pred = model.predict(test_set)\n"
   ]
  },
  {
   "cell_type": "code",
   "execution_count": 29,
   "metadata": {},
   "outputs": [
    {
     "data": {
      "text/plain": [
       "array([[1.3473408e-01, 9.8585784e-02, 7.6668018e-01],\n",
       "       [2.4745093e-01, 1.6402481e-01, 5.8852422e-01],\n",
       "       [9.2314273e-01, 4.9154367e-02, 2.7702946e-02],\n",
       "       [3.6215663e-01, 5.9617740e-01, 4.1666016e-02],\n",
       "       [6.8905883e-02, 2.9568239e-03, 9.2813730e-01],\n",
       "       [1.9129151e-01, 5.2209938e-01, 2.8660914e-01],\n",
       "       [7.2029769e-02, 7.9902172e-01, 1.2894844e-01],\n",
       "       [6.6523859e-03, 3.5701084e-01, 6.3633674e-01],\n",
       "       [2.9530317e-02, 6.0155582e-01, 3.6891383e-01],\n",
       "       [4.9434062e-02, 1.6556221e-01, 7.8500372e-01],\n",
       "       [7.6697874e-01, 1.6553834e-01, 6.7482896e-02],\n",
       "       [1.4735228e-01, 3.6145109e-01, 4.9119657e-01],\n",
       "       [4.1755013e-02, 3.5697343e-03, 9.5467520e-01],\n",
       "       [8.6013830e-01, 1.3787992e-01, 1.9817434e-03],\n",
       "       [2.1417623e-02, 2.0529353e-03, 9.7652948e-01],\n",
       "       [9.4872582e-01, 2.6456323e-02, 2.4817912e-02],\n",
       "       [4.9080677e-02, 9.0655333e-01, 4.4366058e-02],\n",
       "       [2.2394083e-01, 5.6818521e-01, 2.0787394e-01],\n",
       "       [5.5396713e-06, 9.9881983e-04, 9.9899560e-01],\n",
       "       [1.6028065e-03, 6.2102324e-01, 3.7737402e-01],\n",
       "       [2.5611131e-02, 8.9574087e-01, 7.8647949e-02],\n",
       "       [2.7546836e-02, 9.0032309e-01, 7.2130144e-02],\n",
       "       [6.2128371e-01, 1.9682625e-01, 1.8189004e-01],\n",
       "       [6.3049898e-02, 7.8594404e-01, 1.5100606e-01],\n",
       "       [6.1726286e-03, 9.8604000e-01, 7.7873408e-03],\n",
       "       [4.0270679e-02, 3.3363190e-01, 6.2609744e-01],\n",
       "       [5.1045563e-02, 2.2584002e-01, 7.2311443e-01],\n",
       "       [3.8931447e-01, 6.0353491e-02, 5.5033207e-01],\n",
       "       [4.7780484e-02, 6.4325786e-01, 3.0896163e-01],\n",
       "       [3.1828515e-02, 4.1139686e-01, 5.5677468e-01],\n",
       "       [5.7036154e-02, 4.4453716e-01, 4.9842677e-01],\n",
       "       [6.6762857e-02, 3.7381411e-01, 5.5942297e-01],\n",
       "       [9.8293358e-01, 9.2530670e-03, 7.8133093e-03],\n",
       "       [1.0698766e-01, 8.6803001e-01, 2.4982354e-02],\n",
       "       [1.7130363e-03, 9.5951754e-01, 3.8769435e-02],\n",
       "       [6.9101234e-03, 2.2366947e-02, 9.7072291e-01],\n",
       "       [1.1504790e-02, 9.3552107e-01, 5.2974094e-02],\n",
       "       [1.7941928e-02, 1.5462835e-01, 8.2742971e-01],\n",
       "       [3.8657014e-03, 2.4219370e-01, 7.5394058e-01],\n",
       "       [1.1341392e-01, 4.3939602e-01, 4.4718999e-01],\n",
       "       [7.5340742e-01, 9.5121793e-02, 1.5147069e-01],\n",
       "       [5.7117827e-02, 2.4176695e-04, 9.4264042e-01],\n",
       "       [2.3024308e-02, 9.7436821e-01, 2.6074348e-03],\n",
       "       [1.0577230e-01, 4.4275320e-01, 4.5147443e-01],\n",
       "       [4.2795828e-01, 3.2359487e-01, 2.4844685e-01],\n",
       "       [1.3719045e-02, 9.5544201e-01, 3.0838910e-02],\n",
       "       [8.2333612e-01, 6.2018470e-03, 1.7046203e-01],\n",
       "       [1.7087816e-05, 5.3281640e-04, 9.9945015e-01],\n",
       "       [4.0913192e-03, 9.8147571e-01, 1.4433006e-02],\n",
       "       [4.7145862e-02, 7.3262918e-01, 2.2022496e-01],\n",
       "       [3.5866180e-01, 3.7815621e-01, 2.6318201e-01],\n",
       "       [1.0408848e-01, 1.1110205e-01, 7.8480941e-01],\n",
       "       [1.1001515e-03, 9.7573996e-01, 2.3159923e-02],\n",
       "       [3.5151076e-02, 8.4996259e-01, 1.1488629e-01],\n",
       "       [7.8641519e-02, 8.4647955e-03, 9.1289377e-01],\n",
       "       [1.9799376e-01, 6.1620694e-01, 1.8579932e-01],\n",
       "       [4.0783960e-02, 6.5902406e-01, 3.0019200e-01],\n",
       "       [9.4422184e-02, 1.9514985e-02, 8.8606280e-01]], dtype=float32)"
      ]
     },
     "execution_count": 29,
     "metadata": {},
     "output_type": "execute_result"
    }
   ],
   "source": [
    "y_pred"
   ]
  },
  {
   "cell_type": "code",
   "execution_count": 30,
   "metadata": {},
   "outputs": [],
   "source": [
    "import numpy as np\n",
    "y_pred = np.argmax(y_pred, axis=1)"
   ]
  },
  {
   "cell_type": "code",
   "execution_count": 31,
   "metadata": {},
   "outputs": [
    {
     "data": {
      "text/plain": [
       "array([2, 2, 0, 1, 2, 1, 1, 2, 1, 2, 0, 2, 2, 0, 2, 0, 1, 1, 2, 1, 1, 1,\n",
       "       0, 1, 1, 2, 2, 2, 1, 2, 2, 2, 0, 1, 1, 2, 1, 2, 2, 2, 0, 2, 1, 2,\n",
       "       0, 1, 0, 2, 1, 1, 1, 2, 1, 1, 2, 1, 1, 2], dtype=int64)"
      ]
     },
     "execution_count": 31,
     "metadata": {},
     "output_type": "execute_result"
    }
   ],
   "source": [
    "y_pred"
   ]
  },
  {
   "cell_type": "code",
   "execution_count": null,
   "metadata": {},
   "outputs": [],
   "source": []
  },
  {
   "cell_type": "code",
   "execution_count": 32,
   "metadata": {},
   "outputs": [],
   "source": [
    "from tensorflow.keras.models import load_model\n",
    "from tensorflow.keras.preprocessing import image"
   ]
  },
  {
   "cell_type": "code",
   "execution_count": 33,
   "metadata": {},
   "outputs": [],
   "source": [
    "model=load_model('model_resnet50.h5')"
   ]
  },
  {
   "cell_type": "code",
   "execution_count": 54,
   "metadata": {},
   "outputs": [],
   "source": [
    "img=image.load_img('download.jfif',target_size=(224,224))\n",
    "\n"
   ]
  },
  {
   "cell_type": "code",
   "execution_count": 55,
   "metadata": {},
   "outputs": [
    {
     "data": {
      "text/plain": [
       "array([[[ 42.,  33.,  24.],\n",
       "        [ 48.,  39.,  30.],\n",
       "        [ 51.,  43.,  32.],\n",
       "        ...,\n",
       "        [158., 132., 119.],\n",
       "        [126., 100.,  87.],\n",
       "        [150., 124., 111.]],\n",
       "\n",
       "       [[ 21.,  12.,   3.],\n",
       "        [ 32.,  23.,  14.],\n",
       "        [ 39.,  31.,  20.],\n",
       "        ...,\n",
       "        [116.,  90.,  77.],\n",
       "        [ 97.,  71.,  58.],\n",
       "        [104.,  78.,  65.]],\n",
       "\n",
       "       [[ 21.,  12.,   3.],\n",
       "        [ 32.,  23.,  14.],\n",
       "        [ 39.,  31.,  20.],\n",
       "        ...,\n",
       "        [116.,  90.,  77.],\n",
       "        [ 97.,  71.,  58.],\n",
       "        [104.,  78.,  65.]],\n",
       "\n",
       "       ...,\n",
       "\n",
       "       [[ 49.,  45.,  46.],\n",
       "        [ 49.,  45.,  46.],\n",
       "        [ 49.,  45.,  46.],\n",
       "        ...,\n",
       "        [ 63.,  61.,  66.],\n",
       "        [ 71.,  69.,  74.],\n",
       "        [ 71.,  69.,  74.]],\n",
       "\n",
       "       [[ 49.,  45.,  46.],\n",
       "        [ 49.,  45.,  46.],\n",
       "        [ 49.,  45.,  46.],\n",
       "        ...,\n",
       "        [ 63.,  61.,  66.],\n",
       "        [ 71.,  69.,  74.],\n",
       "        [ 71.,  69.,  74.]],\n",
       "\n",
       "       [[ 45.,  41.,  42.],\n",
       "        [ 45.,  41.,  42.],\n",
       "        [ 45.,  41.,  42.],\n",
       "        ...,\n",
       "        [ 57.,  56.,  62.],\n",
       "        [ 62.,  61.,  67.],\n",
       "        [ 62.,  61.,  67.]]], dtype=float32)"
      ]
     },
     "execution_count": 55,
     "metadata": {},
     "output_type": "execute_result"
    }
   ],
   "source": [
    "x=image.img_to_array(img)\n",
    "x"
   ]
  },
  {
   "cell_type": "code",
   "execution_count": 56,
   "metadata": {},
   "outputs": [
    {
     "data": {
      "text/plain": [
       "(224, 224, 3)"
      ]
     },
     "execution_count": 56,
     "metadata": {},
     "output_type": "execute_result"
    }
   ],
   "source": [
    "x.shape"
   ]
  },
  {
   "cell_type": "code",
   "execution_count": 57,
   "metadata": {},
   "outputs": [],
   "source": [
    "x=x/255"
   ]
  },
  {
   "cell_type": "code",
   "execution_count": 58,
   "metadata": {},
   "outputs": [
    {
     "data": {
      "text/plain": [
       "(1, 224, 224, 3)"
      ]
     },
     "execution_count": 58,
     "metadata": {},
     "output_type": "execute_result"
    }
   ],
   "source": [
    "x=np.expand_dims(x,axis=0)\n",
    "img_data=preprocess_input(x)\n",
    "img_data.shape"
   ]
  },
  {
   "cell_type": "code",
   "execution_count": 59,
   "metadata": {},
   "outputs": [
    {
     "name": "stdout",
     "output_type": "stream",
     "text": [
      "1/1 [==============================] - 0s 133ms/step\n"
     ]
    },
    {
     "data": {
      "text/plain": [
       "array([[9.677928e-04, 5.335518e-04, 9.984987e-01]], dtype=float32)"
      ]
     },
     "execution_count": 59,
     "metadata": {},
     "output_type": "execute_result"
    }
   ],
   "source": [
    "model.predict(img_data)"
   ]
  },
  {
   "cell_type": "code",
   "execution_count": 60,
   "metadata": {},
   "outputs": [
    {
     "name": "stdout",
     "output_type": "stream",
     "text": [
      "1/1 [==============================] - 0s 132ms/step\n"
     ]
    }
   ],
   "source": [
    "a=np.argmax(model.predict(img_data), axis=1)"
   ]
  },
  {
   "cell_type": "code",
   "execution_count": 61,
   "metadata": {},
   "outputs": [
    {
     "data": {
      "text/plain": [
       "array([2], dtype=int64)"
      ]
     },
     "execution_count": 61,
     "metadata": {},
     "output_type": "execute_result"
    }
   ],
   "source": [
    "a"
   ]
  },
  {
   "cell_type": "code",
   "execution_count": null,
   "metadata": {},
   "outputs": [],
   "source": []
  }
 ],
 "metadata": {
  "kernelspec": {
   "display_name": "Python 3 (ipykernel)",
   "language": "python",
   "name": "python3"
  },
  "language_info": {
   "codemirror_mode": {
    "name": "ipython",
    "version": 3
   },
   "file_extension": ".py",
   "mimetype": "text/x-python",
   "name": "python",
   "nbconvert_exporter": "python",
   "pygments_lexer": "ipython3",
   "version": "3.8.18"
  }
 },
 "nbformat": 4,
 "nbformat_minor": 2
}
