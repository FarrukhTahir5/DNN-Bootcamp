{
 "cells": [
  {
   "cell_type": "code",
   "execution_count": 2,
   "metadata": {},
   "outputs": [],
   "source": [
    "import os\n",
    "import face_recognition\n",
    "\n",
    "def load_images_from_folder(folder):\n",
    "    images = []\n",
    "    for filename in os.listdir(folder):\n",
    "        img = face_recognition.load_image_file(os.path.join(folder, filename))\n",
    "        images.append(img)\n",
    "    return images\n",
    "\n",
    "def encode_faces(dataset_path):\n",
    "    known_face_encodings = []\n",
    "    known_face_names = []\n",
    "\n",
    "    for person_name in os.listdir(dataset_path):\n",
    "        person_folder = os.path.join(dataset_path, person_name)\n",
    "        person_images = load_images_from_folder(person_folder)\n",
    "        \n",
    "        for image in person_images:\n",
    "            face_encodings = face_recognition.face_encodings(image)\n",
    "            if face_encodings:\n",
    "                known_face_encodings.append(face_encodings[0])\n",
    "                known_face_names.append(person_name)\n",
    "    \n",
    "    return known_face_encodings, known_face_names\n",
    "\n",
    "dataset_path = \"./dataset\"\n",
    "known_face_encodings, known_face_names = encode_faces(dataset_path)\n"
   ]
  },
  {
   "cell_type": "code",
   "execution_count": null,
   "metadata": {},
   "outputs": [],
   "source": []
  }
 ],
 "metadata": {
  "kernelspec": {
   "display_name": "base",
   "language": "python",
   "name": "python3"
  },
  "language_info": {
   "codemirror_mode": {
    "name": "ipython",
    "version": 3
   },
   "file_extension": ".py",
   "mimetype": "text/x-python",
   "name": "python",
   "nbconvert_exporter": "python",
   "pygments_lexer": "ipython3",
   "version": "3.11.0"
  }
 },
 "nbformat": 4,
 "nbformat_minor": 2
}
